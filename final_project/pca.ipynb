{
 "cells": [
  {
   "cell_type": "code",
   "execution_count": 106,
   "metadata": {},
   "outputs": [],
   "source": [
    "import pandas as pd\n",
    "import numpy as np\n",
    "\n",
    "from sklearn.decomposition import PCA\n",
    "from sklearn import preprocessing\n",
    "import statsmodels.api as sm\n",
    "from statsmodels.formula.api import ols\n",
    "\n",
    "\n",
    "import matplotlib.pyplot as plt\n",
    "import seaborn as sns\n",
    "import plotly.graph_objects as go\n",
    "from plotly.subplots import make_subplots\n"
   ]
  },
  {
   "attachments": {},
   "cell_type": "markdown",
   "metadata": {},
   "source": [
    "## Import, Seperate Data"
   ]
  },
  {
   "cell_type": "code",
   "execution_count": 3,
   "metadata": {},
   "outputs": [
    {
     "data": {
      "text/html": [
       "<div>\n",
       "<style scoped>\n",
       "    .dataframe tbody tr th:only-of-type {\n",
       "        vertical-align: middle;\n",
       "    }\n",
       "\n",
       "    .dataframe tbody tr th {\n",
       "        vertical-align: top;\n",
       "    }\n",
       "\n",
       "    .dataframe thead th {\n",
       "        text-align: right;\n",
       "    }\n",
       "</style>\n",
       "<table border=\"1\" class=\"dataframe\">\n",
       "  <thead>\n",
       "    <tr style=\"text-align: right;\">\n",
       "      <th></th>\n",
       "      <th>Planning zone</th>\n",
       "      <th># of Zone Types</th>\n",
       "      <th>% Open Space</th>\n",
       "      <th>% Residential</th>\n",
       "      <th>% Commercial</th>\n",
       "      <th>% Industrial</th>\n",
       "      <th>% Mixed Use</th>\n",
       "      <th>% Paved Area</th>\n",
       "      <th>Distance covered in 30 minutes using Public Transportation (km)</th>\n",
       "      <th>Distance covered in 30 minutes using a Car (km)</th>\n",
       "      <th>...</th>\n",
       "      <th>Distance covered in 30 minutes Cycling (km)</th>\n",
       "      <th>Cost of daily commute per capita, per km using bus (S$)</th>\n",
       "      <th>Cost of daily commute per capita per km using MRT (S$)</th>\n",
       "      <th>Cost of daily commute per capita per km Driving (S$)</th>\n",
       "      <th>% households with income &gt;= USD8000/month</th>\n",
       "      <th>% residents with high school degrees</th>\n",
       "      <th>% residents with university degrees</th>\n",
       "      <th>% residents employed</th>\n",
       "      <th>% residents 15y + literate</th>\n",
       "      <th>% residents 15y + literate in 2+ languages</th>\n",
       "    </tr>\n",
       "  </thead>\n",
       "  <tbody>\n",
       "    <tr>\n",
       "      <th>0</th>\n",
       "      <td>Bukit Merah</td>\n",
       "      <td>5</td>\n",
       "      <td>0.387</td>\n",
       "      <td>0.283</td>\n",
       "      <td>0.121</td>\n",
       "      <td>0.021</td>\n",
       "      <td>0.063</td>\n",
       "      <td>0.126</td>\n",
       "      <td>6.13</td>\n",
       "      <td>14.66</td>\n",
       "      <td>...</td>\n",
       "      <td>6.84</td>\n",
       "      <td>0.13</td>\n",
       "      <td>0.06</td>\n",
       "      <td>0.30</td>\n",
       "      <td>0.4105</td>\n",
       "      <td>0.6912</td>\n",
       "      <td>0.3211</td>\n",
       "      <td>0.6121</td>\n",
       "      <td>0.9546</td>\n",
       "      <td>0.6615</td>\n",
       "    </tr>\n",
       "    <tr>\n",
       "      <th>1</th>\n",
       "      <td>Bukit Timah</td>\n",
       "      <td>5</td>\n",
       "      <td>0.030</td>\n",
       "      <td>0.655</td>\n",
       "      <td>0.004</td>\n",
       "      <td>0.003</td>\n",
       "      <td>0.156</td>\n",
       "      <td>0.152</td>\n",
       "      <td>1.02</td>\n",
       "      <td>15.41</td>\n",
       "      <td>...</td>\n",
       "      <td>4.94</td>\n",
       "      <td>0.13</td>\n",
       "      <td>0.06</td>\n",
       "      <td>0.30</td>\n",
       "      <td>0.6971</td>\n",
       "      <td>0.9217</td>\n",
       "      <td>0.6633</td>\n",
       "      <td>0.5877</td>\n",
       "      <td>0.9912</td>\n",
       "      <td>0.7409</td>\n",
       "    </tr>\n",
       "    <tr>\n",
       "      <th>2</th>\n",
       "      <td>Geylang</td>\n",
       "      <td>5</td>\n",
       "      <td>0.063</td>\n",
       "      <td>0.416</td>\n",
       "      <td>0.233</td>\n",
       "      <td>0.023</td>\n",
       "      <td>0.073</td>\n",
       "      <td>0.193</td>\n",
       "      <td>4.16</td>\n",
       "      <td>22.02</td>\n",
       "      <td>...</td>\n",
       "      <td>6.11</td>\n",
       "      <td>0.13</td>\n",
       "      <td>0.06</td>\n",
       "      <td>0.29</td>\n",
       "      <td>0.4081</td>\n",
       "      <td>0.6993</td>\n",
       "      <td>0.3013</td>\n",
       "      <td>0.6311</td>\n",
       "      <td>0.9540</td>\n",
       "      <td>0.6697</td>\n",
       "    </tr>\n",
       "    <tr>\n",
       "      <th>3</th>\n",
       "      <td>Kallang</td>\n",
       "      <td>5</td>\n",
       "      <td>0.285</td>\n",
       "      <td>0.288</td>\n",
       "      <td>0.126</td>\n",
       "      <td>0.027</td>\n",
       "      <td>0.063</td>\n",
       "      <td>0.211</td>\n",
       "      <td>5.96</td>\n",
       "      <td>19.98</td>\n",
       "      <td>...</td>\n",
       "      <td>6.17</td>\n",
       "      <td>0.13</td>\n",
       "      <td>0.06</td>\n",
       "      <td>0.30</td>\n",
       "      <td>0.4116</td>\n",
       "      <td>0.6888</td>\n",
       "      <td>0.3311</td>\n",
       "      <td>0.6217</td>\n",
       "      <td>0.9513</td>\n",
       "      <td>0.6481</td>\n",
       "    </tr>\n",
       "    <tr>\n",
       "      <th>4</th>\n",
       "      <td>Novena</td>\n",
       "      <td>5</td>\n",
       "      <td>0.118</td>\n",
       "      <td>0.579</td>\n",
       "      <td>0.054</td>\n",
       "      <td>0.022</td>\n",
       "      <td>0.059</td>\n",
       "      <td>0.168</td>\n",
       "      <td>10.74</td>\n",
       "      <td>21.14</td>\n",
       "      <td>...</td>\n",
       "      <td>6.41</td>\n",
       "      <td>0.13</td>\n",
       "      <td>0.06</td>\n",
       "      <td>0.30</td>\n",
       "      <td>0.5478</td>\n",
       "      <td>0.8130</td>\n",
       "      <td>0.4786</td>\n",
       "      <td>0.6261</td>\n",
       "      <td>0.9740</td>\n",
       "      <td>0.7019</td>\n",
       "    </tr>\n",
       "    <tr>\n",
       "      <th>5</th>\n",
       "      <td>Queenstown</td>\n",
       "      <td>5</td>\n",
       "      <td>0.115</td>\n",
       "      <td>0.454</td>\n",
       "      <td>0.156</td>\n",
       "      <td>0.045</td>\n",
       "      <td>0.072</td>\n",
       "      <td>0.159</td>\n",
       "      <td>11.36</td>\n",
       "      <td>12.65</td>\n",
       "      <td>...</td>\n",
       "      <td>7.32</td>\n",
       "      <td>0.12</td>\n",
       "      <td>0.06</td>\n",
       "      <td>0.29</td>\n",
       "      <td>0.4482</td>\n",
       "      <td>0.7317</td>\n",
       "      <td>0.3735</td>\n",
       "      <td>0.6015</td>\n",
       "      <td>0.9627</td>\n",
       "      <td>0.6721</td>\n",
       "    </tr>\n",
       "    <tr>\n",
       "      <th>6</th>\n",
       "      <td>Tanglin</td>\n",
       "      <td>5</td>\n",
       "      <td>0.191</td>\n",
       "      <td>0.621</td>\n",
       "      <td>0.030</td>\n",
       "      <td>0.016</td>\n",
       "      <td>0.030</td>\n",
       "      <td>0.112</td>\n",
       "      <td>4.63</td>\n",
       "      <td>18.58</td>\n",
       "      <td>...</td>\n",
       "      <td>6.34</td>\n",
       "      <td>0.15</td>\n",
       "      <td>0.08</td>\n",
       "      <td>0.32</td>\n",
       "      <td>0.7249</td>\n",
       "      <td>0.9507</td>\n",
       "      <td>0.7377</td>\n",
       "      <td>0.6097</td>\n",
       "      <td>0.9949</td>\n",
       "      <td>0.7162</td>\n",
       "    </tr>\n",
       "    <tr>\n",
       "      <th>7</th>\n",
       "      <td>Toa Payoh</td>\n",
       "      <td>5</td>\n",
       "      <td>0.077</td>\n",
       "      <td>0.457</td>\n",
       "      <td>0.153</td>\n",
       "      <td>0.001</td>\n",
       "      <td>0.109</td>\n",
       "      <td>0.203</td>\n",
       "      <td>5.62</td>\n",
       "      <td>21.01</td>\n",
       "      <td>...</td>\n",
       "      <td>6.71</td>\n",
       "      <td>0.12</td>\n",
       "      <td>0.06</td>\n",
       "      <td>0.29</td>\n",
       "      <td>0.4084</td>\n",
       "      <td>0.7269</td>\n",
       "      <td>0.3196</td>\n",
       "      <td>0.6065</td>\n",
       "      <td>0.9584</td>\n",
       "      <td>0.6700</td>\n",
       "    </tr>\n",
       "    <tr>\n",
       "      <th>8</th>\n",
       "      <td>CBD Area</td>\n",
       "      <td>5</td>\n",
       "      <td>0.319</td>\n",
       "      <td>0.130</td>\n",
       "      <td>0.190</td>\n",
       "      <td>0.040</td>\n",
       "      <td>0.126</td>\n",
       "      <td>0.193</td>\n",
       "      <td>6.23</td>\n",
       "      <td>18.32</td>\n",
       "      <td>...</td>\n",
       "      <td>5.23</td>\n",
       "      <td>0.16</td>\n",
       "      <td>0.08</td>\n",
       "      <td>0.32</td>\n",
       "      <td>0.5858</td>\n",
       "      <td>0.8288</td>\n",
       "      <td>0.5620</td>\n",
       "      <td>0.6507</td>\n",
       "      <td>0.9742</td>\n",
       "      <td>0.7050</td>\n",
       "    </tr>\n",
       "  </tbody>\n",
       "</table>\n",
       "<p>9 rows × 21 columns</p>\n",
       "</div>"
      ],
      "text/plain": [
       "  Planning zone  # of Zone Types  % Open Space  % Residential  % Commercial  \\\n",
       "0   Bukit Merah                5         0.387          0.283         0.121   \n",
       "1   Bukit Timah                5         0.030          0.655         0.004   \n",
       "2       Geylang                5         0.063          0.416         0.233   \n",
       "3       Kallang                5         0.285          0.288         0.126   \n",
       "4        Novena                5         0.118          0.579         0.054   \n",
       "5    Queenstown                5         0.115          0.454         0.156   \n",
       "6       Tanglin                5         0.191          0.621         0.030   \n",
       "7     Toa Payoh                5         0.077          0.457         0.153   \n",
       "8      CBD Area                5         0.319          0.130         0.190   \n",
       "\n",
       "   % Industrial  % Mixed Use  % Paved Area  \\\n",
       "0         0.021        0.063         0.126   \n",
       "1         0.003        0.156         0.152   \n",
       "2         0.023        0.073         0.193   \n",
       "3         0.027        0.063         0.211   \n",
       "4         0.022        0.059         0.168   \n",
       "5         0.045        0.072         0.159   \n",
       "6         0.016        0.030         0.112   \n",
       "7         0.001        0.109         0.203   \n",
       "8         0.040        0.126         0.193   \n",
       "\n",
       "   Distance covered in 30 minutes using Public Transportation (km)  \\\n",
       "0                                               6.13                 \n",
       "1                                               1.02                 \n",
       "2                                               4.16                 \n",
       "3                                               5.96                 \n",
       "4                                              10.74                 \n",
       "5                                              11.36                 \n",
       "6                                               4.63                 \n",
       "7                                               5.62                 \n",
       "8                                               6.23                 \n",
       "\n",
       "   Distance covered in 30 minutes using a Car (km)  ...  \\\n",
       "0                                            14.66  ...   \n",
       "1                                            15.41  ...   \n",
       "2                                            22.02  ...   \n",
       "3                                            19.98  ...   \n",
       "4                                            21.14  ...   \n",
       "5                                            12.65  ...   \n",
       "6                                            18.58  ...   \n",
       "7                                            21.01  ...   \n",
       "8                                            18.32  ...   \n",
       "\n",
       "   Distance covered in 30 minutes Cycling (km)  \\\n",
       "0                                         6.84   \n",
       "1                                         4.94   \n",
       "2                                         6.11   \n",
       "3                                         6.17   \n",
       "4                                         6.41   \n",
       "5                                         7.32   \n",
       "6                                         6.34   \n",
       "7                                         6.71   \n",
       "8                                         5.23   \n",
       "\n",
       "   Cost of daily commute per capita, per km using bus (S$)  \\\n",
       "0                                               0.13         \n",
       "1                                               0.13         \n",
       "2                                               0.13         \n",
       "3                                               0.13         \n",
       "4                                               0.13         \n",
       "5                                               0.12         \n",
       "6                                               0.15         \n",
       "7                                               0.12         \n",
       "8                                               0.16         \n",
       "\n",
       "   Cost of daily commute per capita per km using MRT (S$)  \\\n",
       "0                                               0.06        \n",
       "1                                               0.06        \n",
       "2                                               0.06        \n",
       "3                                               0.06        \n",
       "4                                               0.06        \n",
       "5                                               0.06        \n",
       "6                                               0.08        \n",
       "7                                               0.06        \n",
       "8                                               0.08        \n",
       "\n",
       "   Cost of daily commute per capita per km Driving (S$)  \\\n",
       "0                                               0.30      \n",
       "1                                               0.30      \n",
       "2                                               0.29      \n",
       "3                                               0.30      \n",
       "4                                               0.30      \n",
       "5                                               0.29      \n",
       "6                                               0.32      \n",
       "7                                               0.29      \n",
       "8                                               0.32      \n",
       "\n",
       "   % households with income >= USD8000/month  \\\n",
       "0                                     0.4105   \n",
       "1                                     0.6971   \n",
       "2                                     0.4081   \n",
       "3                                     0.4116   \n",
       "4                                     0.5478   \n",
       "5                                     0.4482   \n",
       "6                                     0.7249   \n",
       "7                                     0.4084   \n",
       "8                                     0.5858   \n",
       "\n",
       "   % residents with high school degrees  % residents with university degrees  \\\n",
       "0                                0.6912                               0.3211   \n",
       "1                                0.9217                               0.6633   \n",
       "2                                0.6993                               0.3013   \n",
       "3                                0.6888                               0.3311   \n",
       "4                                0.8130                               0.4786   \n",
       "5                                0.7317                               0.3735   \n",
       "6                                0.9507                               0.7377   \n",
       "7                                0.7269                               0.3196   \n",
       "8                                0.8288                               0.5620   \n",
       "\n",
       "   % residents employed  % residents 15y + literate  \\\n",
       "0                0.6121                      0.9546   \n",
       "1                0.5877                      0.9912   \n",
       "2                0.6311                      0.9540   \n",
       "3                0.6217                      0.9513   \n",
       "4                0.6261                      0.9740   \n",
       "5                0.6015                      0.9627   \n",
       "6                0.6097                      0.9949   \n",
       "7                0.6065                      0.9584   \n",
       "8                0.6507                      0.9742   \n",
       "\n",
       "   % residents 15y + literate in 2+ languages  \n",
       "0                                      0.6615  \n",
       "1                                      0.7409  \n",
       "2                                      0.6697  \n",
       "3                                      0.6481  \n",
       "4                                      0.7019  \n",
       "5                                      0.6721  \n",
       "6                                      0.7162  \n",
       "7                                      0.6700  \n",
       "8                                      0.7050  \n",
       "\n",
       "[9 rows x 21 columns]"
      ]
     },
     "execution_count": 3,
     "metadata": {},
     "output_type": "execute_result"
    }
   ],
   "source": [
    "sing_df = pd.read_excel(\"sheets/land_use_constrained_data.xlsx\", sheet_name=1, header=5, usecols=\"B:V\", nrows=9)\n",
    "\n",
    "sf_df = pd.read_excel(\"sheets/land_use_constrained_data.xlsx\", sheet_name=1, header=55, usecols=\"B:V\", nrows=11)\n",
    "\n",
    "sing_df"
   ]
  },
  {
   "cell_type": "code",
   "execution_count": 23,
   "metadata": {},
   "outputs": [
    {
     "data": {
      "text/html": [
       "<div>\n",
       "<style scoped>\n",
       "    .dataframe tbody tr th:only-of-type {\n",
       "        vertical-align: middle;\n",
       "    }\n",
       "\n",
       "    .dataframe tbody tr th {\n",
       "        vertical-align: top;\n",
       "    }\n",
       "\n",
       "    .dataframe thead th {\n",
       "        text-align: right;\n",
       "    }\n",
       "</style>\n",
       "<table border=\"1\" class=\"dataframe\">\n",
       "  <thead>\n",
       "    <tr style=\"text-align: right;\">\n",
       "      <th></th>\n",
       "      <th>% households with income &gt;= USD8000/month</th>\n",
       "      <th>% residents with high school degrees</th>\n",
       "      <th>% residents with university degrees</th>\n",
       "      <th>% residents employed</th>\n",
       "      <th>% residents 15y + literate</th>\n",
       "      <th>% residents 15y + literate in 2+ languages</th>\n",
       "    </tr>\n",
       "  </thead>\n",
       "  <tbody>\n",
       "    <tr>\n",
       "      <th>0</th>\n",
       "      <td>0.4105</td>\n",
       "      <td>0.6912</td>\n",
       "      <td>0.3211</td>\n",
       "      <td>0.6121</td>\n",
       "      <td>0.9546</td>\n",
       "      <td>0.6615</td>\n",
       "    </tr>\n",
       "    <tr>\n",
       "      <th>1</th>\n",
       "      <td>0.6971</td>\n",
       "      <td>0.9217</td>\n",
       "      <td>0.6633</td>\n",
       "      <td>0.5877</td>\n",
       "      <td>0.9912</td>\n",
       "      <td>0.7409</td>\n",
       "    </tr>\n",
       "    <tr>\n",
       "      <th>2</th>\n",
       "      <td>0.4081</td>\n",
       "      <td>0.6993</td>\n",
       "      <td>0.3013</td>\n",
       "      <td>0.6311</td>\n",
       "      <td>0.9540</td>\n",
       "      <td>0.6697</td>\n",
       "    </tr>\n",
       "    <tr>\n",
       "      <th>3</th>\n",
       "      <td>0.4116</td>\n",
       "      <td>0.6888</td>\n",
       "      <td>0.3311</td>\n",
       "      <td>0.6217</td>\n",
       "      <td>0.9513</td>\n",
       "      <td>0.6481</td>\n",
       "    </tr>\n",
       "    <tr>\n",
       "      <th>4</th>\n",
       "      <td>0.5478</td>\n",
       "      <td>0.8130</td>\n",
       "      <td>0.4786</td>\n",
       "      <td>0.6261</td>\n",
       "      <td>0.9740</td>\n",
       "      <td>0.7019</td>\n",
       "    </tr>\n",
       "    <tr>\n",
       "      <th>5</th>\n",
       "      <td>0.4482</td>\n",
       "      <td>0.7317</td>\n",
       "      <td>0.3735</td>\n",
       "      <td>0.6015</td>\n",
       "      <td>0.9627</td>\n",
       "      <td>0.6721</td>\n",
       "    </tr>\n",
       "    <tr>\n",
       "      <th>6</th>\n",
       "      <td>0.7249</td>\n",
       "      <td>0.9507</td>\n",
       "      <td>0.7377</td>\n",
       "      <td>0.6097</td>\n",
       "      <td>0.9949</td>\n",
       "      <td>0.7162</td>\n",
       "    </tr>\n",
       "    <tr>\n",
       "      <th>7</th>\n",
       "      <td>0.4084</td>\n",
       "      <td>0.7269</td>\n",
       "      <td>0.3196</td>\n",
       "      <td>0.6065</td>\n",
       "      <td>0.9584</td>\n",
       "      <td>0.6700</td>\n",
       "    </tr>\n",
       "    <tr>\n",
       "      <th>8</th>\n",
       "      <td>0.5858</td>\n",
       "      <td>0.8288</td>\n",
       "      <td>0.5620</td>\n",
       "      <td>0.6507</td>\n",
       "      <td>0.9742</td>\n",
       "      <td>0.7050</td>\n",
       "    </tr>\n",
       "  </tbody>\n",
       "</table>\n",
       "</div>"
      ],
      "text/plain": [
       "   % households with income >= USD8000/month  \\\n",
       "0                                     0.4105   \n",
       "1                                     0.6971   \n",
       "2                                     0.4081   \n",
       "3                                     0.4116   \n",
       "4                                     0.5478   \n",
       "5                                     0.4482   \n",
       "6                                     0.7249   \n",
       "7                                     0.4084   \n",
       "8                                     0.5858   \n",
       "\n",
       "   % residents with high school degrees  % residents with university degrees  \\\n",
       "0                                0.6912                               0.3211   \n",
       "1                                0.9217                               0.6633   \n",
       "2                                0.6993                               0.3013   \n",
       "3                                0.6888                               0.3311   \n",
       "4                                0.8130                               0.4786   \n",
       "5                                0.7317                               0.3735   \n",
       "6                                0.9507                               0.7377   \n",
       "7                                0.7269                               0.3196   \n",
       "8                                0.8288                               0.5620   \n",
       "\n",
       "   % residents employed  % residents 15y + literate  \\\n",
       "0                0.6121                      0.9546   \n",
       "1                0.5877                      0.9912   \n",
       "2                0.6311                      0.9540   \n",
       "3                0.6217                      0.9513   \n",
       "4                0.6261                      0.9740   \n",
       "5                0.6015                      0.9627   \n",
       "6                0.6097                      0.9949   \n",
       "7                0.6065                      0.9584   \n",
       "8                0.6507                      0.9742   \n",
       "\n",
       "   % residents 15y + literate in 2+ languages  \n",
       "0                                      0.6615  \n",
       "1                                      0.7409  \n",
       "2                                      0.6697  \n",
       "3                                      0.6481  \n",
       "4                                      0.7019  \n",
       "5                                      0.6721  \n",
       "6                                      0.7162  \n",
       "7                                      0.6700  \n",
       "8                                      0.7050  "
      ]
     },
     "execution_count": 23,
     "metadata": {},
     "output_type": "execute_result"
    }
   ],
   "source": [
    "landuse = sing_df.iloc[:, 2:8]\n",
    "dists = sing_df.iloc[:, 8:12]\n",
    "costs = sing_df.iloc[:, 12:15]\n",
    "qol = sing_df.iloc[:, 15:22]\n",
    "qol"
   ]
  },
  {
   "attachments": {},
   "cell_type": "markdown",
   "metadata": {},
   "source": [
    "## Dimensionality Reduction "
   ]
  },
  {
   "attachments": {},
   "cell_type": "markdown",
   "metadata": {},
   "source": [
    "### Reduce dimensions"
   ]
  },
  {
   "cell_type": "code",
   "execution_count": 81,
   "metadata": {},
   "outputs": [],
   "source": [
    "def get_pca_vals(df, name):\n",
    "    scaled_df  = preprocessing.scale(df)\n",
    "    pca = PCA()\n",
    "    pca.fit(scaled_df)\n",
    "\n",
    "    pca_data = pca.transform(scaled_df)\n",
    "\n",
    "    #The following code constructs the Scree plot\n",
    "    per_var = np.round(pca.explained_variance_ratio_* 100, decimals=1)\n",
    "    short_labels = ['PC' + str(x) for x in range(1, len(per_var)+1)]\n",
    "    labels = [name + '_PC' + str(x) for x in range(1, len(per_var)+1)]\n",
    "    \n",
    "    fig, (ax0, ax) = plt.subplots(nrows=1, ncols=2, figsize=[10,3])\n",
    "    ax0.bar(x=range(1,len(per_var)+1), height=per_var, tick_label=short_labels)\n",
    "    ax0.set_ylabel('Percentage of Explained Variance')\n",
    "    ax0.set_xlabel('Principal Component')\n",
    "    ax0.set_title('Scree Plot')\n",
    "    # plt.close()\n",
    "\n",
    "\n",
    "    pca_df = pd.DataFrame(pca_data, columns=labels)\n",
    "\n",
    "    # plot_fig, ax = plt.subplots()\n",
    " \n",
    "    ax.scatter(pca_df[f\"{name}_PC1\"], pca_df[f\"{name}_PC2\"])\n",
    "    ax.set_title('PCA Graph')\n",
    "    ax.set_xlabel('PC1 - {0}%'.format(per_var[0]))\n",
    "    ax.set_ylabel('PC2 - {0}%'.format(per_var[1]))\n",
    "    \n",
    "    for sample in pca_df.index:\n",
    "        ax.annotate(sample, (pca_df[f\"{name}_PC1\"].loc[sample], pca_df[f\"{name}_PC2\"].loc[sample]))\n",
    "    \n",
    "    plt.close()\n",
    "    \n",
    "\n",
    "    return pca_df, fig"
   ]
  },
  {
   "cell_type": "code",
   "execution_count": 83,
   "metadata": {},
   "outputs": [
    {
     "data": {
      "text/html": [
       "<div>\n",
       "<style scoped>\n",
       "    .dataframe tbody tr th:only-of-type {\n",
       "        vertical-align: middle;\n",
       "    }\n",
       "\n",
       "    .dataframe tbody tr th {\n",
       "        vertical-align: top;\n",
       "    }\n",
       "\n",
       "    .dataframe thead th {\n",
       "        text-align: right;\n",
       "    }\n",
       "</style>\n",
       "<table border=\"1\" class=\"dataframe\">\n",
       "  <thead>\n",
       "    <tr style=\"text-align: right;\">\n",
       "      <th></th>\n",
       "      <th>landuse_PC1</th>\n",
       "      <th>landuse_PC2</th>\n",
       "      <th>landuse_PC3</th>\n",
       "      <th>landuse_PC4</th>\n",
       "      <th>landuse_PC5</th>\n",
       "      <th>landuse_PC6</th>\n",
       "    </tr>\n",
       "  </thead>\n",
       "  <tbody>\n",
       "    <tr>\n",
       "      <th>0</th>\n",
       "      <td>-0.796598</td>\n",
       "      <td>1.856685</td>\n",
       "      <td>-1.122299</td>\n",
       "      <td>-0.438002</td>\n",
       "      <td>-0.654820</td>\n",
       "      <td>-0.003496</td>\n",
       "    </tr>\n",
       "    <tr>\n",
       "      <th>1</th>\n",
       "      <td>2.871224</td>\n",
       "      <td>-1.335731</td>\n",
       "      <td>-1.183618</td>\n",
       "      <td>0.711872</td>\n",
       "      <td>0.041812</td>\n",
       "      <td>-0.001853</td>\n",
       "    </tr>\n",
       "    <tr>\n",
       "      <th>2</th>\n",
       "      <td>-0.758982</td>\n",
       "      <td>-1.082186</td>\n",
       "      <td>1.357267</td>\n",
       "      <td>-0.282567</td>\n",
       "      <td>-0.671053</td>\n",
       "      <td>-0.000220</td>\n",
       "    </tr>\n",
       "    <tr>\n",
       "      <th>3</th>\n",
       "      <td>-1.474902</td>\n",
       "      <td>0.043365</td>\n",
       "      <td>-0.051896</td>\n",
       "      <td>-0.750051</td>\n",
       "      <td>0.999676</td>\n",
       "      <td>-0.002604</td>\n",
       "    </tr>\n",
       "    <tr>\n",
       "      <th>4</th>\n",
       "      <td>1.123259</td>\n",
       "      <td>0.399260</td>\n",
       "      <td>0.630828</td>\n",
       "      <td>0.000629</td>\n",
       "      <td>0.693383</td>\n",
       "      <td>0.000868</td>\n",
       "    </tr>\n",
       "    <tr>\n",
       "      <th>5</th>\n",
       "      <td>-0.635362</td>\n",
       "      <td>0.383649</td>\n",
       "      <td>1.140671</td>\n",
       "      <td>1.285326</td>\n",
       "      <td>-0.071372</td>\n",
       "      <td>-0.002610</td>\n",
       "    </tr>\n",
       "    <tr>\n",
       "      <th>6</th>\n",
       "      <td>1.884922</td>\n",
       "      <td>2.110547</td>\n",
       "      <td>0.322233</td>\n",
       "      <td>-0.238876</td>\n",
       "      <td>-0.113095</td>\n",
       "      <td>0.004218</td>\n",
       "    </tr>\n",
       "    <tr>\n",
       "      <th>7</th>\n",
       "      <td>0.533765</td>\n",
       "      <td>-1.875180</td>\n",
       "      <td>-0.041619</td>\n",
       "      <td>-0.987326</td>\n",
       "      <td>-0.275656</td>\n",
       "      <td>0.001096</td>\n",
       "    </tr>\n",
       "    <tr>\n",
       "      <th>8</th>\n",
       "      <td>-2.747326</td>\n",
       "      <td>-0.500409</td>\n",
       "      <td>-1.051567</td>\n",
       "      <td>0.698995</td>\n",
       "      <td>0.051125</td>\n",
       "      <td>0.004601</td>\n",
       "    </tr>\n",
       "  </tbody>\n",
       "</table>\n",
       "</div>"
      ],
      "text/plain": [
       "   landuse_PC1  landuse_PC2  landuse_PC3  landuse_PC4  landuse_PC5  \\\n",
       "0    -0.796598     1.856685    -1.122299    -0.438002    -0.654820   \n",
       "1     2.871224    -1.335731    -1.183618     0.711872     0.041812   \n",
       "2    -0.758982    -1.082186     1.357267    -0.282567    -0.671053   \n",
       "3    -1.474902     0.043365    -0.051896    -0.750051     0.999676   \n",
       "4     1.123259     0.399260     0.630828     0.000629     0.693383   \n",
       "5    -0.635362     0.383649     1.140671     1.285326    -0.071372   \n",
       "6     1.884922     2.110547     0.322233    -0.238876    -0.113095   \n",
       "7     0.533765    -1.875180    -0.041619    -0.987326    -0.275656   \n",
       "8    -2.747326    -0.500409    -1.051567     0.698995     0.051125   \n",
       "\n",
       "   landuse_PC6  \n",
       "0    -0.003496  \n",
       "1    -0.001853  \n",
       "2    -0.000220  \n",
       "3    -0.002604  \n",
       "4     0.000868  \n",
       "5    -0.002610  \n",
       "6     0.004218  \n",
       "7     0.001096  \n",
       "8     0.004601  "
      ]
     },
     "execution_count": 83,
     "metadata": {},
     "output_type": "execute_result"
    }
   ],
   "source": [
    "df0, f = get_pca_vals(landuse, name=\"landuse\")\n",
    "landuse_pca = df0.iloc[:, 0:2]\n",
    "landuse_pca\n",
    "df0"
   ]
  },
  {
   "cell_type": "code",
   "execution_count": 85,
   "metadata": {},
   "outputs": [
    {
     "data": {
      "text/html": [
       "<div>\n",
       "<style scoped>\n",
       "    .dataframe tbody tr th:only-of-type {\n",
       "        vertical-align: middle;\n",
       "    }\n",
       "\n",
       "    .dataframe tbody tr th {\n",
       "        vertical-align: top;\n",
       "    }\n",
       "\n",
       "    .dataframe thead th {\n",
       "        text-align: right;\n",
       "    }\n",
       "</style>\n",
       "<table border=\"1\" class=\"dataframe\">\n",
       "  <thead>\n",
       "    <tr style=\"text-align: right;\">\n",
       "      <th></th>\n",
       "      <th>dists_PC1</th>\n",
       "      <th>dists_PC2</th>\n",
       "    </tr>\n",
       "  </thead>\n",
       "  <tbody>\n",
       "    <tr>\n",
       "      <th>0</th>\n",
       "      <td>1.289241</td>\n",
       "      <td>0.588870</td>\n",
       "    </tr>\n",
       "    <tr>\n",
       "      <th>1</th>\n",
       "      <td>-1.666245</td>\n",
       "      <td>1.952562</td>\n",
       "    </tr>\n",
       "    <tr>\n",
       "      <th>2</th>\n",
       "      <td>-1.485174</td>\n",
       "      <td>-0.855300</td>\n",
       "    </tr>\n",
       "    <tr>\n",
       "      <th>3</th>\n",
       "      <td>-0.544672</td>\n",
       "      <td>-0.467392</td>\n",
       "    </tr>\n",
       "    <tr>\n",
       "      <th>4</th>\n",
       "      <td>0.927640</td>\n",
       "      <td>-0.836605</td>\n",
       "    </tr>\n",
       "    <tr>\n",
       "      <th>5</th>\n",
       "      <td>2.893889</td>\n",
       "      <td>-0.096957</td>\n",
       "    </tr>\n",
       "    <tr>\n",
       "      <th>6</th>\n",
       "      <td>0.066598</td>\n",
       "      <td>0.430925</td>\n",
       "    </tr>\n",
       "    <tr>\n",
       "      <th>7</th>\n",
       "      <td>-1.202263</td>\n",
       "      <td>-1.946987</td>\n",
       "    </tr>\n",
       "    <tr>\n",
       "      <th>8</th>\n",
       "      <td>-0.279012</td>\n",
       "      <td>1.230884</td>\n",
       "    </tr>\n",
       "  </tbody>\n",
       "</table>\n",
       "</div>"
      ],
      "text/plain": [
       "   dists_PC1  dists_PC2\n",
       "0   1.289241   0.588870\n",
       "1  -1.666245   1.952562\n",
       "2  -1.485174  -0.855300\n",
       "3  -0.544672  -0.467392\n",
       "4   0.927640  -0.836605\n",
       "5   2.893889  -0.096957\n",
       "6   0.066598   0.430925\n",
       "7  -1.202263  -1.946987\n",
       "8  -0.279012   1.230884"
      ]
     },
     "execution_count": 85,
     "metadata": {},
     "output_type": "execute_result"
    }
   ],
   "source": [
    "df1, f = get_pca_vals(dists, \"dists\")\n",
    "dists_pca = df1.iloc[:, 0:2]\n",
    "f\n",
    "dists_pca"
   ]
  },
  {
   "cell_type": "code",
   "execution_count": 86,
   "metadata": {},
   "outputs": [
    {
     "data": {
      "text/html": [
       "<div>\n",
       "<style scoped>\n",
       "    .dataframe tbody tr th:only-of-type {\n",
       "        vertical-align: middle;\n",
       "    }\n",
       "\n",
       "    .dataframe tbody tr th {\n",
       "        vertical-align: top;\n",
       "    }\n",
       "\n",
       "    .dataframe thead th {\n",
       "        text-align: right;\n",
       "    }\n",
       "</style>\n",
       "<table border=\"1\" class=\"dataframe\">\n",
       "  <thead>\n",
       "    <tr style=\"text-align: right;\">\n",
       "      <th></th>\n",
       "      <th>costs_PC1</th>\n",
       "    </tr>\n",
       "  </thead>\n",
       "  <tbody>\n",
       "    <tr>\n",
       "      <th>0</th>\n",
       "      <td>-0.520357</td>\n",
       "    </tr>\n",
       "    <tr>\n",
       "      <th>1</th>\n",
       "      <td>-0.520357</td>\n",
       "    </tr>\n",
       "    <tr>\n",
       "      <th>2</th>\n",
       "      <td>-1.045616</td>\n",
       "    </tr>\n",
       "    <tr>\n",
       "      <th>3</th>\n",
       "      <td>-0.520357</td>\n",
       "    </tr>\n",
       "    <tr>\n",
       "      <th>4</th>\n",
       "      <td>-0.520357</td>\n",
       "    </tr>\n",
       "    <tr>\n",
       "      <th>5</th>\n",
       "      <td>-1.510600</td>\n",
       "    </tr>\n",
       "    <tr>\n",
       "      <th>6</th>\n",
       "      <td>2.841630</td>\n",
       "    </tr>\n",
       "    <tr>\n",
       "      <th>7</th>\n",
       "      <td>-1.510600</td>\n",
       "    </tr>\n",
       "    <tr>\n",
       "      <th>8</th>\n",
       "      <td>3.306614</td>\n",
       "    </tr>\n",
       "  </tbody>\n",
       "</table>\n",
       "</div>"
      ],
      "text/plain": [
       "   costs_PC1\n",
       "0  -0.520357\n",
       "1  -0.520357\n",
       "2  -1.045616\n",
       "3  -0.520357\n",
       "4  -0.520357\n",
       "5  -1.510600\n",
       "6   2.841630\n",
       "7  -1.510600\n",
       "8   3.306614"
      ]
     },
     "execution_count": 86,
     "metadata": {},
     "output_type": "execute_result"
    }
   ],
   "source": [
    "df2, f = get_pca_vals(costs, \"costs\")\n",
    "costs_pca = df2.iloc[:, 0:1]\n",
    "f\n",
    "costs_pca"
   ]
  },
  {
   "cell_type": "code",
   "execution_count": 87,
   "metadata": {},
   "outputs": [
    {
     "data": {
      "text/html": [
       "<div>\n",
       "<style scoped>\n",
       "    .dataframe tbody tr th:only-of-type {\n",
       "        vertical-align: middle;\n",
       "    }\n",
       "\n",
       "    .dataframe tbody tr th {\n",
       "        vertical-align: top;\n",
       "    }\n",
       "\n",
       "    .dataframe thead th {\n",
       "        text-align: right;\n",
       "    }\n",
       "</style>\n",
       "<table border=\"1\" class=\"dataframe\">\n",
       "  <thead>\n",
       "    <tr style=\"text-align: right;\">\n",
       "      <th></th>\n",
       "      <th>qol_PC1</th>\n",
       "    </tr>\n",
       "  </thead>\n",
       "  <tbody>\n",
       "    <tr>\n",
       "      <th>0</th>\n",
       "      <td>-1.973704</td>\n",
       "    </tr>\n",
       "    <tr>\n",
       "      <th>1</th>\n",
       "      <td>3.599082</td>\n",
       "    </tr>\n",
       "    <tr>\n",
       "      <th>2</th>\n",
       "      <td>-2.021887</td>\n",
       "    </tr>\n",
       "    <tr>\n",
       "      <th>3</th>\n",
       "      <td>-2.317609</td>\n",
       "    </tr>\n",
       "    <tr>\n",
       "      <th>4</th>\n",
       "      <td>0.648939</td>\n",
       "    </tr>\n",
       "    <tr>\n",
       "      <th>5</th>\n",
       "      <td>-1.022627</td>\n",
       "    </tr>\n",
       "    <tr>\n",
       "      <th>6</th>\n",
       "      <td>3.636619</td>\n",
       "    </tr>\n",
       "    <tr>\n",
       "      <th>7</th>\n",
       "      <td>-1.537915</td>\n",
       "    </tr>\n",
       "    <tr>\n",
       "      <th>8</th>\n",
       "      <td>0.989102</td>\n",
       "    </tr>\n",
       "  </tbody>\n",
       "</table>\n",
       "</div>"
      ],
      "text/plain": [
       "    qol_PC1\n",
       "0 -1.973704\n",
       "1  3.599082\n",
       "2 -2.021887\n",
       "3 -2.317609\n",
       "4  0.648939\n",
       "5 -1.022627\n",
       "6  3.636619\n",
       "7 -1.537915\n",
       "8  0.989102"
      ]
     },
     "execution_count": 87,
     "metadata": {},
     "output_type": "execute_result"
    }
   ],
   "source": [
    "df3, f = get_pca_vals(qol, \"qol\")\n",
    "qol_pca = df3.iloc[:, 0:1]\n",
    "qol_pca"
   ]
  },
  {
   "attachments": {},
   "cell_type": "markdown",
   "metadata": {},
   "source": [
    "### Make PCA DF"
   ]
  },
  {
   "cell_type": "code",
   "execution_count": 91,
   "metadata": {},
   "outputs": [
    {
     "data": {
      "text/html": [
       "<div>\n",
       "<style scoped>\n",
       "    .dataframe tbody tr th:only-of-type {\n",
       "        vertical-align: middle;\n",
       "    }\n",
       "\n",
       "    .dataframe tbody tr th {\n",
       "        vertical-align: top;\n",
       "    }\n",
       "\n",
       "    .dataframe thead th {\n",
       "        text-align: right;\n",
       "    }\n",
       "</style>\n",
       "<table border=\"1\" class=\"dataframe\">\n",
       "  <thead>\n",
       "    <tr style=\"text-align: right;\">\n",
       "      <th></th>\n",
       "      <th>landuse_PC1</th>\n",
       "      <th>landuse_PC2</th>\n",
       "      <th>dists_PC1</th>\n",
       "      <th>dists_PC2</th>\n",
       "      <th>costs_PC1</th>\n",
       "      <th>qol_PC1</th>\n",
       "    </tr>\n",
       "  </thead>\n",
       "  <tbody>\n",
       "    <tr>\n",
       "      <th>0</th>\n",
       "      <td>-0.796598</td>\n",
       "      <td>1.856685</td>\n",
       "      <td>1.289241</td>\n",
       "      <td>0.588870</td>\n",
       "      <td>-0.520357</td>\n",
       "      <td>-1.973704</td>\n",
       "    </tr>\n",
       "    <tr>\n",
       "      <th>1</th>\n",
       "      <td>2.871224</td>\n",
       "      <td>-1.335731</td>\n",
       "      <td>-1.666245</td>\n",
       "      <td>1.952562</td>\n",
       "      <td>-0.520357</td>\n",
       "      <td>3.599082</td>\n",
       "    </tr>\n",
       "    <tr>\n",
       "      <th>2</th>\n",
       "      <td>-0.758982</td>\n",
       "      <td>-1.082186</td>\n",
       "      <td>-1.485174</td>\n",
       "      <td>-0.855300</td>\n",
       "      <td>-1.045616</td>\n",
       "      <td>-2.021887</td>\n",
       "    </tr>\n",
       "    <tr>\n",
       "      <th>3</th>\n",
       "      <td>-1.474902</td>\n",
       "      <td>0.043365</td>\n",
       "      <td>-0.544672</td>\n",
       "      <td>-0.467392</td>\n",
       "      <td>-0.520357</td>\n",
       "      <td>-2.317609</td>\n",
       "    </tr>\n",
       "    <tr>\n",
       "      <th>4</th>\n",
       "      <td>1.123259</td>\n",
       "      <td>0.399260</td>\n",
       "      <td>0.927640</td>\n",
       "      <td>-0.836605</td>\n",
       "      <td>-0.520357</td>\n",
       "      <td>0.648939</td>\n",
       "    </tr>\n",
       "    <tr>\n",
       "      <th>5</th>\n",
       "      <td>-0.635362</td>\n",
       "      <td>0.383649</td>\n",
       "      <td>2.893889</td>\n",
       "      <td>-0.096957</td>\n",
       "      <td>-1.510600</td>\n",
       "      <td>-1.022627</td>\n",
       "    </tr>\n",
       "    <tr>\n",
       "      <th>6</th>\n",
       "      <td>1.884922</td>\n",
       "      <td>2.110547</td>\n",
       "      <td>0.066598</td>\n",
       "      <td>0.430925</td>\n",
       "      <td>2.841630</td>\n",
       "      <td>3.636619</td>\n",
       "    </tr>\n",
       "    <tr>\n",
       "      <th>7</th>\n",
       "      <td>0.533765</td>\n",
       "      <td>-1.875180</td>\n",
       "      <td>-1.202263</td>\n",
       "      <td>-1.946987</td>\n",
       "      <td>-1.510600</td>\n",
       "      <td>-1.537915</td>\n",
       "    </tr>\n",
       "    <tr>\n",
       "      <th>8</th>\n",
       "      <td>-2.747326</td>\n",
       "      <td>-0.500409</td>\n",
       "      <td>-0.279012</td>\n",
       "      <td>1.230884</td>\n",
       "      <td>3.306614</td>\n",
       "      <td>0.989102</td>\n",
       "    </tr>\n",
       "  </tbody>\n",
       "</table>\n",
       "</div>"
      ],
      "text/plain": [
       "   landuse_PC1  landuse_PC2  dists_PC1  dists_PC2  costs_PC1   qol_PC1\n",
       "0    -0.796598     1.856685   1.289241   0.588870  -0.520357 -1.973704\n",
       "1     2.871224    -1.335731  -1.666245   1.952562  -0.520357  3.599082\n",
       "2    -0.758982    -1.082186  -1.485174  -0.855300  -1.045616 -2.021887\n",
       "3    -1.474902     0.043365  -0.544672  -0.467392  -0.520357 -2.317609\n",
       "4     1.123259     0.399260   0.927640  -0.836605  -0.520357  0.648939\n",
       "5    -0.635362     0.383649   2.893889  -0.096957  -1.510600 -1.022627\n",
       "6     1.884922     2.110547   0.066598   0.430925   2.841630  3.636619\n",
       "7     0.533765    -1.875180  -1.202263  -1.946987  -1.510600 -1.537915\n",
       "8    -2.747326    -0.500409  -0.279012   1.230884   3.306614  0.989102"
      ]
     },
     "execution_count": 91,
     "metadata": {},
     "output_type": "execute_result"
    }
   ],
   "source": [
    "pca_df = pd.concat([landuse_pca, dists_pca, costs_pca, qol_pca], axis=1,)\n",
    "pca_df"
   ]
  },
  {
   "attachments": {},
   "cell_type": "markdown",
   "metadata": {},
   "source": [
    "## Correlations"
   ]
  },
  {
   "cell_type": "code",
   "execution_count": 104,
   "metadata": {},
   "outputs": [
    {
     "data": {
      "text/html": [
       "<div>\n",
       "<style scoped>\n",
       "    .dataframe tbody tr th:only-of-type {\n",
       "        vertical-align: middle;\n",
       "    }\n",
       "\n",
       "    .dataframe tbody tr th {\n",
       "        vertical-align: top;\n",
       "    }\n",
       "\n",
       "    .dataframe thead th {\n",
       "        text-align: right;\n",
       "    }\n",
       "</style>\n",
       "<table border=\"1\" class=\"dataframe\">\n",
       "  <thead>\n",
       "    <tr style=\"text-align: right;\">\n",
       "      <th></th>\n",
       "      <th>landuse_PC1</th>\n",
       "      <th>dists_PC2</th>\n",
       "      <th>costs_PC1</th>\n",
       "      <th>qol_PC1</th>\n",
       "    </tr>\n",
       "  </thead>\n",
       "  <tbody>\n",
       "    <tr>\n",
       "      <th>0</th>\n",
       "      <td>-0.796598</td>\n",
       "      <td>0.588870</td>\n",
       "      <td>-0.520357</td>\n",
       "      <td>-1.973704</td>\n",
       "    </tr>\n",
       "    <tr>\n",
       "      <th>1</th>\n",
       "      <td>2.871224</td>\n",
       "      <td>1.952562</td>\n",
       "      <td>-0.520357</td>\n",
       "      <td>3.599082</td>\n",
       "    </tr>\n",
       "    <tr>\n",
       "      <th>2</th>\n",
       "      <td>-0.758982</td>\n",
       "      <td>-0.855300</td>\n",
       "      <td>-1.045616</td>\n",
       "      <td>-2.021887</td>\n",
       "    </tr>\n",
       "    <tr>\n",
       "      <th>3</th>\n",
       "      <td>-1.474902</td>\n",
       "      <td>-0.467392</td>\n",
       "      <td>-0.520357</td>\n",
       "      <td>-2.317609</td>\n",
       "    </tr>\n",
       "    <tr>\n",
       "      <th>4</th>\n",
       "      <td>1.123259</td>\n",
       "      <td>-0.836605</td>\n",
       "      <td>-0.520357</td>\n",
       "      <td>0.648939</td>\n",
       "    </tr>\n",
       "    <tr>\n",
       "      <th>5</th>\n",
       "      <td>-0.635362</td>\n",
       "      <td>-0.096957</td>\n",
       "      <td>-1.510600</td>\n",
       "      <td>-1.022627</td>\n",
       "    </tr>\n",
       "    <tr>\n",
       "      <th>6</th>\n",
       "      <td>1.884922</td>\n",
       "      <td>0.430925</td>\n",
       "      <td>2.841630</td>\n",
       "      <td>3.636619</td>\n",
       "    </tr>\n",
       "    <tr>\n",
       "      <th>7</th>\n",
       "      <td>0.533765</td>\n",
       "      <td>-1.946987</td>\n",
       "      <td>-1.510600</td>\n",
       "      <td>-1.537915</td>\n",
       "    </tr>\n",
       "    <tr>\n",
       "      <th>8</th>\n",
       "      <td>-2.747326</td>\n",
       "      <td>1.230884</td>\n",
       "      <td>3.306614</td>\n",
       "      <td>0.989102</td>\n",
       "    </tr>\n",
       "  </tbody>\n",
       "</table>\n",
       "</div>"
      ],
      "text/plain": [
       "   landuse_PC1  dists_PC2  costs_PC1   qol_PC1\n",
       "0    -0.796598   0.588870  -0.520357 -1.973704\n",
       "1     2.871224   1.952562  -0.520357  3.599082\n",
       "2    -0.758982  -0.855300  -1.045616 -2.021887\n",
       "3    -1.474902  -0.467392  -0.520357 -2.317609\n",
       "4     1.123259  -0.836605  -0.520357  0.648939\n",
       "5    -0.635362  -0.096957  -1.510600 -1.022627\n",
       "6     1.884922   0.430925   2.841630  3.636619\n",
       "7     0.533765  -1.946987  -1.510600 -1.537915\n",
       "8    -2.747326   1.230884   3.306614  0.989102"
      ]
     },
     "execution_count": 104,
     "metadata": {},
     "output_type": "execute_result"
    }
   ],
   "source": [
    "sig_pca_df = pca_df.iloc[:, [0,3,4,5]]\n",
    "sig_pca_df "
   ]
  },
  {
   "cell_type": "code",
   "execution_count": 105,
   "metadata": {},
   "outputs": [
    {
     "data": {
      "text/plain": [
       "<seaborn.axisgrid.PairGrid at 0x14b34f880>"
      ]
     },
     "execution_count": 105,
     "metadata": {},
     "output_type": "execute_result"
    },
    {
     "data": {
      "image/png": "[encoded data removed]",
      "text/plain": [
       "<Figure size 800x400 with 20 Axes>"
      ]
     },
     "metadata": {},
     "output_type": "display_data"
    }
   ],
   "source": [
    "sns.pairplot(sig_pca_df , height=1, aspect =2)"
   ]
  },
  {
   "cell_type": "code",
   "execution_count": 101,
   "metadata": {},
   "outputs": [
    {
     "data": {
      "application/vnd.plotly.v1+json": {
       "config": {
        "plotlyServerURL": "https://plotly.com"
       },
       "data": [
        {
         "mode": "markers",
         "name": "Land Use",
         "type": "scatter",
         "x": [
          -0.7965983482522133,
          2.8712240455980176,
          -0.758982159977191,
          -1.4749017606459487,
          1.123258611982183,
          -0.6353616329086152,
          1.8849223735360725,
          0.5337649776214641,
          -2.747326106953769
         ],
         "y": [
          -1.973704359984406,
          3.599082302284847,
          -2.021886688810559,
          -2.317608889891082,
          0.6489390502119957,
          -1.022627408751119,
          3.6366187970609163,
          -1.5379147326510887,
          0.9891019305304959
         ]
        },
        {
         "mode": "markers",
         "name": "Distance",
         "type": "scatter",
         "x": [
          0.5888702343942641,
          1.9525615730484134,
          -0.8552998804965903,
          -0.46739183230301184,
          -0.8366048237328466,
          -0.09695718452255274,
          0.4309250787980843,
          -1.9469873868624485,
          1.2308842216766882
         ],
         "y": [
          -1.973704359984406,
          3.599082302284847,
          -2.021886688810559,
          -2.317608889891082,
          0.6489390502119957,
          -1.022627408751119,
          3.6366187970609163,
          -1.5379147326510887,
          0.9891019305304959
         ]
        },
        {
         "mode": "markers",
         "name": "Distance",
         "type": "scatter",
         "x": [
          -0.520357096450612,
          -0.520357096450612,
          -1.0456158623879122,
          -0.520357096450612,
          -0.520357096450612,
          -1.5105996894906968,
          2.8416299000344845,
          -1.5105996894906968,
          3.3066137271372686
         ],
         "y": [
          -1.973704359984406,
          3.599082302284847,
          -2.021886688810559,
          -2.317608889891082,
          0.6489390502119957,
          -1.022627408751119,
          3.6366187970609163,
          -1.5379147326510887,
          0.9891019305304959
         ]
        }
       ],
       "layout": {
        "template": {
         "data": {
          "bar": [
           {
            "error_x": {
             "color": "#2a3f5f"
            },
            "error_y": {
             "color": "#2a3f5f"
            },
            "marker": {
             "line": {
              "color": "#E5ECF6",
              "width": 0.5
             },
             "pattern": {
              "fillmode": "overlay",
              "size": 10,
              "solidity": 0.2
             }
            },
            "type": "bar"
           }
          ],
          "barpolar": [
           {
            "marker": {
             "line": {
              "color": "#E5ECF6",
              "width": 0.5
             },
             "pattern": {
              "fillmode": "overlay",
              "size": 10,
              "solidity": 0.2
             }
            },
            "type": "barpolar"
           }
          ],
          "carpet": [
           {
            "aaxis": {
             "endlinecolor": "#2a3f5f",
             "gridcolor": "white",
             "linecolor": "white",
             "minorgridcolor": "white",
             "startlinecolor": "#2a3f5f"
            },
            "baxis": {
             "endlinecolor": "#2a3f5f",
             "gridcolor": "white",
             "linecolor": "white",
             "minorgridcolor": "white",
             "startlinecolor": "#2a3f5f"
            },
            "type": "carpet"
           }
          ],
          "choropleth": [
           {
            "colorbar": {
             "outlinewidth": 0,
             "ticks": ""
            },
            "type": "choropleth"
           }
          ],
          "contour": [
           {
            "colorbar": {
             "outlinewidth": 0,
             "ticks": ""
            },
            "colorscale": [
             [
              0,
              "#0d0887"
             ],
             [
              0.1111111111111111,
              "#46039f"
             ],
             [
              0.2222222222222222,
              "#7201a8"
             ],
             [
              0.3333333333333333,
              "#9c179e"
             ],
             [
              0.4444444444444444,
              "#bd3786"
             ],
             [
              0.5555555555555556,
              "#d8576b"
             ],
             [
              0.6666666666666666,
              "#ed7953"
             ],
             [
              0.7777777777777778,
              "#fb9f3a"
             ],
             [
              0.8888888888888888,
              "#fdca26"
             ],
             [
              1,
              "#f0f921"
             ]
            ],
            "type": "contour"
           }
          ],
          "contourcarpet": [
           {
            "colorbar": {
             "outlinewidth": 0,
             "ticks": ""
            },
            "type": "contourcarpet"
           }
          ],
          "heatmap": [
           {
            "colorbar": {
             "outlinewidth": 0,
             "ticks": ""
            },
            "colorscale": [
             [
              0,
              "#0d0887"
             ],
             [
              0.1111111111111111,
              "#46039f"
             ],
             [
              0.2222222222222222,
              "#7201a8"
             ],
             [
              0.3333333333333333,
              "#9c179e"
             ],
             [
              0.4444444444444444,
              "#bd3786"
             ],
             [
              0.5555555555555556,
              "#d8576b"
             ],
             [
              0.6666666666666666,
              "#ed7953"
             ],
             [
              0.7777777777777778,
              "#fb9f3a"
             ],
             [
              0.8888888888888888,
              "#fdca26"
             ],
             [
              1,
              "#f0f921"
             ]
            ],
            "type": "heatmap"
           }
          ],
          "heatmapgl": [
           {
            "colorbar": {
             "outlinewidth": 0,
             "ticks": ""
            },
            "colorscale": [
             [
              0,
              "#0d0887"
             ],
             [
              0.1111111111111111,
              "#46039f"
             ],
             [
              0.2222222222222222,
              "#7201a8"
             ],
             [
              0.3333333333333333,
              "#9c179e"
             ],
             [
              0.4444444444444444,
              "#bd3786"
             ],
             [
              0.5555555555555556,
              "#d8576b"
             ],
             [
              0.6666666666666666,
              "#ed7953"
             ],
             [
              0.7777777777777778,
              "#fb9f3a"
             ],
             [
              0.8888888888888888,
              "#fdca26"
             ],
             [
              1,
              "#f0f921"
             ]
            ],
            "type": "heatmapgl"
           }
          ],
          "histogram": [
           {
            "marker": {
             "pattern": {
              "fillmode": "overlay",
              "size": 10,
              "solidity": 0.2
             }
            },
            "type": "histogram"
           }
          ],
          "histogram2d": [
           {
            "colorbar": {
             "outlinewidth": 0,
             "ticks": ""
            },
            "colorscale": [
             [
              0,
              "#0d0887"
             ],
             [
              0.1111111111111111,
              "#46039f"
             ],
             [
              0.2222222222222222,
              "#7201a8"
             ],
             [
              0.3333333333333333,
              "#9c179e"
             ],
             [
              0.4444444444444444,
              "#bd3786"
             ],
             [
              0.5555555555555556,
              "#d8576b"
             ],
             [
              0.6666666666666666,
              "#ed7953"
             ],
             [
              0.7777777777777778,
              "#fb9f3a"
             ],
             [
              0.8888888888888888,
              "#fdca26"
             ],
             [
              1,
              "#f0f921"
             ]
            ],
            "type": "histogram2d"
           }
          ],
          "histogram2dcontour": [
           {
            "colorbar": {
             "outlinewidth": 0,
             "ticks": ""
            },
            "colorscale": [
             [
              0,
              "#0d0887"
             ],
             [
              0.1111111111111111,
              "#46039f"
             ],
             [
              0.2222222222222222,
              "#7201a8"
             ],
             [
              0.3333333333333333,
              "#9c179e"
             ],
             [
              0.4444444444444444,
              "#bd3786"
             ],
             [
              0.5555555555555556,
              "#d8576b"
             ],
             [
              0.6666666666666666,
              "#ed7953"
             ],
             [
              0.7777777777777778,
              "#fb9f3a"
             ],
             [
              0.8888888888888888,
              "#fdca26"
             ],
             [
              1,
              "#f0f921"
             ]
            ],
            "type": "histogram2dcontour"
           }
          ],
          "mesh3d": [
           {
            "colorbar": {
             "outlinewidth": 0,
             "ticks": ""
            },
            "type": "mesh3d"
           }
          ],
          "parcoords": [
           {
            "line": {
             "colorbar": {
              "outlinewidth": 0,
              "ticks": ""
             }
            },
            "type": "parcoords"
           }
          ],
          "pie": [
           {
            "automargin": true,
            "type": "pie"
           }
          ],
          "scatter": [
           {
            "fillpattern": {
             "fillmode": "overlay",
             "size": 10,
             "solidity": 0.2
            },
            "type": "scatter"
           }
          ],
          "scatter3d": [
           {
            "line": {
             "colorbar": {
              "outlinewidth": 0,
              "ticks": ""
             }
            },
            "marker": {
             "colorbar": {
              "outlinewidth": 0,
              "ticks": ""
             }
            },
            "type": "scatter3d"
           }
          ],
          "scattercarpet": [
           {
            "marker": {
             "colorbar": {
              "outlinewidth": 0,
              "ticks": ""
             }
            },
            "type": "scattercarpet"
           }
          ],
          "scattergeo": [
           {
            "marker": {
             "colorbar": {
              "outlinewidth": 0,
              "ticks": ""
             }
            },
            "type": "scattergeo"
           }
          ],
          "scattergl": [
           {
            "marker": {
             "colorbar": {
              "outlinewidth": 0,
              "ticks": ""
             }
            },
            "type": "scattergl"
           }
          ],
          "scattermapbox": [
           {
            "marker": {
             "colorbar": {
              "outlinewidth": 0,
              "ticks": ""
             }
            },
            "type": "scattermapbox"
           }
          ],
          "scatterpolar": [
           {
            "marker": {
             "colorbar": {
              "outlinewidth": 0,
              "ticks": ""
             }
            },
            "type": "scatterpolar"
           }
          ],
          "scatterpolargl": [
           {
            "marker": {
             "colorbar": {
              "outlinewidth": 0,
              "ticks": ""
             }
            },
            "type": "scatterpolargl"
           }
          ],
          "scatterternary": [
           {
            "marker": {
             "colorbar": {
              "outlinewidth": 0,
              "ticks": ""
             }
            },
            "type": "scatterternary"
           }
          ],
          "surface": [
           {
            "colorbar": {
             "outlinewidth": 0,
             "ticks": ""
            },
            "colorscale": [
             [
              0,
              "#0d0887"
             ],
             [
              0.1111111111111111,
              "#46039f"
             ],
             [
              0.2222222222222222,
              "#7201a8"
             ],
             [
              0.3333333333333333,
              "#9c179e"
             ],
             [
              0.4444444444444444,
              "#bd3786"
             ],
             [
              0.5555555555555556,
              "#d8576b"
             ],
             [
              0.6666666666666666,
              "#ed7953"
             ],
             [
              0.7777777777777778,
              "#fb9f3a"
             ],
             [
              0.8888888888888888,
              "#fdca26"
             ],
             [
              1,
              "#f0f921"
             ]
            ],
            "type": "surface"
           }
          ],
          "table": [
           {
            "cells": {
             "fill": {
              "color": "#EBF0F8"
             },
             "line": {
              "color": "white"
             }
            },
            "header": {
             "fill": {
              "color": "#C8D4E3"
             },
             "line": {
              "color": "white"
             }
            },
            "type": "table"
           }
          ]
         },
         "layout": {
          "annotationdefaults": {
           "arrowcolor": "#2a3f5f",
           "arrowhead": 0,
           "arrowwidth": 1
          },
          "autotypenumbers": "strict",
          "coloraxis": {
           "colorbar": {
            "outlinewidth": 0,
            "ticks": ""
           }
          },
          "colorscale": {
           "diverging": [
            [
             0,
             "#8e0152"
            ],
            [
             0.1,
             "#c51b7d"
            ],
            [
             0.2,
             "#de77ae"
            ],
            [
             0.3,
             "#f1b6da"
            ],
            [
             0.4,
             "#fde0ef"
            ],
            [
             0.5,
             "#f7f7f7"
            ],
            [
             0.6,
             "#e6f5d0"
            ],
            [
             0.7,
             "#b8e186"
            ],
            [
             0.8,
             "#7fbc41"
            ],
            [
             0.9,
             "#4d9221"
            ],
            [
             1,
             "#276419"
            ]
           ],
           "sequential": [
            [
             0,
             "#0d0887"
            ],
            [
             0.1111111111111111,
             "#46039f"
            ],
            [
             0.2222222222222222,
             "#7201a8"
            ],
            [
             0.3333333333333333,
             "#9c179e"
            ],
            [
             0.4444444444444444,
             "#bd3786"
            ],
            [
             0.5555555555555556,
             "#d8576b"
            ],
            [
             0.6666666666666666,
             "#ed7953"
            ],
            [
             0.7777777777777778,
             "#fb9f3a"
            ],
            [
             0.8888888888888888,
             "#fdca26"
            ],
            [
             1,
             "#f0f921"
            ]
           ],
           "sequentialminus": [
            [
             0,
             "#0d0887"
            ],
            [
             0.1111111111111111,
             "#46039f"
            ],
            [
             0.2222222222222222,
             "#7201a8"
            ],
            [
             0.3333333333333333,
             "#9c179e"
            ],
            [
             0.4444444444444444,
             "#bd3786"
            ],
            [
             0.5555555555555556,
             "#d8576b"
            ],
            [
             0.6666666666666666,
             "#ed7953"
            ],
            [
             0.7777777777777778,
             "#fb9f3a"
            ],
            [
             0.8888888888888888,
             "#fdca26"
            ],
            [
             1,
             "#f0f921"
            ]
           ]
          },
          "colorway": [
           "#636efa",
           "#EF553B",
           "#00cc96",
           "#ab63fa",
           "#FFA15A",
           "#19d3f3",
           "#FF6692",
           "#B6E880",
           "#FF97FF",
           "#FECB52"
          ],
          "font": {
           "color": "#2a3f5f"
          },
          "geo": {
           "bgcolor": "white",
           "lakecolor": "white",
           "landcolor": "#E5ECF6",
           "showlakes": true,
           "showland": true,
           "subunitcolor": "white"
          },
          "hoverlabel": {
           "align": "left"
          },
          "hovermode": "closest",
          "mapbox": {
           "style": "light"
          },
          "paper_bgcolor": "white",
          "plot_bgcolor": "#E5ECF6",
          "polar": {
           "angularaxis": {
            "gridcolor": "white",
            "linecolor": "white",
            "ticks": ""
           },
           "bgcolor": "#E5ECF6",
           "radialaxis": {
            "gridcolor": "white",
            "linecolor": "white",
            "ticks": ""
           }
          },
          "scene": {
           "xaxis": {
            "backgroundcolor": "#E5ECF6",
            "gridcolor": "white",
            "gridwidth": 2,
            "linecolor": "white",
            "showbackground": true,
            "ticks": "",
            "zerolinecolor": "white"
           },
           "yaxis": {
            "backgroundcolor": "#E5ECF6",
            "gridcolor": "white",
            "gridwidth": 2,
            "linecolor": "white",
            "showbackground": true,
            "ticks": "",
            "zerolinecolor": "white"
           },
           "zaxis": {
            "backgroundcolor": "#E5ECF6",
            "gridcolor": "white",
            "gridwidth": 2,
            "linecolor": "white",
            "showbackground": true,
            "ticks": "",
            "zerolinecolor": "white"
           }
          },
          "shapedefaults": {
           "line": {
            "color": "#2a3f5f"
           }
          },
          "ternary": {
           "aaxis": {
            "gridcolor": "white",
            "linecolor": "white",
            "ticks": ""
           },
           "baxis": {
            "gridcolor": "white",
            "linecolor": "white",
            "ticks": ""
           },
           "bgcolor": "#E5ECF6",
           "caxis": {
            "gridcolor": "white",
            "linecolor": "white",
            "ticks": ""
           }
          },
          "title": {
           "x": 0.05
          },
          "xaxis": {
           "automargin": true,
           "gridcolor": "white",
           "linecolor": "white",
           "ticks": "",
           "title": {
            "standoff": 15
           },
           "zerolinecolor": "white",
           "zerolinewidth": 2
          },
          "yaxis": {
           "automargin": true,
           "gridcolor": "white",
           "linecolor": "white",
           "ticks": "",
           "title": {
            "standoff": 15
           },
           "zerolinecolor": "white",
           "zerolinewidth": 2
          }
         }
        },
        "xaxis": {
         "title": {
          "text": "Predictor Variable Principal Components"
         }
        },
        "yaxis": {
         "title": {
          "text": "Quality of Life Principal Component"
         }
        }
       }
      }
     },
     "metadata": {},
     "output_type": "display_data"
    }
   ],
   "source": [
    "fig = go.Figure()\n",
    "fig.add_trace(go.Scatter(\n",
    "    x=pca_df[\"landuse_PC1\"],\n",
    "    y=pca_df[\"qol_PC1\"], \n",
    "    mode='markers',\n",
    "    name=\"Land Use\"\n",
    "))\n",
    "\n",
    "fig.add_trace(go.Scatter(\n",
    "    x=pca_df[\"dists_PC2\"],\n",
    "    y=pca_df[\"qol_PC1\"], \n",
    "    mode='markers',\n",
    "    name=\"Distance\"\n",
    "))\n",
    "\n",
    "fig.add_trace(go.Scatter(\n",
    "    x=pca_df[\"costs_PC1\"],\n",
    "    y=pca_df[\"qol_PC1\"], \n",
    "    mode='markers',\n",
    "    name=\"Distance\"\n",
    "))\n",
    "\n",
    "fig.update_layout(xaxis_title='Predictor Variable Principal Components',\n",
    "                  yaxis_title='Quality of Life Principal Component',\n",
    "            )"
   ]
  },
  {
   "cell_type": "code",
   "execution_count": 95,
   "metadata": {},
   "outputs": [
    {
     "data": {
      "text/plain": [
       "<AxesSubplot: >"
      ]
     },
     "execution_count": 95,
     "metadata": {},
     "output_type": "execute_result"
    },
    {
     "data": {
      "image/png": "[encoded data removed]",
      "text/plain": [
       "<Figure size 640x480 with 2 Axes>"
      ]
     },
     "metadata": {},
     "output_type": "display_data"
    }
   ],
   "source": [
    "sns.heatmap(pca_df.corr(), annot=True, center=0)"
   ]
  },
  {
   "attachments": {},
   "cell_type": "markdown",
   "metadata": {},
   "source": [
    "## Significance"
   ]
  },
  {
   "cell_type": "code",
   "execution_count": 112,
   "metadata": {},
   "outputs": [
    {
     "data": {
      "text/html": [
       "<div>\n",
       "<style scoped>\n",
       "    .dataframe tbody tr th:only-of-type {\n",
       "        vertical-align: middle;\n",
       "    }\n",
       "\n",
       "    .dataframe tbody tr th {\n",
       "        vertical-align: top;\n",
       "    }\n",
       "\n",
       "    .dataframe thead th {\n",
       "        text-align: right;\n",
       "    }\n",
       "</style>\n",
       "<table border=\"1\" class=\"dataframe\">\n",
       "  <thead>\n",
       "    <tr style=\"text-align: right;\">\n",
       "      <th></th>\n",
       "      <th>landuse_PC1</th>\n",
       "      <th>dists_PC2</th>\n",
       "      <th>costs_PC1</th>\n",
       "      <th>qol_PC1</th>\n",
       "    </tr>\n",
       "  </thead>\n",
       "  <tbody>\n",
       "    <tr>\n",
       "      <th>0</th>\n",
       "      <td>-0.80</td>\n",
       "      <td>0.59</td>\n",
       "      <td>-0.52</td>\n",
       "      <td>-1.97</td>\n",
       "    </tr>\n",
       "    <tr>\n",
       "      <th>1</th>\n",
       "      <td>2.87</td>\n",
       "      <td>1.95</td>\n",
       "      <td>-0.52</td>\n",
       "      <td>3.60</td>\n",
       "    </tr>\n",
       "    <tr>\n",
       "      <th>2</th>\n",
       "      <td>-0.76</td>\n",
       "      <td>-0.86</td>\n",
       "      <td>-1.05</td>\n",
       "      <td>-2.02</td>\n",
       "    </tr>\n",
       "    <tr>\n",
       "      <th>3</th>\n",
       "      <td>-1.47</td>\n",
       "      <td>-0.47</td>\n",
       "      <td>-0.52</td>\n",
       "      <td>-2.32</td>\n",
       "    </tr>\n",
       "    <tr>\n",
       "      <th>4</th>\n",
       "      <td>1.12</td>\n",
       "      <td>-0.84</td>\n",
       "      <td>-0.52</td>\n",
       "      <td>0.65</td>\n",
       "    </tr>\n",
       "    <tr>\n",
       "      <th>5</th>\n",
       "      <td>-0.64</td>\n",
       "      <td>-0.10</td>\n",
       "      <td>-1.51</td>\n",
       "      <td>-1.02</td>\n",
       "    </tr>\n",
       "    <tr>\n",
       "      <th>6</th>\n",
       "      <td>1.88</td>\n",
       "      <td>0.43</td>\n",
       "      <td>2.84</td>\n",
       "      <td>3.64</td>\n",
       "    </tr>\n",
       "    <tr>\n",
       "      <th>7</th>\n",
       "      <td>0.53</td>\n",
       "      <td>-1.95</td>\n",
       "      <td>-1.51</td>\n",
       "      <td>-1.54</td>\n",
       "    </tr>\n",
       "    <tr>\n",
       "      <th>8</th>\n",
       "      <td>-2.75</td>\n",
       "      <td>1.23</td>\n",
       "      <td>3.31</td>\n",
       "      <td>0.99</td>\n",
       "    </tr>\n",
       "  </tbody>\n",
       "</table>\n",
       "</div>"
      ],
      "text/plain": [
       "   landuse_PC1  dists_PC2  costs_PC1  qol_PC1\n",
       "0        -0.80       0.59      -0.52    -1.97\n",
       "1         2.87       1.95      -0.52     3.60\n",
       "2        -0.76      -0.86      -1.05    -2.02\n",
       "3        -1.47      -0.47      -0.52    -2.32\n",
       "4         1.12      -0.84      -0.52     0.65\n",
       "5        -0.64      -0.10      -1.51    -1.02\n",
       "6         1.88       0.43       2.84     3.64\n",
       "7         0.53      -1.95      -1.51    -1.54\n",
       "8        -2.75       1.23       3.31     0.99"
      ]
     },
     "execution_count": 112,
     "metadata": {},
     "output_type": "execute_result"
    }
   ],
   "source": [
    "sig_pca_df.round(2)"
   ]
  },
  {
   "cell_type": "code",
   "execution_count": 108,
   "metadata": {},
   "outputs": [
    {
     "data": {
      "text/plain": [
       "Index(['landuse_PC1', 'dists_PC2', 'costs_PC1', 'qol_PC1'], dtype='object')"
      ]
     },
     "execution_count": 108,
     "metadata": {},
     "output_type": "execute_result"
    }
   ],
   "source": [
    "sig_pca_df.columns"
   ]
  },
  {
   "cell_type": "code",
   "execution_count": 116,
   "metadata": {},
   "outputs": [
    {
     "name": "stdout",
     "output_type": "stream",
     "text": [
      "                            OLS Regression Results                            \n",
      "==============================================================================\n",
      "Dep. Variable:                qol_PC1   R-squared:                       0.424\n",
      "Model:                            OLS   Adj. R-squared:                  0.342\n",
      "Method:                 Least Squares   F-statistic:                     5.163\n",
      "Date:                Mon, 20 Mar 2023   Prob (F-statistic):             0.0573\n",
      "Time:                        14:36:32   Log-Likelihood:                -17.461\n",
      "No. Observations:                   9   AIC:                             38.92\n",
      "Df Residuals:                       7   BIC:                             39.32\n",
      "Df Model:                           1                                         \n",
      "Covariance Type:            nonrobust                                         \n",
      "===============================================================================\n",
      "                  coef    std err          t      P>|t|      [0.025      0.975]\n",
      "-------------------------------------------------------------------------------\n",
      "const        8.488e-17      0.636   1.33e-16      1.000      -1.505       1.505\n",
      "landuse_PC1     0.8733      0.384      2.272      0.057      -0.036       1.782\n",
      "==============================================================================\n",
      "Omnibus:                        1.877   Durbin-Watson:                   2.481\n",
      "Prob(Omnibus):                  0.391   Jarque-Bera (JB):                1.094\n",
      "Skew:                           0.796   Prob(JB):                        0.579\n",
      "Kurtosis:                       2.381   Cond. No.                         1.66\n",
      "==============================================================================\n",
      "\n",
      "Notes:\n",
      "[1] Standard Errors assume that the covariance matrix of the errors is correctly specified.\n"
     ]
    },
    {
     "name": "stderr",
     "output_type": "stream",
     "text": [
      "/Users/julietnwagwuume-ezeoke/_ClassCode/classenv/lib/python3.9/site-packages/scipy/stats/_stats_py.py:1736: UserWarning:\n",
      "\n",
      "kurtosistest only valid for n>=20 ... continuing anyway, n=9\n",
      "\n"
     ]
    }
   ],
   "source": [
    "y = sig_pca_df[\"qol_PC1\"]\n",
    "x = sig_pca_df[\"landuse_PC1\"]\n",
    "#add constant to predictor variables\n",
    "x = sm.add_constant(x)\n",
    "\n",
    "#fit linear regression model\n",
    "model = sm.OLS(y, x).fit()\n",
    "\n",
    "#view model summary\n",
    "print(model.summary())"
   ]
  },
  {
   "cell_type": "code",
   "execution_count": 119,
   "metadata": {},
   "outputs": [
    {
     "ename": "AttributeError",
     "evalue": "'PandasData' object has no attribute 'design_info'",
     "output_type": "error",
     "traceback": [
      "\u001b[0;31m---------------------------------------------------------------------------\u001b[0m",
      "\u001b[0;31mAttributeError\u001b[0m                            Traceback (most recent call last)",
      "Cell \u001b[0;32mIn[119], line 1\u001b[0m\n\u001b[0;32m----> 1\u001b[0m sm\u001b[39m.\u001b[39;49mstats\u001b[39m.\u001b[39;49manova_lm(model, typ\u001b[39m=\u001b[39;49m\u001b[39m1\u001b[39;49m)\n",
      "File \u001b[0;32m~/_ClassCode/classenv/lib/python3.9/site-packages/statsmodels/stats/anova.py:349\u001b[0m, in \u001b[0;36manova_lm\u001b[0;34m(*args, **kwargs)\u001b[0m\n\u001b[1;32m    347\u001b[0m \u001b[39mif\u001b[39;00m \u001b[39mlen\u001b[39m(args) \u001b[39m==\u001b[39m \u001b[39m1\u001b[39m:\n\u001b[1;32m    348\u001b[0m     model \u001b[39m=\u001b[39m args[\u001b[39m0\u001b[39m]\n\u001b[0;32m--> 349\u001b[0m     \u001b[39mreturn\u001b[39;00m anova_single(model, \u001b[39m*\u001b[39;49m\u001b[39m*\u001b[39;49mkwargs)\n\u001b[1;32m    351\u001b[0m \u001b[39mif\u001b[39;00m typ \u001b[39mnot\u001b[39;00m \u001b[39min\u001b[39;00m [\u001b[39m1\u001b[39m, \u001b[39m\"\u001b[39m\u001b[39mI\u001b[39m\u001b[39m\"\u001b[39m]:\n\u001b[1;32m    352\u001b[0m     \u001b[39mraise\u001b[39;00m \u001b[39mValueError\u001b[39;00m(\u001b[39m\"\u001b[39m\u001b[39mMultiple models only supported for type I. \u001b[39m\u001b[39m\"\u001b[39m\n\u001b[1;32m    353\u001b[0m                      \u001b[39m\"\u001b[39m\u001b[39mGot type \u001b[39m\u001b[39m%s\u001b[39;00m\u001b[39m\"\u001b[39m \u001b[39m%\u001b[39m \u001b[39mstr\u001b[39m(typ))\n",
      "File \u001b[0;32m~/_ClassCode/classenv/lib/python3.9/site-packages/statsmodels/stats/anova.py:66\u001b[0m, in \u001b[0;36manova_single\u001b[0;34m(model, **kwargs)\u001b[0m\n\u001b[1;32m     63\u001b[0m nobs \u001b[39m=\u001b[39m exog\u001b[39m.\u001b[39mshape[\u001b[39m0\u001b[39m]\n\u001b[1;32m     65\u001b[0m response_name \u001b[39m=\u001b[39m model\u001b[39m.\u001b[39mmodel\u001b[39m.\u001b[39mendog_names\n\u001b[0;32m---> 66\u001b[0m design_info \u001b[39m=\u001b[39m model\u001b[39m.\u001b[39;49mmodel\u001b[39m.\u001b[39;49mdata\u001b[39m.\u001b[39;49mdesign_info\n\u001b[1;32m     67\u001b[0m exog_names \u001b[39m=\u001b[39m model\u001b[39m.\u001b[39mmodel\u001b[39m.\u001b[39mexog_names\n\u001b[1;32m     68\u001b[0m \u001b[39m# +1 for resids\u001b[39;00m\n",
      "\u001b[0;31mAttributeError\u001b[0m: 'PandasData' object has no attribute 'design_info'"
     ]
    }
   ],
   "source": [
    "sm.stats.anova_lm(model, typ=1)"
   ]
  },
  {
   "cell_type": "code",
   "execution_count": 114,
   "metadata": {},
   "outputs": [
    {
     "name": "stderr",
     "output_type": "stream",
     "text": [
      "/Users/julietnwagwuume-ezeoke/_ClassCode/classenv/lib/python3.9/site-packages/scipy/stats/_stats_py.py:1736: UserWarning:\n",
      "\n",
      "kurtosistest only valid for n>=20 ... continuing anyway, n=9\n",
      "\n",
      "/Users/julietnwagwuume-ezeoke/_ClassCode/classenv/lib/python3.9/site-packages/statsmodels/regression/linear_model.py:1765: RuntimeWarning:\n",
      "\n",
      "divide by zero encountered in divide\n",
      "\n",
      "/Users/julietnwagwuume-ezeoke/_ClassCode/classenv/lib/python3.9/site-packages/statsmodels/regression/linear_model.py:1765: RuntimeWarning:\n",
      "\n",
      "invalid value encountered in scalar multiply\n",
      "\n",
      "/Users/julietnwagwuume-ezeoke/_ClassCode/classenv/lib/python3.9/site-packages/statsmodels/regression/linear_model.py:1687: RuntimeWarning:\n",
      "\n",
      "divide by zero encountered in scalar divide\n",
      "\n"
     ]
    },
    {
     "data": {
      "text/html": [
       "<table class=\"simpletable\">\n",
       "<caption>OLS Regression Results</caption>\n",
       "<tr>\n",
       "  <th>Dep. Variable:</th>         <td>qol_PC1</td>     <th>  R-squared:         </th> <td>   1.000</td>\n",
       "</tr>\n",
       "<tr>\n",
       "  <th>Model:</th>                   <td>OLS</td>       <th>  Adj. R-squared:    </th> <td>     nan</td>\n",
       "</tr>\n",
       "<tr>\n",
       "  <th>Method:</th>             <td>Least Squares</td>  <th>  F-statistic:       </th> <td>     nan</td>\n",
       "</tr>\n",
       "<tr>\n",
       "  <th>Date:</th>             <td>Mon, 20 Mar 2023</td> <th>  Prob (F-statistic):</th>  <td>   nan</td> \n",
       "</tr>\n",
       "<tr>\n",
       "  <th>Time:</th>                 <td>14:33:51</td>     <th>  Log-Likelihood:    </th> <td>  296.82</td>\n",
       "</tr>\n",
       "<tr>\n",
       "  <th>No. Observations:</th>      <td>     9</td>      <th>  AIC:               </th> <td>  -575.6</td>\n",
       "</tr>\n",
       "<tr>\n",
       "  <th>Df Residuals:</th>          <td>     0</td>      <th>  BIC:               </th> <td>  -573.9</td>\n",
       "</tr>\n",
       "<tr>\n",
       "  <th>Df Model:</th>              <td>     8</td>      <th>                     </th>     <td> </td>   \n",
       "</tr>\n",
       "<tr>\n",
       "  <th>Covariance Type:</th>      <td>nonrobust</td>    <th>                     </th>     <td> </td>   \n",
       "</tr>\n",
       "</table>\n",
       "<table class=\"simpletable\">\n",
       "<tr>\n",
       "             <td></td>                <th>coef</th>     <th>std err</th>      <th>t</th>      <th>P>|t|</th>  <th>[0.025</th>    <th>0.975]</th>  \n",
       "</tr>\n",
       "<tr>\n",
       "  <th>Intercept</th>               <td>    0.9900</td> <td>      inf</td> <td>        0</td> <td>   nan</td> <td>      nan</td> <td>      nan</td>\n",
       "</tr>\n",
       "<tr>\n",
       "  <th>C(landuse_PC1)[T.-1.47]</th> <td>   -3.3100</td> <td>      inf</td> <td>       -0</td> <td>   nan</td> <td>      nan</td> <td>      nan</td>\n",
       "</tr>\n",
       "<tr>\n",
       "  <th>C(landuse_PC1)[T.-0.8]</th>  <td>   -2.9600</td> <td>      inf</td> <td>       -0</td> <td>   nan</td> <td>      nan</td> <td>      nan</td>\n",
       "</tr>\n",
       "<tr>\n",
       "  <th>C(landuse_PC1)[T.-0.76]</th> <td>   -3.0100</td> <td>      inf</td> <td>       -0</td> <td>   nan</td> <td>      nan</td> <td>      nan</td>\n",
       "</tr>\n",
       "<tr>\n",
       "  <th>C(landuse_PC1)[T.-0.64]</th> <td>   -2.0100</td> <td>      inf</td> <td>       -0</td> <td>   nan</td> <td>      nan</td> <td>      nan</td>\n",
       "</tr>\n",
       "<tr>\n",
       "  <th>C(landuse_PC1)[T.0.53]</th>  <td>   -2.5300</td> <td>      inf</td> <td>       -0</td> <td>   nan</td> <td>      nan</td> <td>      nan</td>\n",
       "</tr>\n",
       "<tr>\n",
       "  <th>C(landuse_PC1)[T.1.12]</th>  <td>   -0.3400</td> <td>      inf</td> <td>       -0</td> <td>   nan</td> <td>      nan</td> <td>      nan</td>\n",
       "</tr>\n",
       "<tr>\n",
       "  <th>C(landuse_PC1)[T.1.88]</th>  <td>    2.6500</td> <td>      inf</td> <td>        0</td> <td>   nan</td> <td>      nan</td> <td>      nan</td>\n",
       "</tr>\n",
       "<tr>\n",
       "  <th>C(landuse_PC1)[T.2.87]</th>  <td>    2.6100</td> <td>      inf</td> <td>        0</td> <td>   nan</td> <td>      nan</td> <td>      nan</td>\n",
       "</tr>\n",
       "</table>\n",
       "<table class=\"simpletable\">\n",
       "<tr>\n",
       "  <th>Omnibus:</th>       <td> 1.451</td> <th>  Durbin-Watson:     </th> <td>   1.440</td>\n",
       "</tr>\n",
       "<tr>\n",
       "  <th>Prob(Omnibus):</th> <td> 0.484</td> <th>  Jarque-Bera (JB):  </th> <td>   0.377</td>\n",
       "</tr>\n",
       "<tr>\n",
       "  <th>Skew:</th>          <td> 0.500</td> <th>  Prob(JB):          </th> <td>   0.828</td>\n",
       "</tr>\n",
       "<tr>\n",
       "  <th>Kurtosis:</th>      <td> 2.915</td> <th>  Cond. No.          </th> <td>    9.90</td>\n",
       "</tr>\n",
       "</table><br/><br/>Notes:<br/>[1] Standard Errors assume that the covariance matrix of the errors is correctly specified."
      ],
      "text/plain": [
       "<class 'statsmodels.iolib.summary.Summary'>\n",
       "\"\"\"\n",
       "                            OLS Regression Results                            \n",
       "==============================================================================\n",
       "Dep. Variable:                qol_PC1   R-squared:                       1.000\n",
       "Model:                            OLS   Adj. R-squared:                    nan\n",
       "Method:                 Least Squares   F-statistic:                       nan\n",
       "Date:                Mon, 20 Mar 2023   Prob (F-statistic):                nan\n",
       "Time:                        14:33:51   Log-Likelihood:                 296.82\n",
       "No. Observations:                   9   AIC:                            -575.6\n",
       "Df Residuals:                       0   BIC:                            -573.9\n",
       "Df Model:                           8                                         \n",
       "Covariance Type:            nonrobust                                         \n",
       "===========================================================================================\n",
       "                              coef    std err          t      P>|t|      [0.025      0.975]\n",
       "-------------------------------------------------------------------------------------------\n",
       "Intercept                   0.9900        inf          0        nan         nan         nan\n",
       "C(landuse_PC1)[T.-1.47]    -3.3100        inf         -0        nan         nan         nan\n",
       "C(landuse_PC1)[T.-0.8]     -2.9600        inf         -0        nan         nan         nan\n",
       "C(landuse_PC1)[T.-0.76]    -3.0100        inf         -0        nan         nan         nan\n",
       "C(landuse_PC1)[T.-0.64]    -2.0100        inf         -0        nan         nan         nan\n",
       "C(landuse_PC1)[T.0.53]     -2.5300        inf         -0        nan         nan         nan\n",
       "C(landuse_PC1)[T.1.12]     -0.3400        inf         -0        nan         nan         nan\n",
       "C(landuse_PC1)[T.1.88]      2.6500        inf          0        nan         nan         nan\n",
       "C(landuse_PC1)[T.2.87]      2.6100        inf          0        nan         nan         nan\n",
       "==============================================================================\n",
       "Omnibus:                        1.451   Durbin-Watson:                   1.440\n",
       "Prob(Omnibus):                  0.484   Jarque-Bera (JB):                0.377\n",
       "Skew:                           0.500   Prob(JB):                        0.828\n",
       "Kurtosis:                       2.915   Cond. No.                         9.90\n",
       "==============================================================================\n",
       "\n",
       "Notes:\n",
       "[1] Standard Errors assume that the covariance matrix of the errors is correctly specified.\n",
       "\"\"\""
      ]
     },
     "execution_count": 114,
     "metadata": {},
     "output_type": "execute_result"
    }
   ],
   "source": [
    "model = ols(\"\"\"qol_PC1 ~ C(landuse_PC1) \"\"\", data=sig_pca_df.round(2)).fit()\n",
    "\n",
    "model.summary()"
   ]
  },
  {
   "cell_type": "code",
   "execution_count": 117,
   "metadata": {},
   "outputs": [],
   "source": [
    "# model = ols(\"\"\"qol_PC1 ~ C(landuse_PC1) + C(dists_PC2) + C(costs_PC1) +\n",
    "#                C(landuse_PC1):C(dists_PC2) + C(landuse_PC1):C(costs_PC1) + C(dists_PC2):C(costs_PC1) +\n",
    "#                C(landuse_PC1):C(dists_PC2):C(costs_PC1)\"\"\", data=sig_pca_df).fit()\n",
    "\n",
    "# model.summary()"
   ]
  }
 ],
 "metadata": {
  "kernelspec": {
   "display_name": "classenv",
   "language": "python",
   "name": "python3"
  },
  "language_info": {
   "codemirror_mode": {
    "name": "ipython",
    "version": 3
   },
   "file_extension": ".py",
   "mimetype": "text/x-python",
   "name": "python",
   "nbconvert_exporter": "python",
   "pygments_lexer": "ipython3",
   "version": "3.9.15"
  },
  "orig_nbformat": 4
 },
 "nbformat": 4,
 "nbformat_minor": 2
}
