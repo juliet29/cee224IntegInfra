{
 "cells": [
  {
   "cell_type": "code",
   "execution_count": 7,
   "metadata": {},
   "outputs": [],
   "source": [
    "from datetime import datetime\n",
    "\n",
    "from traveltimepy import Driving, Coordinates, TravelTimeSdk, PublicTransport"
   ]
  },
  {
   "cell_type": "code",
   "execution_count": 3,
   "metadata": {},
   "outputs": [],
   "source": [
    "APP_KEY = '33086bf72ecbc51c2bf727821798a43e'\n",
    "APP_ID = '08be32c3'"
   ]
  },
  {
   "cell_type": "code",
   "execution_count": 4,
   "metadata": {},
   "outputs": [],
   "source": [
    "sdk = TravelTimeSdk(app_id=APP_ID, api_key=APP_KEY, limit_per_host=4)"
   ]
  },
  {
   "cell_type": "code",
   "execution_count": 6,
   "metadata": {},
   "outputs": [],
   "source": [
    "results = await sdk.time_map_async(\n",
    "    coordinates=[Coordinates(lat=51.507609, lng=-0.128315), Coordinates(lat=51.517609, lng=-0.138315)],\n",
    "    arrival_time=datetime.now(),\n",
    "    transportation=Driving()\n",
    ")\n",
    "\n",
    "# print(results)"
   ]
  },
  {
   "cell_type": "code",
   "execution_count": null,
   "metadata": {},
   "outputs": [],
   "source": [
    "coords = {\n",
    "    \"bishan\": \"1°21′3″N 103°51′5″E\"\n",
    "}"
   ]
  },
  {
   "cell_type": "code",
   "execution_count": 8,
   "metadata": {},
   "outputs": [
    {
     "ename": "RuntimeError",
     "evalue": "asyncio.run() cannot be called from a running event loop",
     "output_type": "error",
     "traceback": [
      "\u001b[0;31m---------------------------------------------------------------------------\u001b[0m",
      "\u001b[0;31mRuntimeError\u001b[0m                              Traceback (most recent call last)",
      "Cell \u001b[0;32mIn[8], line 1\u001b[0m\n\u001b[0;32m----> 1\u001b[0m results \u001b[39m=\u001b[39m sdk\u001b[39m.\u001b[39;49mtime_map(\n\u001b[1;32m      2\u001b[0m     coordinates\u001b[39m=\u001b[39;49m[Coordinates(lat\u001b[39m=\u001b[39;49m\u001b[39m51.507609\u001b[39;49m, lng\u001b[39m=\u001b[39;49m\u001b[39m-\u001b[39;49m\u001b[39m0.128315\u001b[39;49m), Coordinates(lat\u001b[39m=\u001b[39;49m\u001b[39m51.517609\u001b[39;49m, lng\u001b[39m=\u001b[39;49m\u001b[39m-\u001b[39;49m\u001b[39m0.138315\u001b[39;49m)],\n\u001b[1;32m      3\u001b[0m     departure_time\u001b[39m=\u001b[39;49mdatetime\u001b[39m.\u001b[39;49mnow(),\n\u001b[1;32m      4\u001b[0m     transportation\u001b[39m=\u001b[39;49mPublicTransport(),\n\u001b[1;32m      5\u001b[0m     travel_time \u001b[39m=\u001b[39;49m \u001b[39m900\u001b[39;49m\n\u001b[1;32m      6\u001b[0m )\n\u001b[1;32m      8\u001b[0m \u001b[39mprint\u001b[39m(results)\n",
      "File \u001b[0;32m~/_ClassCode/classenv/lib/python3.9/site-packages/traveltimepy/sdk.py:518\u001b[0m, in \u001b[0;36mTravelTimeSdk.time_map\u001b[0;34m(self, coordinates, transportation, arrival_time, departure_time, travel_time, search_range)\u001b[0m\n\u001b[1;32m    509\u001b[0m \u001b[39mdef\u001b[39;00m \u001b[39mtime_map\u001b[39m(\n\u001b[1;32m    510\u001b[0m     \u001b[39mself\u001b[39m,\n\u001b[1;32m    511\u001b[0m     coordinates: List[Coordinates],\n\u001b[0;32m   (...)\u001b[0m\n\u001b[1;32m    516\u001b[0m     search_range: Optional[Range] \u001b[39m=\u001b[39m \u001b[39mNone\u001b[39;00m\n\u001b[1;32m    517\u001b[0m ) \u001b[39m-\u001b[39m\u001b[39m>\u001b[39m List[TimeMapResult]:\n\u001b[0;32m--> 518\u001b[0m     \u001b[39mreturn\u001b[39;00m send_post(\n\u001b[1;32m    519\u001b[0m         TimeMapResponse,\n\u001b[1;32m    520\u001b[0m         \u001b[39m'\u001b[39;49m\u001b[39mtime-map\u001b[39;49m\u001b[39m'\u001b[39;49m,\n\u001b[1;32m    521\u001b[0m         \u001b[39mself\u001b[39;49m\u001b[39m.\u001b[39;49m__headers(AcceptType\u001b[39m.\u001b[39;49mJSON),\n\u001b[1;32m    522\u001b[0m         create_time_map(\n\u001b[1;32m    523\u001b[0m             coordinates,\n\u001b[1;32m    524\u001b[0m             transportation,\n\u001b[1;32m    525\u001b[0m             travel_time,\n\u001b[1;32m    526\u001b[0m             arrival_time,\n\u001b[1;32m    527\u001b[0m             departure_time,\n\u001b[1;32m    528\u001b[0m             search_range\n\u001b[1;32m    529\u001b[0m         ),\n\u001b[1;32m    530\u001b[0m         \u001b[39mself\u001b[39;49m\u001b[39m.\u001b[39;49m__limit_per_host\n\u001b[1;32m    531\u001b[0m     )\u001b[39m.\u001b[39mresults\n",
      "File \u001b[0;32m~/_ClassCode/classenv/lib/python3.9/site-packages/traveltimepy/http.py:52\u001b[0m, in \u001b[0;36msend_post\u001b[0;34m(response_class, path, headers, request, limit_per_host)\u001b[0m\n\u001b[1;32m     45\u001b[0m \u001b[39mdef\u001b[39;00m \u001b[39msend_post\u001b[39m(\n\u001b[1;32m     46\u001b[0m     response_class: Type[T],\n\u001b[1;32m     47\u001b[0m     path: \u001b[39mstr\u001b[39m,\n\u001b[0;32m   (...)\u001b[0m\n\u001b[1;32m     50\u001b[0m     limit_per_host: \u001b[39mint\u001b[39m\n\u001b[1;32m     51\u001b[0m ) \u001b[39m-\u001b[39m\u001b[39m>\u001b[39m T:\n\u001b[0;32m---> 52\u001b[0m     \u001b[39mreturn\u001b[39;00m asyncio\u001b[39m.\u001b[39;49mrun(send_post_async(response_class, path, headers, request, limit_per_host))\n",
      "File \u001b[0;32m/opt/homebrew/Cellar/python@3.9/3.9.15/Frameworks/Python.framework/Versions/3.9/lib/python3.9/asyncio/runners.py:33\u001b[0m, in \u001b[0;36mrun\u001b[0;34m(main, debug)\u001b[0m\n\u001b[1;32m      9\u001b[0m \u001b[39m\u001b[39m\u001b[39m\"\"\"Execute the coroutine and return the result.\u001b[39;00m\n\u001b[1;32m     10\u001b[0m \n\u001b[1;32m     11\u001b[0m \u001b[39mThis function runs the passed coroutine, taking care of\u001b[39;00m\n\u001b[0;32m   (...)\u001b[0m\n\u001b[1;32m     30\u001b[0m \u001b[39m    asyncio.run(main())\u001b[39;00m\n\u001b[1;32m     31\u001b[0m \u001b[39m\"\"\"\u001b[39;00m\n\u001b[1;32m     32\u001b[0m \u001b[39mif\u001b[39;00m events\u001b[39m.\u001b[39m_get_running_loop() \u001b[39mis\u001b[39;00m \u001b[39mnot\u001b[39;00m \u001b[39mNone\u001b[39;00m:\n\u001b[0;32m---> 33\u001b[0m     \u001b[39mraise\u001b[39;00m \u001b[39mRuntimeError\u001b[39;00m(\n\u001b[1;32m     34\u001b[0m         \u001b[39m\"\u001b[39m\u001b[39masyncio.run() cannot be called from a running event loop\u001b[39m\u001b[39m\"\u001b[39m)\n\u001b[1;32m     36\u001b[0m \u001b[39mif\u001b[39;00m \u001b[39mnot\u001b[39;00m coroutines\u001b[39m.\u001b[39miscoroutine(main):\n\u001b[1;32m     37\u001b[0m     \u001b[39mraise\u001b[39;00m \u001b[39mValueError\u001b[39;00m(\u001b[39m\"\u001b[39m\u001b[39ma coroutine was expected, got \u001b[39m\u001b[39m{!r}\u001b[39;00m\u001b[39m\"\u001b[39m\u001b[39m.\u001b[39mformat(main))\n",
      "\u001b[0;31mRuntimeError\u001b[0m: asyncio.run() cannot be called from a running event loop"
     ]
    }
   ],
   "source": [
    "results = sdk.time_map(\n",
    "    coordinates=[Coordinates(lat=51.507609, lng=-0.128315), Coordinates(lat=51.517609, lng=-0.138315)],\n",
    "    departure_time=datetime.now(),\n",
    "    transportation=PublicTransport(),\n",
    "    travel_time = 900\n",
    ")\n",
    "\n",
    "print(results)"
   ]
  },
  {
   "cell_type": "code",
   "execution_count": 5,
   "metadata": {},
   "outputs": [
    {
     "ename": "RuntimeError",
     "evalue": "asyncio.run() cannot be called from a running event loop",
     "output_type": "error",
     "traceback": [
      "\u001b[0;31m---------------------------------------------------------------------------\u001b[0m",
      "\u001b[0;31mRuntimeError\u001b[0m                              Traceback (most recent call last)",
      "Cell \u001b[0;32mIn[5], line 1\u001b[0m\n\u001b[0;32m----> 1\u001b[0m results \u001b[39m=\u001b[39m \u001b[39mawait\u001b[39;00m sdk\u001b[39m.\u001b[39mgeocoding(query\u001b[39m=\u001b[39m\u001b[39m'\u001b[39m\u001b[39mParliament square\u001b[39m\u001b[39m'\u001b[39m, limit\u001b[39m=\u001b[39m\u001b[39m1\u001b[39m)\n\u001b[1;32m      3\u001b[0m \u001b[39m# print(results.features)\u001b[39;00m\n",
      "File \u001b[0;32m~/_ClassCode/classenv/lib/python3.9/site-packages/traveltimepy/sdk.py:150\u001b[0m, in \u001b[0;36mTravelTimeSdk.geocoding\u001b[0;34m(self, query, limit, within_countries, format_name, format_exclude_country, bounds)\u001b[0m\n\u001b[1;32m    141\u001b[0m \u001b[39mdef\u001b[39;00m \u001b[39mgeocoding\u001b[39m(\n\u001b[1;32m    142\u001b[0m     \u001b[39mself\u001b[39m,\n\u001b[1;32m    143\u001b[0m     query: \u001b[39mstr\u001b[39m,\n\u001b[0;32m   (...)\u001b[0m\n\u001b[1;32m    148\u001b[0m     bounds: Optional[Rectangle] \u001b[39m=\u001b[39m \u001b[39mNone\u001b[39;00m\n\u001b[1;32m    149\u001b[0m ) \u001b[39m-\u001b[39m\u001b[39m>\u001b[39m FeatureCollection:\n\u001b[0;32m--> 150\u001b[0m     \u001b[39mreturn\u001b[39;00m send_get(\n\u001b[1;32m    151\u001b[0m         FeatureCollection,\n\u001b[1;32m    152\u001b[0m         \u001b[39m'\u001b[39;49m\u001b[39mgeocoding/search\u001b[39;49m\u001b[39m'\u001b[39;49m,\n\u001b[1;32m    153\u001b[0m         \u001b[39mself\u001b[39;49m\u001b[39m.\u001b[39;49m__headers(AcceptType\u001b[39m.\u001b[39;49mJSON),\n\u001b[1;32m    154\u001b[0m         \u001b[39mself\u001b[39;49m\u001b[39m.\u001b[39;49m__geocoding_params(\n\u001b[1;32m    155\u001b[0m             query,\n\u001b[1;32m    156\u001b[0m             limit,\n\u001b[1;32m    157\u001b[0m             within_countries,\n\u001b[1;32m    158\u001b[0m             format_name,\n\u001b[1;32m    159\u001b[0m             format_exclude_country,\n\u001b[1;32m    160\u001b[0m             bounds\n\u001b[1;32m    161\u001b[0m         )\n\u001b[1;32m    162\u001b[0m     )\n",
      "File \u001b[0;32m~/_ClassCode/classenv/lib/python3.9/site-packages/traveltimepy/http.py:74\u001b[0m, in \u001b[0;36msend_get\u001b[0;34m(response_class, path, headers, params)\u001b[0m\n\u001b[1;32m     68\u001b[0m \u001b[39mdef\u001b[39;00m \u001b[39msend_get\u001b[39m(\n\u001b[1;32m     69\u001b[0m     response_class: Type[T],\n\u001b[1;32m     70\u001b[0m     path: \u001b[39mstr\u001b[39m,\n\u001b[1;32m     71\u001b[0m     headers: Dict[\u001b[39mstr\u001b[39m, \u001b[39mstr\u001b[39m],\n\u001b[1;32m     72\u001b[0m     params: Dict[\u001b[39mstr\u001b[39m, \u001b[39mstr\u001b[39m] \u001b[39m=\u001b[39m \u001b[39mNone\u001b[39;00m\n\u001b[1;32m     73\u001b[0m ) \u001b[39m-\u001b[39m\u001b[39m>\u001b[39m T:\n\u001b[0;32m---> 74\u001b[0m     \u001b[39mreturn\u001b[39;00m asyncio\u001b[39m.\u001b[39;49mrun(send_get_async(response_class, path, headers, params))\n",
      "File \u001b[0;32m/opt/homebrew/Cellar/python@3.9/3.9.15/Frameworks/Python.framework/Versions/3.9/lib/python3.9/asyncio/runners.py:33\u001b[0m, in \u001b[0;36mrun\u001b[0;34m(main, debug)\u001b[0m\n\u001b[1;32m      9\u001b[0m \u001b[39m\u001b[39m\u001b[39m\"\"\"Execute the coroutine and return the result.\u001b[39;00m\n\u001b[1;32m     10\u001b[0m \n\u001b[1;32m     11\u001b[0m \u001b[39mThis function runs the passed coroutine, taking care of\u001b[39;00m\n\u001b[0;32m   (...)\u001b[0m\n\u001b[1;32m     30\u001b[0m \u001b[39m    asyncio.run(main())\u001b[39;00m\n\u001b[1;32m     31\u001b[0m \u001b[39m\"\"\"\u001b[39;00m\n\u001b[1;32m     32\u001b[0m \u001b[39mif\u001b[39;00m events\u001b[39m.\u001b[39m_get_running_loop() \u001b[39mis\u001b[39;00m \u001b[39mnot\u001b[39;00m \u001b[39mNone\u001b[39;00m:\n\u001b[0;32m---> 33\u001b[0m     \u001b[39mraise\u001b[39;00m \u001b[39mRuntimeError\u001b[39;00m(\n\u001b[1;32m     34\u001b[0m         \u001b[39m\"\u001b[39m\u001b[39masyncio.run() cannot be called from a running event loop\u001b[39m\u001b[39m\"\u001b[39m)\n\u001b[1;32m     36\u001b[0m \u001b[39mif\u001b[39;00m \u001b[39mnot\u001b[39;00m coroutines\u001b[39m.\u001b[39miscoroutine(main):\n\u001b[1;32m     37\u001b[0m     \u001b[39mraise\u001b[39;00m \u001b[39mValueError\u001b[39;00m(\u001b[39m\"\u001b[39m\u001b[39ma coroutine was expected, got \u001b[39m\u001b[39m{!r}\u001b[39;00m\u001b[39m\"\u001b[39m\u001b[39m.\u001b[39mformat(main))\n",
      "\u001b[0;31mRuntimeError\u001b[0m: asyncio.run() cannot be called from a running event loop"
     ]
    }
   ],
   "source": [
    "results = await sdk.geocoding(query='Parliament square', limit=1)\n",
    "\n",
    "# print(results.features)"
   ]
  }
 ],
 "metadata": {
  "kernelspec": {
   "display_name": "classenv",
   "language": "python",
   "name": "python3"
  },
  "language_info": {
   "codemirror_mode": {
    "name": "ipython",
    "version": 3
   },
   "file_extension": ".py",
   "mimetype": "text/x-python",
   "name": "python",
   "nbconvert_exporter": "python",
   "pygments_lexer": "ipython3",
   "version": "3.9.15"
  },
  "orig_nbformat": 4,
  "vscode": {
   "interpreter": {
    "hash": "b5427df08fa9462ce49012024a0cee8fab38196eae0b5512946c62eeb41cd97e"
   }
  }
 },
 "nbformat": 4,
 "nbformat_minor": 2
}
