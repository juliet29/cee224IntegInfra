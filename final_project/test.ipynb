{
 "cells": [
  {
   "cell_type": "code",
   "execution_count": 20,
   "metadata": {},
   "outputs": [],
   "source": [
    "from datetime import datetime\n",
    "\n",
    "from traveltimepy import Driving, Coordinates, TravelTimeSdk, PublicTransport\n",
    "import pickle\n",
    "import pandas as pd\n",
    "import numpy as np\n",
    "from math import radians, cos, sin, asin, sqrt"
   ]
  },
  {
   "cell_type": "code",
   "execution_count": 27,
   "metadata": {},
   "outputs": [],
   "source": [
    "\n",
    "def distance(lat1, lat2, lon1, lon2):\n",
    "    lon1 = radians(lon1)\n",
    "    lon2 = radians(lon2)\n",
    "    lat1 = radians(lat1)\n",
    "    lat2 = radians(lat2)\n",
    "      \n",
    "    # Haversine formula\n",
    "    dlon = lon2 - lon1\n",
    "    dlat = lat2 - lat1\n",
    "    a = sin(dlat / 2)**2 + cos(lat1) * cos(lat2) * sin(dlon / 2)**2\n",
    " \n",
    "    c = 2 * asin(sqrt(a))\n",
    "    \n",
    "    # Radius of earth in kilometers. Use 3956 for miles\n",
    "    r = 6371\n",
    "      \n",
    "    # calculate the result\n",
    "    return(c * r)"
   ]
  },
  {
   "cell_type": "code",
   "execution_count": 24,
   "metadata": {},
   "outputs": [
    {
     "data": {
      "text/plain": [
       "[1.3700803, 103.8495228]"
      ]
     },
     "execution_count": 24,
     "metadata": {},
     "output_type": "execute_result"
    }
   ],
   "source": [
    "df = pd.read_csv(\"constants/singapore_coords.csv\", index_col=0)\n",
    "long = df.iloc[0][\"Longitude\"]\n",
    "lat = df.iloc[0][\"Latitude\"]\n",
    "center_coord = [lat, long]\n",
    "center_coord"
   ]
  },
  {
   "cell_type": "code",
   "execution_count": 36,
   "metadata": {},
   "outputs": [
    {
     "data": {
      "text/plain": [
       "'Ang Mo Kio'"
      ]
     },
     "execution_count": 36,
     "metadata": {},
     "output_type": "execute_result"
    }
   ],
   "source": [
    "df.iloc[0].name"
   ]
  },
  {
   "cell_type": "code",
   "execution_count": 37,
   "metadata": {},
   "outputs": [
    {
     "data": {
      "text/plain": [
       "{'Ang Mo Kio': {\"<class 'traveltimepy.dto.transportation.Cycling'>\": 6.871618550208853}}"
      ]
     },
     "execution_count": 37,
     "metadata": {},
     "output_type": "execute_result"
    }
   ],
   "source": [
    "# find the distance between furthest away coordinates\n",
    "test_coords = pickle.load( open( \"constants/test_coords.p\", \"rb\" ) )\n",
    "test_coords\n",
    "# shell = test_coords[0].shapes[0].shell\n"
   ]
  },
  {
   "cell_type": "code",
   "execution_count": 21,
   "metadata": {},
   "outputs": [],
   "source": []
  },
  {
   "cell_type": "code",
   "execution_count": 28,
   "metadata": {},
   "outputs": [],
   "source": [
    "dsts = [distance(lat, i.lat, long, i.lng) for i in shell]"
   ]
  },
  {
   "cell_type": "code",
   "execution_count": 30,
   "metadata": {},
   "outputs": [
    {
     "data": {
      "text/plain": [
       "1.1466795015435902"
      ]
     },
     "execution_count": 30,
     "metadata": {},
     "output_type": "execute_result"
    }
   ],
   "source": [
    "max(dsts)"
   ]
  },
  {
   "cell_type": "code",
   "execution_count": 17,
   "metadata": {},
   "outputs": [
    {
     "data": {
      "text/plain": [
       "1.3669467"
      ]
     },
     "execution_count": 17,
     "metadata": {},
     "output_type": "execute_result"
    }
   ],
   "source": [
    "shell[0].l"
   ]
  },
  {
   "cell_type": "code",
   "execution_count": 7,
   "metadata": {},
   "outputs": [
    {
     "data": {
      "text/plain": [
       "[Coordinates(lat=1.3669467, lng=103.84288),\n",
       " Coordinates(lat=1.3646858, lng=103.84512),\n",
       " Coordinates(lat=1.3646858, lng=103.84602),\n",
       " Coordinates(lat=1.3637815, lng=103.846924),\n",
       " Coordinates(lat=1.3637815, lng=103.847824),\n",
       " Coordinates(lat=1.3628771, lng=103.84872),\n",
       " Coordinates(lat=1.3628771, lng=103.84962),\n",
       " Coordinates(lat=1.3619727, lng=103.85052),\n",
       " Coordinates(lat=1.3619727, lng=103.85231),\n",
       " Coordinates(lat=1.3610684, lng=103.85321),\n",
       " Coordinates(lat=1.3615205, lng=103.85366),\n",
       " Coordinates(lat=1.3633293, lng=103.85366),\n",
       " Coordinates(lat=1.3642336, lng=103.85276),\n",
       " Coordinates(lat=1.3651379, lng=103.85276),\n",
       " Coordinates(lat=1.3655902, lng=103.85321),\n",
       " Coordinates(lat=1.3646858, lng=103.85411),\n",
       " Coordinates(lat=1.3646858, lng=103.85501),\n",
       " Coordinates(lat=1.3637815, lng=103.85591),\n",
       " Coordinates(lat=1.3642336, lng=103.85635),\n",
       " Coordinates(lat=1.3669467, lng=103.85635),\n",
       " Coordinates(lat=1.3687555, lng=103.858154),\n",
       " Coordinates(lat=1.3705642, lng=103.858154),\n",
       " Coordinates(lat=1.3710164, lng=103.857704),\n",
       " Coordinates(lat=1.3710164, lng=103.856804),\n",
       " Coordinates(lat=1.3714685, lng=103.85635),\n",
       " Coordinates(lat=1.3723729, lng=103.85635),\n",
       " Coordinates(lat=1.372825, lng=103.85591),\n",
       " Coordinates(lat=1.3719207, lng=103.85501),\n",
       " Coordinates(lat=1.3723729, lng=103.85456),\n",
       " Coordinates(lat=1.3741816, lng=103.85456),\n",
       " Coordinates(lat=1.3746338, lng=103.85411),\n",
       " Coordinates(lat=1.372825, lng=103.85231),\n",
       " Coordinates(lat=1.3732773, lng=103.85187),\n",
       " Coordinates(lat=1.375086, lng=103.85187),\n",
       " Coordinates(lat=1.3759904, lng=103.85276),\n",
       " Coordinates(lat=1.3782513, lng=103.85052),\n",
       " Coordinates(lat=1.3782513, lng=103.84962),\n",
       " Coordinates(lat=1.377799, lng=103.84917),\n",
       " Coordinates(lat=1.3768947, lng=103.84917),\n",
       " Coordinates(lat=1.3764426, lng=103.84872),\n",
       " Coordinates(lat=1.377799, lng=103.847374),\n",
       " Coordinates(lat=1.3787035, lng=103.847374),\n",
       " Coordinates(lat=1.3796078, lng=103.84827),\n",
       " Coordinates(lat=1.38006, lng=103.847824),\n",
       " Coordinates(lat=1.38006, lng=103.846924),\n",
       " Coordinates(lat=1.3796078, lng=103.84647),\n",
       " Coordinates(lat=1.3787035, lng=103.84647),\n",
       " Coordinates(lat=1.3782513, lng=103.84602),\n",
       " Coordinates(lat=1.3782513, lng=103.84512),\n",
       " Coordinates(lat=1.377799, lng=103.84467),\n",
       " Coordinates(lat=1.375086, lng=103.84467),\n",
       " Coordinates(lat=1.3741816, lng=103.84378),\n",
       " Coordinates(lat=1.3714685, lng=103.84378),\n",
       " Coordinates(lat=1.370112, lng=103.84243),\n",
       " Coordinates(lat=1.370112, lng=103.84153),\n",
       " Coordinates(lat=1.3696598, lng=103.84108),\n",
       " Coordinates(lat=1.3692076, lng=103.84153),\n",
       " Coordinates(lat=1.3678511, lng=103.84288),\n",
       " Coordinates(lat=1.3669467, lng=103.84288)]"
      ]
     },
     "execution_count": 7,
     "metadata": {},
     "output_type": "execute_result"
    }
   ],
   "source": [
    "shell"
   ]
  }
 ],
 "metadata": {
  "kernelspec": {
   "display_name": "classenv",
   "language": "python",
   "name": "python3"
  },
  "language_info": {
   "codemirror_mode": {
    "name": "ipython",
    "version": 3
   },
   "file_extension": ".py",
   "mimetype": "text/x-python",
   "name": "python",
   "nbconvert_exporter": "python",
   "pygments_lexer": "ipython3",
   "version": "3.9.15"
  },
  "orig_nbformat": 4,
  "vscode": {
   "interpreter": {
    "hash": "b5427df08fa9462ce49012024a0cee8fab38196eae0b5512946c62eeb41cd97e"
   }
  }
 },
 "nbformat": 4,
 "nbformat_minor": 2
}
