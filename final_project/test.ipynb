{
 "cells": [
  {
   "cell_type": "code",
   "execution_count": 104,
   "metadata": {},
   "outputs": [],
   "source": [
    "from datetime import datetime\n",
    "\n",
    "from traveltimepy import Driving, Coordinates, TravelTimeSdk, PublicTransport\n",
    "import pickle\n",
    "import pandas as pd\n",
    "import numpy as np\n",
    "from math import radians, cos, sin, asin, sqrt\n",
    "from collections import OrderedDict"
   ]
  },
  {
   "cell_type": "code",
   "execution_count": 40,
   "metadata": {},
   "outputs": [
    {
     "data": {
      "text/plain": [
       "pydantic.main.ModelMetaclass"
      ]
     },
     "execution_count": 40,
     "metadata": {},
     "output_type": "execute_result"
    }
   ],
   "source": [
    "type(Driving)"
   ]
  },
  {
   "cell_type": "code",
   "execution_count": 27,
   "metadata": {},
   "outputs": [],
   "source": [
    "\n",
    "def distance(lat1, lat2, lon1, lon2):\n",
    "    lon1 = radians(lon1)\n",
    "    lon2 = radians(lon2)\n",
    "    lat1 = radians(lat1)\n",
    "    lat2 = radians(lat2)\n",
    "      \n",
    "    # Haversine formula\n",
    "    dlon = lon2 - lon1\n",
    "    dlat = lat2 - lat1\n",
    "    a = sin(dlat / 2)**2 + cos(lat1) * cos(lat2) * sin(dlon / 2)**2\n",
    " \n",
    "    c = 2 * asin(sqrt(a))\n",
    "    \n",
    "    # Radius of earth in kilometers. Use 3956 for miles\n",
    "    r = 6371\n",
    "      \n",
    "    # calculate the result\n",
    "    return(c * r)"
   ]
  },
  {
   "cell_type": "code",
   "execution_count": 24,
   "metadata": {},
   "outputs": [
    {
     "data": {
      "text/plain": [
       "[1.3700803, 103.8495228]"
      ]
     },
     "execution_count": 24,
     "metadata": {},
     "output_type": "execute_result"
    }
   ],
   "source": [
    "df = pd.read_csv(\"constants/singapore_coords.csv\", index_col=0)\n",
    "long = df.iloc[0][\"Longitude\"]\n",
    "lat = df.iloc[0][\"Latitude\"]\n",
    "center_coord = [lat, long]\n",
    "center_coord"
   ]
  },
  {
   "cell_type": "code",
   "execution_count": 115,
   "metadata": {},
   "outputs": [
    {
     "data": {
      "text/plain": [
       "{'Ang Mo Kio': (103.8495228, 1.3700803),\n",
       " 'Bedok': (103.930216, 1.3239765),\n",
       " 'Bishan': (106.1686627, 29.5730296)}"
      ]
     },
     "execution_count": 115,
     "metadata": {},
     "output_type": "execute_result"
    }
   ],
   "source": [
    "test = pickle.load( open( \"constants/test.p\", \"rb\" ) )\n",
    "test"
   ]
  },
  {
   "cell_type": "code",
   "execution_count": 116,
   "metadata": {},
   "outputs": [
    {
     "data": {
      "text/html": [
       "<div>\n",
       "<style scoped>\n",
       "    .dataframe tbody tr th:only-of-type {\n",
       "        vertical-align: middle;\n",
       "    }\n",
       "\n",
       "    .dataframe tbody tr th {\n",
       "        vertical-align: top;\n",
       "    }\n",
       "\n",
       "    .dataframe thead th {\n",
       "        text-align: right;\n",
       "    }\n",
       "</style>\n",
       "<table border=\"1\" class=\"dataframe\">\n",
       "  <thead>\n",
       "    <tr style=\"text-align: right;\">\n",
       "      <th></th>\n",
       "      <th>0</th>\n",
       "      <th>1</th>\n",
       "    </tr>\n",
       "  </thead>\n",
       "  <tbody>\n",
       "    <tr>\n",
       "      <th>Ang Mo Kio</th>\n",
       "      <td>103.849523</td>\n",
       "      <td>1.370080</td>\n",
       "    </tr>\n",
       "    <tr>\n",
       "      <th>Bedok</th>\n",
       "      <td>103.930216</td>\n",
       "      <td>1.323976</td>\n",
       "    </tr>\n",
       "    <tr>\n",
       "      <th>Bishan</th>\n",
       "      <td>106.168663</td>\n",
       "      <td>29.573030</td>\n",
       "    </tr>\n",
       "  </tbody>\n",
       "</table>\n",
       "</div>"
      ],
      "text/plain": [
       "                     0          1\n",
       "Ang Mo Kio  103.849523   1.370080\n",
       "Bedok       103.930216   1.323976\n",
       "Bishan      106.168663  29.573030"
      ]
     },
     "execution_count": 116,
     "metadata": {},
     "output_type": "execute_result"
    }
   ],
   "source": [
    "pd.DataFrame.from_dict(test, orient=\"index\")"
   ]
  },
  {
   "cell_type": "code",
   "execution_count": 84,
   "metadata": {},
   "outputs": [],
   "source": [
    "sing_res = pickle.load( open( \"constants/singapore_mdists.p\", \"rb\" ) )"
   ]
  },
  {
   "cell_type": "code",
   "execution_count": 87,
   "metadata": {},
   "outputs": [],
   "source": [
    "df = pd.DataFrame(sing_res)"
   ]
  },
  {
   "cell_type": "code",
   "execution_count": 111,
   "metadata": {},
   "outputs": [
    {
     "data": {
      "text/plain": [
       "dict_keys(['public_transport', 'driving', 'walking', 'cycling'])"
      ]
     },
     "execution_count": 111,
     "metadata": {},
     "output_type": "execute_result"
    }
   ],
   "source": [
    "df.iloc[0].values[0].keys()"
   ]
  },
  {
   "cell_type": "code",
   "execution_count": 106,
   "metadata": {},
   "outputs": [
    {
     "data": {
      "text/plain": [
       "array([list([9.846109178490027, 14.899304667095205, 2.151090034783624, 6.871618550208853]),\n",
       "       list([5.367797491000852, 26.74343434027348, 2.237445917842529, 6.3474494333172435]),\n",
       "       list([0, 0, 0, 0]),\n",
       "       list([10.917665019100212, 12.178058292172203, 2.2060199813428287, 5.20691956454817]),\n",
       "       list([0, 0, 0, 0]),\n",
       "       list([5.722199911038597, 23.912610887078912, 2.1419787231563574, 7.507284189637929]),\n",
       "       list([1.0152484349533595, 11.398614771607805, 2.044449040656253, 4.937190581193043]),\n",
       "       list([6.459689576897168, 5.898152102823567, 2.0209673126229784, 6.418447382547331]),\n",
       "       list([12.094351387526306, 9.82504776794687, 2.1816708776639797, 6.359168330189036]),\n",
       "       list([2.5978689437494085, 15.235482145921484, 2.301087288589845, 5.452096846213139]),\n",
       "       list([3.593630906527566, 26.14022416978335, 1.953162298473479, 6.105694453828343]),\n",
       "       list([4.883250998907631, 20.445077466296567, 2.0549411078457736, 6.264758765209567]),\n",
       "       list([9.676301472553986, 10.407272017401027, 1.9526306557134918, 6.477035820581539]),\n",
       "       list([7.002551723101139, 8.455646098888284, 2.023779832547508, 6.903251736795345]),\n",
       "       list([2.9256322607377268, 23.840937994931306, 2.0201971810559813, 6.169714140943445]),\n",
       "       list([4.916152635575213, 30.624069777419134, 2.154329269636357, 6.454061365726476]),\n",
       "       list([7.199078206351529, 15.901583876930696, 2.15936976034705, 6.408808080442411]),\n",
       "       list([4.019737163171608, 24.234966081019913, 2.106569595786972, 4.763041612629726]),\n",
       "       list([2.8739342863047415, 24.26265069469936, 2.0484311333140197, 6.1941375910433525]),\n",
       "       list([2.950277048600778, 20.22926943327297, 1.8250974046550497, 6.17159538908955])],\n",
       "      dtype=object)"
      ]
     },
     "execution_count": 106,
     "metadata": {},
     "output_type": "execute_result"
    }
   ],
   "source": [
    "a = df.apply(lambda row: [i for i in OrderedDict(row)[0].values()], axis=1).values\n",
    "a"
   ]
  },
  {
   "cell_type": "code",
   "execution_count": 113,
   "metadata": {},
   "outputs": [
    {
     "data": {
      "text/html": [
       "<div>\n",
       "<style scoped>\n",
       "    .dataframe tbody tr th:only-of-type {\n",
       "        vertical-align: middle;\n",
       "    }\n",
       "\n",
       "    .dataframe tbody tr th {\n",
       "        vertical-align: top;\n",
       "    }\n",
       "\n",
       "    .dataframe thead th {\n",
       "        text-align: right;\n",
       "    }\n",
       "</style>\n",
       "<table border=\"1\" class=\"dataframe\">\n",
       "  <thead>\n",
       "    <tr style=\"text-align: right;\">\n",
       "      <th></th>\n",
       "      <th>public_transport</th>\n",
       "      <th>driving</th>\n",
       "      <th>walking</th>\n",
       "      <th>cycling</th>\n",
       "    </tr>\n",
       "  </thead>\n",
       "  <tbody>\n",
       "    <tr>\n",
       "      <th>Ang Mo Kio</th>\n",
       "      <td>9.846109</td>\n",
       "      <td>14.899305</td>\n",
       "      <td>2.151090</td>\n",
       "      <td>6.871619</td>\n",
       "    </tr>\n",
       "    <tr>\n",
       "      <th>Bedok</th>\n",
       "      <td>5.367797</td>\n",
       "      <td>26.743434</td>\n",
       "      <td>2.237446</td>\n",
       "      <td>6.347449</td>\n",
       "    </tr>\n",
       "    <tr>\n",
       "      <th>Bishan</th>\n",
       "      <td>0.000000</td>\n",
       "      <td>0.000000</td>\n",
       "      <td>0.000000</td>\n",
       "      <td>0.000000</td>\n",
       "    </tr>\n",
       "    <tr>\n",
       "      <th>Bukit Batok</th>\n",
       "      <td>10.917665</td>\n",
       "      <td>12.178058</td>\n",
       "      <td>2.206020</td>\n",
       "      <td>5.206920</td>\n",
       "    </tr>\n",
       "    <tr>\n",
       "      <th>Bukit Merah</th>\n",
       "      <td>0.000000</td>\n",
       "      <td>0.000000</td>\n",
       "      <td>0.000000</td>\n",
       "      <td>0.000000</td>\n",
       "    </tr>\n",
       "    <tr>\n",
       "      <th>Bukit Panjang</th>\n",
       "      <td>5.722200</td>\n",
       "      <td>23.912611</td>\n",
       "      <td>2.141979</td>\n",
       "      <td>7.507284</td>\n",
       "    </tr>\n",
       "    <tr>\n",
       "      <th>Bukit Timah</th>\n",
       "      <td>1.015248</td>\n",
       "      <td>11.398615</td>\n",
       "      <td>2.044449</td>\n",
       "      <td>4.937191</td>\n",
       "    </tr>\n",
       "    <tr>\n",
       "      <th>Choa Chu Kang</th>\n",
       "      <td>6.459690</td>\n",
       "      <td>5.898152</td>\n",
       "      <td>2.020967</td>\n",
       "      <td>6.418447</td>\n",
       "    </tr>\n",
       "    <tr>\n",
       "      <th>Clementi</th>\n",
       "      <td>12.094351</td>\n",
       "      <td>9.825048</td>\n",
       "      <td>2.181671</td>\n",
       "      <td>6.359168</td>\n",
       "    </tr>\n",
       "    <tr>\n",
       "      <th>Downtown Core</th>\n",
       "      <td>2.597869</td>\n",
       "      <td>15.235482</td>\n",
       "      <td>2.301087</td>\n",
       "      <td>5.452097</td>\n",
       "    </tr>\n",
       "    <tr>\n",
       "      <th>Geylang</th>\n",
       "      <td>3.593631</td>\n",
       "      <td>26.140224</td>\n",
       "      <td>1.953162</td>\n",
       "      <td>6.105694</td>\n",
       "    </tr>\n",
       "    <tr>\n",
       "      <th>Hougang</th>\n",
       "      <td>4.883251</td>\n",
       "      <td>20.445077</td>\n",
       "      <td>2.054941</td>\n",
       "      <td>6.264759</td>\n",
       "    </tr>\n",
       "    <tr>\n",
       "      <th>Jurong East</th>\n",
       "      <td>9.676301</td>\n",
       "      <td>10.407272</td>\n",
       "      <td>1.952631</td>\n",
       "      <td>6.477036</td>\n",
       "    </tr>\n",
       "    <tr>\n",
       "      <th>Jurong West</th>\n",
       "      <td>7.002552</td>\n",
       "      <td>8.455646</td>\n",
       "      <td>2.023780</td>\n",
       "      <td>6.903252</td>\n",
       "    </tr>\n",
       "    <tr>\n",
       "      <th>Kallang</th>\n",
       "      <td>2.925632</td>\n",
       "      <td>23.840938</td>\n",
       "      <td>2.020197</td>\n",
       "      <td>6.169714</td>\n",
       "    </tr>\n",
       "    <tr>\n",
       "      <th>Marine Parade</th>\n",
       "      <td>4.916153</td>\n",
       "      <td>30.624070</td>\n",
       "      <td>2.154329</td>\n",
       "      <td>6.454061</td>\n",
       "    </tr>\n",
       "    <tr>\n",
       "      <th>Novena</th>\n",
       "      <td>7.199078</td>\n",
       "      <td>15.901584</td>\n",
       "      <td>2.159370</td>\n",
       "      <td>6.408808</td>\n",
       "    </tr>\n",
       "    <tr>\n",
       "      <th>Outram</th>\n",
       "      <td>4.019737</td>\n",
       "      <td>24.234966</td>\n",
       "      <td>2.106570</td>\n",
       "      <td>4.763042</td>\n",
       "    </tr>\n",
       "    <tr>\n",
       "      <th>Pasir Ris</th>\n",
       "      <td>2.873934</td>\n",
       "      <td>24.262651</td>\n",
       "      <td>2.048431</td>\n",
       "      <td>6.194138</td>\n",
       "    </tr>\n",
       "    <tr>\n",
       "      <th>Punggol</th>\n",
       "      <td>2.950277</td>\n",
       "      <td>20.229269</td>\n",
       "      <td>1.825097</td>\n",
       "      <td>6.171595</td>\n",
       "    </tr>\n",
       "  </tbody>\n",
       "</table>\n",
       "</div>"
      ],
      "text/plain": [
       "               public_transport    driving   walking   cycling\n",
       "Ang Mo Kio             9.846109  14.899305  2.151090  6.871619\n",
       "Bedok                  5.367797  26.743434  2.237446  6.347449\n",
       "Bishan                 0.000000   0.000000  0.000000  0.000000\n",
       "Bukit Batok           10.917665  12.178058  2.206020  5.206920\n",
       "Bukit Merah            0.000000   0.000000  0.000000  0.000000\n",
       "Bukit Panjang          5.722200  23.912611  2.141979  7.507284\n",
       "Bukit Timah            1.015248  11.398615  2.044449  4.937191\n",
       "Choa Chu Kang          6.459690   5.898152  2.020967  6.418447\n",
       "Clementi              12.094351   9.825048  2.181671  6.359168\n",
       "Downtown Core          2.597869  15.235482  2.301087  5.452097\n",
       "Geylang                3.593631  26.140224  1.953162  6.105694\n",
       "Hougang                4.883251  20.445077  2.054941  6.264759\n",
       "Jurong East            9.676301  10.407272  1.952631  6.477036\n",
       "Jurong West            7.002552   8.455646  2.023780  6.903252\n",
       "Kallang                2.925632  23.840938  2.020197  6.169714\n",
       "Marine Parade          4.916153  30.624070  2.154329  6.454061\n",
       "Novena                 7.199078  15.901584  2.159370  6.408808\n",
       "Outram                 4.019737  24.234966  2.106570  4.763042\n",
       "Pasir Ris              2.873934  24.262651  2.048431  6.194138\n",
       "Punggol                2.950277  20.229269  1.825097  6.171595"
      ]
     },
     "execution_count": 113,
     "metadata": {},
     "output_type": "execute_result"
    }
   ],
   "source": [
    "sing_df = pd.DataFrame([i for i in a], columns=df.iloc[0].values[0].keys(), index=df.index)\n",
    "sing_df"
   ]
  },
  {
   "cell_type": "code",
   "execution_count": 114,
   "metadata": {},
   "outputs": [],
   "source": [
    "sing_df.to_csv(\"constants/sing_data.csv\")"
   ]
  },
  {
   "cell_type": "code",
   "execution_count": 77,
   "metadata": {},
   "outputs": [],
   "source": [
    "sing_vals = {}\n",
    "\n",
    "def check(i):\n",
    "    name = {}\n",
    "    name[i] = i*2\n",
    "\n",
    "    return name"
   ]
  },
  {
   "cell_type": "code",
   "execution_count": 74,
   "metadata": {},
   "outputs": [],
   "source": [
    "test = {}"
   ]
  },
  {
   "cell_type": "code",
   "execution_count": 79,
   "metadata": {},
   "outputs": [
    {
     "data": {
      "text/plain": [
       "Ang Mo Kio       {103.8495228: 207.6990456}\n",
       "Bedok              {103.930216: 207.860432}\n",
       "Bishan           {106.1686627: 212.3373254}\n",
       "Bukit Batok      {103.7495906: 207.4991812}\n",
       "Bukit Merah      {101.0408667: 202.0817334}\n",
       "Bukit Panjang    {103.7630947: 207.5261894}\n",
       "Bukit Timah      {103.7763724: 207.5527448}\n",
       "Choa Chu Kang    {103.7445341: 207.4890682}\n",
       "Clementi         {103.7652311: 207.5304622}\n",
       "Downtown Core    {103.8537756: 207.7075512}\n",
       "Geylang          {103.8870563: 207.7741126}\n",
       "Hougang          {103.8925443: 207.7850886}\n",
       "Jurong East      {103.7422939: 207.4845878}\n",
       "Jurong West      {103.7058663: 207.4117326}\n",
       "Kallang            {103.866262: 207.732524}\n",
       "Marine Parade    {103.9073952: 207.8147904}\n",
       "Novena           {103.8438813: 207.6877626}\n",
       "Outram             {103.840653: 207.681306}\n",
       "Pasir Ris           {103.949255: 207.89851}\n",
       "Punggol            {103.902368: 207.804736}\n",
       "dtype: object"
      ]
     },
     "execution_count": 79,
     "metadata": {},
     "output_type": "execute_result"
    }
   ],
   "source": [
    "df.apply(lambda row: check(row.Longitude), axis=1)"
   ]
  },
  {
   "cell_type": "code",
   "execution_count": 73,
   "metadata": {},
   "outputs": [
    {
     "data": {
      "text/plain": [
       "{3: 6}"
      ]
     },
     "execution_count": 73,
     "metadata": {},
     "output_type": "execute_result"
    }
   ],
   "source": [
    "a = check(\"hello\", 3)\n",
    "a"
   ]
  },
  {
   "cell_type": "code",
   "execution_count": 71,
   "metadata": {},
   "outputs": [
    {
     "data": {
      "text/plain": [
       "{'hello': {3: 6}, 'bye': {5: 10}}"
      ]
     },
     "execution_count": 71,
     "metadata": {},
     "output_type": "execute_result"
    }
   ],
   "source": [
    "check(a, \"bye\", 5)"
   ]
  },
  {
   "cell_type": "code",
   "execution_count": 59,
   "metadata": {},
   "outputs": [],
   "source": [
    "def hi(a, b, c):\n",
    "    print(a,b, c)"
   ]
  },
  {
   "cell_type": "code",
   "execution_count": 60,
   "metadata": {},
   "outputs": [
    {
     "name": "stdout",
     "output_type": "stream",
     "text": [
      "103.8495228 1.3700803 Ang Mo Kio\n",
      "103.930216 1.3239765 Bedok\n",
      "106.1686627 29.5730296 Bishan\n",
      "103.7495906 1.3490572 Bukit Batok\n",
      "101.0408667 4.5523732 Bukit Merah\n",
      "103.7630947 1.3779175 Bukit Panjang\n",
      "103.7763724 1.3546901 Bukit Timah\n",
      "103.7445341 1.3847493 Choa Chu Kang\n",
      "103.7652311 1.3151003 Clementi\n",
      "103.8537756 1.2862423 Downtown Core\n",
      "103.8870563 1.3181862 Geylang\n",
      "103.8925443 1.3708011 Hougang\n",
      "103.7422939 1.333108 Jurong East\n",
      "103.7058663 1.3434392 Jurong West\n",
      "103.866262 1.310759 Kallang\n",
      "103.9073952 1.3026889 Marine Parade\n",
      "103.8438813 1.3205257 Novena\n",
      "103.840653 1.2816642 Outram\n",
      "103.949255 1.3730307 Pasir Ris\n",
      "103.902368 1.4051559 Punggol\n"
     ]
    },
    {
     "data": {
      "text/plain": [
       "Ang Mo Kio       None\n",
       "Bedok            None\n",
       "Bishan           None\n",
       "Bukit Batok      None\n",
       "Bukit Merah      None\n",
       "Bukit Panjang    None\n",
       "Bukit Timah      None\n",
       "Choa Chu Kang    None\n",
       "Clementi         None\n",
       "Downtown Core    None\n",
       "Geylang          None\n",
       "Hougang          None\n",
       "Jurong East      None\n",
       "Jurong West      None\n",
       "Kallang          None\n",
       "Marine Parade    None\n",
       "Novena           None\n",
       "Outram           None\n",
       "Pasir Ris        None\n",
       "Punggol          None\n",
       "dtype: object"
      ]
     },
     "execution_count": 60,
     "metadata": {},
     "output_type": "execute_result"
    }
   ],
   "source": [
    "df.apply(lambda row: hi(row[\"Longitude\"], row[\"Latitude\"], row.name), axis=1)"
   ]
  },
  {
   "cell_type": "code",
   "execution_count": 46,
   "metadata": {},
   "outputs": [
    {
     "data": {
      "text/plain": [
       "Index(['Ang Mo Kio', 'Bedok', 'Bishan', 'Bukit Batok', 'Bukit Merah',\n",
       "       'Bukit Panjang', 'Bukit Timah', 'Choa Chu Kang', 'Clementi',\n",
       "       'Downtown Core', 'Geylang', 'Hougang', 'Jurong East', 'Jurong West',\n",
       "       'Kallang', 'Marine Parade', 'Novena', 'Outram', 'Pasir Ris', 'Punggol'],\n",
       "      dtype='object')"
      ]
     },
     "execution_count": 46,
     "metadata": {},
     "output_type": "execute_result"
    }
   ],
   "source": [
    "df.index"
   ]
  },
  {
   "cell_type": "code",
   "execution_count": null,
   "metadata": {},
   "outputs": [],
   "source": []
  },
  {
   "cell_type": "code",
   "execution_count": 36,
   "metadata": {},
   "outputs": [
    {
     "data": {
      "text/plain": [
       "'Ang Mo Kio'"
      ]
     },
     "execution_count": 36,
     "metadata": {},
     "output_type": "execute_result"
    }
   ],
   "source": [
    "df.iloc[0].name"
   ]
  },
  {
   "cell_type": "code",
   "execution_count": 45,
   "metadata": {},
   "outputs": [
    {
     "data": {
      "text/plain": [
       "{'Ang Mo Kio': {'public_transport': 2.190425378257557,\n",
       "  'driving': 14.899304667095205,\n",
       "  'walking': 2.151090034783624,\n",
       "  'cycling': 6.871618550208853}}"
      ]
     },
     "execution_count": 45,
     "metadata": {},
     "output_type": "execute_result"
    }
   ],
   "source": [
    "# find the distance between furthest away coordinates\n",
    "test_coords = pickle.load( open( \"constants/test_coords.p\", \"rb\" ) )\n",
    "test_coords\n",
    "# shell = test_coords[0].shapes[0].shell\n"
   ]
  },
  {
   "cell_type": "code",
   "execution_count": 21,
   "metadata": {},
   "outputs": [],
   "source": []
  },
  {
   "cell_type": "code",
   "execution_count": 28,
   "metadata": {},
   "outputs": [],
   "source": [
    "dsts = [distance(lat, i.lat, long, i.lng) for i in shell]"
   ]
  },
  {
   "cell_type": "code",
   "execution_count": 30,
   "metadata": {},
   "outputs": [
    {
     "data": {
      "text/plain": [
       "1.1466795015435902"
      ]
     },
     "execution_count": 30,
     "metadata": {},
     "output_type": "execute_result"
    }
   ],
   "source": [
    "max(dsts)"
   ]
  },
  {
   "cell_type": "code",
   "execution_count": 17,
   "metadata": {},
   "outputs": [
    {
     "data": {
      "text/plain": [
       "1.3669467"
      ]
     },
     "execution_count": 17,
     "metadata": {},
     "output_type": "execute_result"
    }
   ],
   "source": [
    "shell[0].l"
   ]
  },
  {
   "cell_type": "code",
   "execution_count": 7,
   "metadata": {},
   "outputs": [
    {
     "data": {
      "text/plain": [
       "[Coordinates(lat=1.3669467, lng=103.84288),\n",
       " Coordinates(lat=1.3646858, lng=103.84512),\n",
       " Coordinates(lat=1.3646858, lng=103.84602),\n",
       " Coordinates(lat=1.3637815, lng=103.846924),\n",
       " Coordinates(lat=1.3637815, lng=103.847824),\n",
       " Coordinates(lat=1.3628771, lng=103.84872),\n",
       " Coordinates(lat=1.3628771, lng=103.84962),\n",
       " Coordinates(lat=1.3619727, lng=103.85052),\n",
       " Coordinates(lat=1.3619727, lng=103.85231),\n",
       " Coordinates(lat=1.3610684, lng=103.85321),\n",
       " Coordinates(lat=1.3615205, lng=103.85366),\n",
       " Coordinates(lat=1.3633293, lng=103.85366),\n",
       " Coordinates(lat=1.3642336, lng=103.85276),\n",
       " Coordinates(lat=1.3651379, lng=103.85276),\n",
       " Coordinates(lat=1.3655902, lng=103.85321),\n",
       " Coordinates(lat=1.3646858, lng=103.85411),\n",
       " Coordinates(lat=1.3646858, lng=103.85501),\n",
       " Coordinates(lat=1.3637815, lng=103.85591),\n",
       " Coordinates(lat=1.3642336, lng=103.85635),\n",
       " Coordinates(lat=1.3669467, lng=103.85635),\n",
       " Coordinates(lat=1.3687555, lng=103.858154),\n",
       " Coordinates(lat=1.3705642, lng=103.858154),\n",
       " Coordinates(lat=1.3710164, lng=103.857704),\n",
       " Coordinates(lat=1.3710164, lng=103.856804),\n",
       " Coordinates(lat=1.3714685, lng=103.85635),\n",
       " Coordinates(lat=1.3723729, lng=103.85635),\n",
       " Coordinates(lat=1.372825, lng=103.85591),\n",
       " Coordinates(lat=1.3719207, lng=103.85501),\n",
       " Coordinates(lat=1.3723729, lng=103.85456),\n",
       " Coordinates(lat=1.3741816, lng=103.85456),\n",
       " Coordinates(lat=1.3746338, lng=103.85411),\n",
       " Coordinates(lat=1.372825, lng=103.85231),\n",
       " Coordinates(lat=1.3732773, lng=103.85187),\n",
       " Coordinates(lat=1.375086, lng=103.85187),\n",
       " Coordinates(lat=1.3759904, lng=103.85276),\n",
       " Coordinates(lat=1.3782513, lng=103.85052),\n",
       " Coordinates(lat=1.3782513, lng=103.84962),\n",
       " Coordinates(lat=1.377799, lng=103.84917),\n",
       " Coordinates(lat=1.3768947, lng=103.84917),\n",
       " Coordinates(lat=1.3764426, lng=103.84872),\n",
       " Coordinates(lat=1.377799, lng=103.847374),\n",
       " Coordinates(lat=1.3787035, lng=103.847374),\n",
       " Coordinates(lat=1.3796078, lng=103.84827),\n",
       " Coordinates(lat=1.38006, lng=103.847824),\n",
       " Coordinates(lat=1.38006, lng=103.846924),\n",
       " Coordinates(lat=1.3796078, lng=103.84647),\n",
       " Coordinates(lat=1.3787035, lng=103.84647),\n",
       " Coordinates(lat=1.3782513, lng=103.84602),\n",
       " Coordinates(lat=1.3782513, lng=103.84512),\n",
       " Coordinates(lat=1.377799, lng=103.84467),\n",
       " Coordinates(lat=1.375086, lng=103.84467),\n",
       " Coordinates(lat=1.3741816, lng=103.84378),\n",
       " Coordinates(lat=1.3714685, lng=103.84378),\n",
       " Coordinates(lat=1.370112, lng=103.84243),\n",
       " Coordinates(lat=1.370112, lng=103.84153),\n",
       " Coordinates(lat=1.3696598, lng=103.84108),\n",
       " Coordinates(lat=1.3692076, lng=103.84153),\n",
       " Coordinates(lat=1.3678511, lng=103.84288),\n",
       " Coordinates(lat=1.3669467, lng=103.84288)]"
      ]
     },
     "execution_count": 7,
     "metadata": {},
     "output_type": "execute_result"
    }
   ],
   "source": [
    "shell"
   ]
  }
 ],
 "metadata": {
  "kernelspec": {
   "display_name": "classenv",
   "language": "python",
   "name": "python3"
  },
  "language_info": {
   "codemirror_mode": {
    "name": "ipython",
    "version": 3
   },
   "file_extension": ".py",
   "mimetype": "text/x-python",
   "name": "python",
   "nbconvert_exporter": "python",
   "pygments_lexer": "ipython3",
   "version": "3.9.15"
  },
  "orig_nbformat": 4,
  "vscode": {
   "interpreter": {
    "hash": "b5427df08fa9462ce49012024a0cee8fab38196eae0b5512946c62eeb41cd97e"
   }
  }
 },
 "nbformat": 4,
 "nbformat_minor": 2
}
