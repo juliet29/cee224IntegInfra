{
 "cells": [
  {
   "cell_type": "code",
   "execution_count": 1,
   "metadata": {},
   "outputs": [],
   "source": [
    "import hw1_helpers as hh\n",
    "import math\n",
    "\n",
    "import plotly.express as px\n",
    "import plotly.graph_objects as go\n",
    "from plotly.subplots import make_subplots\n",
    "\n",
    "\n",
    "\n",
    "from pint import UnitRegistry"
   ]
  },
  {
   "attachments": {},
   "cell_type": "markdown",
   "metadata": {},
   "source": [
    "## constants\n",
    "\n",
    "- source: fluid properties https://www.climate-policy-watcher.org/wastewater-sludge/physical-and-biological-properties.html"
   ]
  },
  {
   "cell_type": "code",
   "execution_count": 2,
   "metadata": {},
   "outputs": [
    {
     "data": {
      "text/plain": [
       "{'rho': 998.0 <Unit('kilogram / meter ** 3')>,\n",
       " 'mu': 0.00102 <Unit('kilogram / meter / second')>,\n",
       " 'D': 0.06 <Unit('meter')>,\n",
       " 'h': 1 <Unit('meter')>,\n",
       " 'beta': 1 <Unit('meter')>,\n",
       " 'H': 2.2 <Unit('meter')>,\n",
       " 'x ': 66.66666666666667 <Unit('meter')>,\n",
       " 'theta': 89.14062775635531 <Unit('degree')>,\n",
       " 'L': 65 <Unit('meter')>,\n",
       " 'g': 9.8 <Unit('meter / second ** 2')>,\n",
       " 'alpha': 2}"
      ]
     },
     "execution_count": 2,
     "metadata": {},
     "output_type": "execute_result"
    }
   ],
   "source": [
    "# example constants \n",
    "ex_c = hh.constants(1, 1,  1, 1, 1, override=True)\n",
    "ex_c"
   ]
  },
  {
   "cell_type": "code",
   "execution_count": 3,
   "metadata": {},
   "outputs": [
    {
     "data": {
      "text/plain": [
       "{'rho': 1030.0 <Unit('kilogram / meter ** 3')>,\n",
       " 'mu': 0.5 <Unit('kilogram / meter / second')>,\n",
       " 'D': 0.1 <Unit('meter')>,\n",
       " 'h': 1.1 <Unit('meter')>,\n",
       " 'beta': 1.1 <Unit('meter')>,\n",
       " 'H': 2.2 <Unit('meter')>,\n",
       " 'x ': 73.33333333333334 <Unit('meter')>,\n",
       " 'theta': 89.14062775635531 <Unit('degree')>,\n",
       " 'L': 73.34158286932303 <Unit('meter')>,\n",
       " 'g': 9.8 <Unit('meter / second ** 2')>,\n",
       " 'alpha': 2}"
      ]
     },
     "execution_count": 3,
     "metadata": {},
     "output_type": "execute_result"
    }
   ],
   "source": [
    "# real constants \n",
    "# density of primary sludge => 1.0 -> 1.03 g/cm3 =>=> 1000 kg/m3 -> 1030 kg/m3\n",
    "# dynamic viscosity => 0.5 and 2 Pa*s  ~ kg/(m*s)\n",
    "# worst case material scenario\n",
    "rc = hh.constants(rho=1030, mu=2, D=0.1, h=1.1, beta=1.1 )\n",
    "rc"
   ]
  },
  {
   "attachments": {},
   "cell_type": "markdown",
   "metadata": {},
   "source": [
    "# calculations"
   ]
  },
  {
   "cell_type": "code",
   "execution_count": 336,
   "metadata": {},
   "outputs": [],
   "source": [
    "# set constants \n",
    "d = rc"
   ]
  },
  {
   "cell_type": "code",
   "execution_count": null,
   "metadata": {},
   "outputs": [],
   "source": [
    "def calc_properties(d): \n",
    "    \"\"\"calculates properties of the system given dictionary d of appropriate constants \"\"\"\n",
    "\n",
    "    # coefficients\n",
    "    a = 1\n",
    "    b = (64 * d[\"mu\"] * d[\"L\"] ) / (d[\"rho\"] * d[\"D\"]**2 * d[\"alpha\"] )\n",
    "    c =  -(2 * d[\"g\"] * d[\"H\"]) / (d[\"alpha\"])\n",
    "\n",
    "    coeff = {\n",
    "        \"a\": a,\n",
    "        \"b\": b,\n",
    "        \"c\": c\n",
    "    }\n",
    "\n",
    "    print(coeff)\n",
    "\n",
    "    # calculate velocity of fluid coming down first incline \n",
    "    vel_result = hh.solve_quad(a, b, c)\n",
    "\n",
    "    return vel_result\n",
    "    \n",
    "    # vel = vel_result[0]"
   ]
  },
  {
   "cell_type": "code",
   "execution_count": 337,
   "metadata": {},
   "outputs": [
    {
     "name": "stdout",
     "output_type": "stream",
     "text": [
      "{'a': 1, 'b': <Quantity(113.928672, 'meter / second')>, 'c': <Quantity(-21.56, 'meter ** 2 / second ** 2')>}\n"
     ]
    }
   ],
   "source": [
    "a = 1\n",
    "b = (64 * d[\"mu\"] * d[\"L\"] ) / (d[\"rho\"] * d[\"D\"]**2 * d[\"alpha\"] )\n",
    "c =  -(2 * d[\"g\"] * d[\"H\"]) / (d[\"alpha\"])\n",
    "\n",
    "coeff = {\n",
    "    \"a\": a,\n",
    "    \"b\": b,\n",
    "    \"c\": c\n",
    "}\n",
    "\n",
    "print(coeff)"
   ]
  },
  {
   "cell_type": "code",
   "execution_count": null,
   "metadata": {},
   "outputs": [],
   "source": [
    "# want to know how changing h and d affect the velocity => , currently have velocity of 0.00148 m / s, and need 40 m/s at least "
   ]
  },
  {
   "attachments": {},
   "cell_type": "markdown",
   "metadata": {},
   "source": [
    "## plot"
   ]
  },
  {
   "cell_type": "code",
   "execution_count": 338,
   "metadata": {},
   "outputs": [
    {
     "data": {
      "text/html": [
       "-1414.427241836584 meter<sup>2</sup>/second<sup>2</sup>"
      ],
      "text/latex": [
       "$-1414.427241836584\\ \\frac{\\mathrm{meter}^{2}}{\\mathrm{second}^{2}}$"
      ],
      "text/plain": [
       "-1414.427241836584 <Unit('meter ** 2 / second ** 2')>"
      ]
     },
     "execution_count": 338,
     "metadata": {},
     "output_type": "execute_result"
    }
   ],
   "source": [
    "x =  np.linspace(-100, 100, 100)  * m / s\n",
    "\n",
    "y = (a * x**2) + (b * x) + c\n",
    "\n",
    "y[0]\n"
   ]
  },
  {
   "cell_type": "code",
   "execution_count": 339,
   "metadata": {},
   "outputs": [
    {
     "data": {
      "application/vnd.plotly.v1+json": {
       "config": {
        "plotlyServerURL": "https://plotly.com"
       },
       "data": [
        {
         "mode": "lines+markers",
         "type": "scatter",
         "x": [
          -100,
          -97.97979797979798,
          -95.95959595959596,
          -93.93939393939394,
          -91.91919191919192,
          -89.8989898989899,
          -87.87878787878788,
          -85.85858585858585,
          -83.83838383838383,
          -81.81818181818181,
          -79.79797979797979,
          -77.77777777777777,
          -75.75757575757575,
          -73.73737373737373,
          -71.71717171717171,
          -69.69696969696969,
          -67.67676767676767,
          -65.65656565656565,
          -63.63636363636363,
          -61.61616161616161,
          -59.59595959595959,
          -57.57575757575757,
          -55.55555555555555,
          -53.53535353535353,
          -51.515151515151516,
          -49.494949494949495,
          -47.474747474747474,
          -45.45454545454545,
          -43.43434343434343,
          -41.41414141414141,
          -39.39393939393939,
          -37.37373737373737,
          -35.35353535353535,
          -33.33333333333333,
          -31.313131313131308,
          -29.292929292929287,
          -27.272727272727266,
          -25.252525252525245,
          -23.232323232323225,
          -21.212121212121204,
          -19.191919191919183,
          -17.171717171717162,
          -15.151515151515142,
          -13.13131313131312,
          -11.1111111111111,
          -9.09090909090908,
          -7.0707070707070585,
          -5.050505050505038,
          -3.030303030303031,
          -1.0101010101010104,
          1.0101010101010104,
          3.030303030303031,
          5.050505050505052,
          7.070707070707073,
          9.090909090909093,
          11.111111111111114,
          13.131313131313135,
          15.151515151515156,
          17.171717171717177,
          19.191919191919197,
          21.212121212121218,
          23.23232323232324,
          25.25252525252526,
          27.27272727272728,
          29.2929292929293,
          31.313131313131322,
          33.33333333333334,
          35.353535353535364,
          37.373737373737384,
          39.393939393939405,
          41.414141414141426,
          43.43434343434345,
          45.45454545454547,
          47.47474747474749,
          49.49494949494951,
          51.51515151515153,
          53.53535353535355,
          55.55555555555557,
          57.57575757575759,
          59.59595959595961,
          61.616161616161634,
          63.636363636363654,
          65.65656565656568,
          67.6767676767677,
          69.69696969696972,
          71.71717171717174,
          73.73737373737376,
          75.75757575757578,
          77.7777777777778,
          79.79797979797982,
          81.81818181818184,
          83.83838383838386,
          85.85858585858588,
          87.8787878787879,
          89.89898989898992,
          91.91919191919195,
          93.93939393939394,
          95.95959595959596,
          97.97979797979798,
          100
         ],
         "y": [
          -1414.427241836584,
          -1584.2274954960435,
          -1745.865316750646,
          -1899.3407056003912,
          -2044.6536620452812,
          -2181.8041860853123,
          -2310.792277720488,
          -2431.6179369508077,
          -2544.28116377627,
          -2648.7819581968756,
          -2745.120320212624,
          -2833.296249823516,
          -2913.309747029552,
          -2985.1608118307317,
          -3048.8494442270535,
          -3104.37564421852,
          -3151.7394118051293,
          -3190.9407469868815,
          -3221.9796497637776,
          -3244.856120135816,
          -3259.570158102999,
          -3266.121763665325,
          -3264.510936822794,
          -3254.737677575407,
          -3236.801985923162,
          -3210.703861866062,
          -3176.443305404104,
          -3134.0203165372905,
          -3083.4348952656205,
          -3024.687041589092,
          -2957.7767555077085,
          -2882.7040370214686,
          -2799.4688861303707,
          -2708.0713028344167,
          -2608.5112871336064,
          -2500.788839027939,
          -2384.9039585174155,
          -2260.856645602035,
          -2128.646900281797,
          -1988.2747225567039,
          -1839.7401124267533,
          -1683.043069891946,
          -1518.1835949522824,
          -1345.161687607762,
          -1163.977347858385,
          -974.6305757041512,
          -777.121371145061,
          -571.4497341811139,
          -357.61566481231165,
          -135.61916303865138,
          94.53977113986555,
          332.8611377232391,
          579.3449367114695,
          833.9911681045562,
          1096.7998319024998,
          1367.7709281053,
          1646.9044567129567,
          1934.2004177254705,
          2229.6588111428405,
          2533.2796369650673,
          2845.062895192151,
          3165.008585824091,
          3493.1167088608877,
          3829.387264302541,
          4173.82025214905,
          4526.415672400417,
          4887.173525056641,
          5256.093810117721,
          5633.176527583657,
          6018.421677454451,
          6411.829259730101,
          6813.399274410607,
          7223.131721495971,
          7641.026600986191,
          8067.083912881267,
          8501.3036571812,
          8943.685833885991,
          9394.230442995638,
          9852.937484510141,
          10319.8069584295,
          10794.838864753718,
          11278.03320348279,
          11769.38997461672,
          12268.909178155505,
          12776.59081409915,
          13292.43488244765,
          13816.441383201007,
          14348.610316359218,
          14888.941681922288,
          15437.435479890215,
          15994.091710262997,
          16558.910373040635,
          17131.891468223133,
          17713.034995810485,
          18302.340955802694,
          18899.80934819976,
          19505.440173001676,
          20119.233430208453,
          20741.18911982009,
          21371.30724183658
         ]
        }
       ],
       "layout": {
        "template": {
         "data": {
          "bar": [
           {
            "error_x": {
             "color": "#2a3f5f"
            },
            "error_y": {
             "color": "#2a3f5f"
            },
            "marker": {
             "line": {
              "color": "#E5ECF6",
              "width": 0.5
             },
             "pattern": {
              "fillmode": "overlay",
              "size": 10,
              "solidity": 0.2
             }
            },
            "type": "bar"
           }
          ],
          "barpolar": [
           {
            "marker": {
             "line": {
              "color": "#E5ECF6",
              "width": 0.5
             },
             "pattern": {
              "fillmode": "overlay",
              "size": 10,
              "solidity": 0.2
             }
            },
            "type": "barpolar"
           }
          ],
          "carpet": [
           {
            "aaxis": {
             "endlinecolor": "#2a3f5f",
             "gridcolor": "white",
             "linecolor": "white",
             "minorgridcolor": "white",
             "startlinecolor": "#2a3f5f"
            },
            "baxis": {
             "endlinecolor": "#2a3f5f",
             "gridcolor": "white",
             "linecolor": "white",
             "minorgridcolor": "white",
             "startlinecolor": "#2a3f5f"
            },
            "type": "carpet"
           }
          ],
          "choropleth": [
           {
            "colorbar": {
             "outlinewidth": 0,
             "ticks": ""
            },
            "type": "choropleth"
           }
          ],
          "contour": [
           {
            "colorbar": {
             "outlinewidth": 0,
             "ticks": ""
            },
            "colorscale": [
             [
              0,
              "#0d0887"
             ],
             [
              0.1111111111111111,
              "#46039f"
             ],
             [
              0.2222222222222222,
              "#7201a8"
             ],
             [
              0.3333333333333333,
              "#9c179e"
             ],
             [
              0.4444444444444444,
              "#bd3786"
             ],
             [
              0.5555555555555556,
              "#d8576b"
             ],
             [
              0.6666666666666666,
              "#ed7953"
             ],
             [
              0.7777777777777778,
              "#fb9f3a"
             ],
             [
              0.8888888888888888,
              "#fdca26"
             ],
             [
              1,
              "#f0f921"
             ]
            ],
            "type": "contour"
           }
          ],
          "contourcarpet": [
           {
            "colorbar": {
             "outlinewidth": 0,
             "ticks": ""
            },
            "type": "contourcarpet"
           }
          ],
          "heatmap": [
           {
            "colorbar": {
             "outlinewidth": 0,
             "ticks": ""
            },
            "colorscale": [
             [
              0,
              "#0d0887"
             ],
             [
              0.1111111111111111,
              "#46039f"
             ],
             [
              0.2222222222222222,
              "#7201a8"
             ],
             [
              0.3333333333333333,
              "#9c179e"
             ],
             [
              0.4444444444444444,
              "#bd3786"
             ],
             [
              0.5555555555555556,
              "#d8576b"
             ],
             [
              0.6666666666666666,
              "#ed7953"
             ],
             [
              0.7777777777777778,
              "#fb9f3a"
             ],
             [
              0.8888888888888888,
              "#fdca26"
             ],
             [
              1,
              "#f0f921"
             ]
            ],
            "type": "heatmap"
           }
          ],
          "heatmapgl": [
           {
            "colorbar": {
             "outlinewidth": 0,
             "ticks": ""
            },
            "colorscale": [
             [
              0,
              "#0d0887"
             ],
             [
              0.1111111111111111,
              "#46039f"
             ],
             [
              0.2222222222222222,
              "#7201a8"
             ],
             [
              0.3333333333333333,
              "#9c179e"
             ],
             [
              0.4444444444444444,
              "#bd3786"
             ],
             [
              0.5555555555555556,
              "#d8576b"
             ],
             [
              0.6666666666666666,
              "#ed7953"
             ],
             [
              0.7777777777777778,
              "#fb9f3a"
             ],
             [
              0.8888888888888888,
              "#fdca26"
             ],
             [
              1,
              "#f0f921"
             ]
            ],
            "type": "heatmapgl"
           }
          ],
          "histogram": [
           {
            "marker": {
             "pattern": {
              "fillmode": "overlay",
              "size": 10,
              "solidity": 0.2
             }
            },
            "type": "histogram"
           }
          ],
          "histogram2d": [
           {
            "colorbar": {
             "outlinewidth": 0,
             "ticks": ""
            },
            "colorscale": [
             [
              0,
              "#0d0887"
             ],
             [
              0.1111111111111111,
              "#46039f"
             ],
             [
              0.2222222222222222,
              "#7201a8"
             ],
             [
              0.3333333333333333,
              "#9c179e"
             ],
             [
              0.4444444444444444,
              "#bd3786"
             ],
             [
              0.5555555555555556,
              "#d8576b"
             ],
             [
              0.6666666666666666,
              "#ed7953"
             ],
             [
              0.7777777777777778,
              "#fb9f3a"
             ],
             [
              0.8888888888888888,
              "#fdca26"
             ],
             [
              1,
              "#f0f921"
             ]
            ],
            "type": "histogram2d"
           }
          ],
          "histogram2dcontour": [
           {
            "colorbar": {
             "outlinewidth": 0,
             "ticks": ""
            },
            "colorscale": [
             [
              0,
              "#0d0887"
             ],
             [
              0.1111111111111111,
              "#46039f"
             ],
             [
              0.2222222222222222,
              "#7201a8"
             ],
             [
              0.3333333333333333,
              "#9c179e"
             ],
             [
              0.4444444444444444,
              "#bd3786"
             ],
             [
              0.5555555555555556,
              "#d8576b"
             ],
             [
              0.6666666666666666,
              "#ed7953"
             ],
             [
              0.7777777777777778,
              "#fb9f3a"
             ],
             [
              0.8888888888888888,
              "#fdca26"
             ],
             [
              1,
              "#f0f921"
             ]
            ],
            "type": "histogram2dcontour"
           }
          ],
          "mesh3d": [
           {
            "colorbar": {
             "outlinewidth": 0,
             "ticks": ""
            },
            "type": "mesh3d"
           }
          ],
          "parcoords": [
           {
            "line": {
             "colorbar": {
              "outlinewidth": 0,
              "ticks": ""
             }
            },
            "type": "parcoords"
           }
          ],
          "pie": [
           {
            "automargin": true,
            "type": "pie"
           }
          ],
          "scatter": [
           {
            "fillpattern": {
             "fillmode": "overlay",
             "size": 10,
             "solidity": 0.2
            },
            "type": "scatter"
           }
          ],
          "scatter3d": [
           {
            "line": {
             "colorbar": {
              "outlinewidth": 0,
              "ticks": ""
             }
            },
            "marker": {
             "colorbar": {
              "outlinewidth": 0,
              "ticks": ""
             }
            },
            "type": "scatter3d"
           }
          ],
          "scattercarpet": [
           {
            "marker": {
             "colorbar": {
              "outlinewidth": 0,
              "ticks": ""
             }
            },
            "type": "scattercarpet"
           }
          ],
          "scattergeo": [
           {
            "marker": {
             "colorbar": {
              "outlinewidth": 0,
              "ticks": ""
             }
            },
            "type": "scattergeo"
           }
          ],
          "scattergl": [
           {
            "marker": {
             "colorbar": {
              "outlinewidth": 0,
              "ticks": ""
             }
            },
            "type": "scattergl"
           }
          ],
          "scattermapbox": [
           {
            "marker": {
             "colorbar": {
              "outlinewidth": 0,
              "ticks": ""
             }
            },
            "type": "scattermapbox"
           }
          ],
          "scatterpolar": [
           {
            "marker": {
             "colorbar": {
              "outlinewidth": 0,
              "ticks": ""
             }
            },
            "type": "scatterpolar"
           }
          ],
          "scatterpolargl": [
           {
            "marker": {
             "colorbar": {
              "outlinewidth": 0,
              "ticks": ""
             }
            },
            "type": "scatterpolargl"
           }
          ],
          "scatterternary": [
           {
            "marker": {
             "colorbar": {
              "outlinewidth": 0,
              "ticks": ""
             }
            },
            "type": "scatterternary"
           }
          ],
          "surface": [
           {
            "colorbar": {
             "outlinewidth": 0,
             "ticks": ""
            },
            "colorscale": [
             [
              0,
              "#0d0887"
             ],
             [
              0.1111111111111111,
              "#46039f"
             ],
             [
              0.2222222222222222,
              "#7201a8"
             ],
             [
              0.3333333333333333,
              "#9c179e"
             ],
             [
              0.4444444444444444,
              "#bd3786"
             ],
             [
              0.5555555555555556,
              "#d8576b"
             ],
             [
              0.6666666666666666,
              "#ed7953"
             ],
             [
              0.7777777777777778,
              "#fb9f3a"
             ],
             [
              0.8888888888888888,
              "#fdca26"
             ],
             [
              1,
              "#f0f921"
             ]
            ],
            "type": "surface"
           }
          ],
          "table": [
           {
            "cells": {
             "fill": {
              "color": "#EBF0F8"
             },
             "line": {
              "color": "white"
             }
            },
            "header": {
             "fill": {
              "color": "#C8D4E3"
             },
             "line": {
              "color": "white"
             }
            },
            "type": "table"
           }
          ]
         },
         "layout": {
          "annotationdefaults": {
           "arrowcolor": "#2a3f5f",
           "arrowhead": 0,
           "arrowwidth": 1
          },
          "autotypenumbers": "strict",
          "coloraxis": {
           "colorbar": {
            "outlinewidth": 0,
            "ticks": ""
           }
          },
          "colorscale": {
           "diverging": [
            [
             0,
             "#8e0152"
            ],
            [
             0.1,
             "#c51b7d"
            ],
            [
             0.2,
             "#de77ae"
            ],
            [
             0.3,
             "#f1b6da"
            ],
            [
             0.4,
             "#fde0ef"
            ],
            [
             0.5,
             "#f7f7f7"
            ],
            [
             0.6,
             "#e6f5d0"
            ],
            [
             0.7,
             "#b8e186"
            ],
            [
             0.8,
             "#7fbc41"
            ],
            [
             0.9,
             "#4d9221"
            ],
            [
             1,
             "#276419"
            ]
           ],
           "sequential": [
            [
             0,
             "#0d0887"
            ],
            [
             0.1111111111111111,
             "#46039f"
            ],
            [
             0.2222222222222222,
             "#7201a8"
            ],
            [
             0.3333333333333333,
             "#9c179e"
            ],
            [
             0.4444444444444444,
             "#bd3786"
            ],
            [
             0.5555555555555556,
             "#d8576b"
            ],
            [
             0.6666666666666666,
             "#ed7953"
            ],
            [
             0.7777777777777778,
             "#fb9f3a"
            ],
            [
             0.8888888888888888,
             "#fdca26"
            ],
            [
             1,
             "#f0f921"
            ]
           ],
           "sequentialminus": [
            [
             0,
             "#0d0887"
            ],
            [
             0.1111111111111111,
             "#46039f"
            ],
            [
             0.2222222222222222,
             "#7201a8"
            ],
            [
             0.3333333333333333,
             "#9c179e"
            ],
            [
             0.4444444444444444,
             "#bd3786"
            ],
            [
             0.5555555555555556,
             "#d8576b"
            ],
            [
             0.6666666666666666,
             "#ed7953"
            ],
            [
             0.7777777777777778,
             "#fb9f3a"
            ],
            [
             0.8888888888888888,
             "#fdca26"
            ],
            [
             1,
             "#f0f921"
            ]
           ]
          },
          "colorway": [
           "#636efa",
           "#EF553B",
           "#00cc96",
           "#ab63fa",
           "#FFA15A",
           "#19d3f3",
           "#FF6692",
           "#B6E880",
           "#FF97FF",
           "#FECB52"
          ],
          "font": {
           "color": "#2a3f5f"
          },
          "geo": {
           "bgcolor": "white",
           "lakecolor": "white",
           "landcolor": "#E5ECF6",
           "showlakes": true,
           "showland": true,
           "subunitcolor": "white"
          },
          "hoverlabel": {
           "align": "left"
          },
          "hovermode": "closest",
          "mapbox": {
           "style": "light"
          },
          "paper_bgcolor": "white",
          "plot_bgcolor": "#E5ECF6",
          "polar": {
           "angularaxis": {
            "gridcolor": "white",
            "linecolor": "white",
            "ticks": ""
           },
           "bgcolor": "#E5ECF6",
           "radialaxis": {
            "gridcolor": "white",
            "linecolor": "white",
            "ticks": ""
           }
          },
          "scene": {
           "xaxis": {
            "backgroundcolor": "#E5ECF6",
            "gridcolor": "white",
            "gridwidth": 2,
            "linecolor": "white",
            "showbackground": true,
            "ticks": "",
            "zerolinecolor": "white"
           },
           "yaxis": {
            "backgroundcolor": "#E5ECF6",
            "gridcolor": "white",
            "gridwidth": 2,
            "linecolor": "white",
            "showbackground": true,
            "ticks": "",
            "zerolinecolor": "white"
           },
           "zaxis": {
            "backgroundcolor": "#E5ECF6",
            "gridcolor": "white",
            "gridwidth": 2,
            "linecolor": "white",
            "showbackground": true,
            "ticks": "",
            "zerolinecolor": "white"
           }
          },
          "shapedefaults": {
           "line": {
            "color": "#2a3f5f"
           }
          },
          "ternary": {
           "aaxis": {
            "gridcolor": "white",
            "linecolor": "white",
            "ticks": ""
           },
           "baxis": {
            "gridcolor": "white",
            "linecolor": "white",
            "ticks": ""
           },
           "bgcolor": "#E5ECF6",
           "caxis": {
            "gridcolor": "white",
            "linecolor": "white",
            "ticks": ""
           }
          },
          "title": {
           "x": 0.05
          },
          "xaxis": {
           "automargin": true,
           "gridcolor": "white",
           "linecolor": "white",
           "ticks": "",
           "title": {
            "standoff": 15
           },
           "zerolinecolor": "white",
           "zerolinewidth": 2
          },
          "yaxis": {
           "automargin": true,
           "gridcolor": "white",
           "linecolor": "white",
           "ticks": "",
           "title": {
            "standoff": 15
           },
           "zerolinecolor": "white",
           "zerolinewidth": 2
          }
         }
        },
        "title": {
         "text": "Examine Quad - Solving for V"
        },
        "xaxis": {
         "title": {
          "text": "x "
         }
        },
        "yaxis": {
         "title": {
          "text": "y"
         }
        }
       }
      }
     },
     "metadata": {},
     "output_type": "display_data"
    }
   ],
   "source": [
    "\n",
    "fig = go.Figure()\n",
    "fig.add_trace(go.Scatter(\n",
    "    x=x.magnitude,\n",
    "    y=y.magnitude, \n",
    "    mode='lines+markers',\n",
    "))\n",
    "\n",
    "fig.update_layout(title='Examine Quad - Solving for V',\n",
    "                   xaxis_title='x ',\n",
    "                   yaxis_title='y')"
   ]
  },
  {
   "cell_type": "code",
   "execution_count": 340,
   "metadata": {},
   "outputs": [],
   "source": [
    "def solve_quad(a, b, c):\n",
    "    # a = a\n",
    "    # b = b.magnitude\n",
    "    # c = c.magnitude\n",
    "    print(a,b,c)\n",
    "    d = b ** 2 - 4 * a * c  # this part is called the discriminant\n",
    "\n",
    "    if d < 0:\n",
    "        print(\"The equation has no real solutions\")\n",
    "    elif d == 0:\n",
    "        x = (-b + np.sqrt(b ** 2 - 4 * a * c)) / (2 * a)\n",
    "        print(f\"The equation has one solution: {x} \")\n",
    "        return x\n",
    "    else:\n",
    "        x1 = (-b + np.sqrt(b ** 2 - 4 * a * c)) / (2 * a)\n",
    "        x2 = (-b - np.sqrt(b ** 2 - 4 * a * c)) / (2 * a)\n",
    "        print(f\"The equation has two solutions: {x1} or {x2}\")\n",
    "        return (x1,x2)\n",
    "    "
   ]
  },
  {
   "cell_type": "code",
   "execution_count": 341,
   "metadata": {},
   "outputs": [
    {
     "name": "stdout",
     "output_type": "stream",
     "text": [
      "1 113.92867241836585 meter / second -21.560000000000002 meter ** 2 / second ** 2\n",
      "The equation has two solutions: 0.18892791241233908 meter / second or -114.11760033077819 meter / second\n"
     ]
    },
    {
     "data": {
      "text/plain": [
       "(0.18892791241233908 <Unit('meter / second')>,\n",
       " -114.11760033077819 <Unit('meter / second')>)"
      ]
     },
     "execution_count": 341,
     "metadata": {},
     "output_type": "execute_result"
    }
   ],
   "source": [
    "vel_result = solve_quad(a, b, c)\n",
    "\n",
    "vel_result "
   ]
  },
  {
   "cell_type": "code",
   "execution_count": 342,
   "metadata": {},
   "outputs": [
    {
     "data": {
      "text/html": [
       "0.18892791241233908 meter/second"
      ],
      "text/latex": [
       "$0.18892791241233908\\ \\frac{\\mathrm{meter}}{\\mathrm{second}}$"
      ],
      "text/plain": [
       "0.18892791241233908 <Unit('meter / second')>"
      ]
     },
     "execution_count": 342,
     "metadata": {},
     "output_type": "execute_result"
    }
   ],
   "source": [
    "vel = vel_result[0]\n",
    "vel"
   ]
  },
  {
   "attachments": {},
   "cell_type": "markdown",
   "metadata": {},
   "source": [
    "## volume flow rate"
   ]
  },
  {
   "cell_type": "code",
   "execution_count": 343,
   "metadata": {},
   "outputs": [
    {
     "data": {
      "text/html": [
       "0.0014838363542316513 meter<sup>3</sup>/second"
      ],
      "text/latex": [
       "$0.0014838363542316513\\ \\frac{\\mathrm{meter}^{3}}{\\mathrm{second}}$"
      ],
      "text/plain": [
       "0.0014838363542316513 <Unit('meter ** 3 / second')>"
      ]
     },
     "execution_count": 343,
     "metadata": {},
     "output_type": "execute_result"
    }
   ],
   "source": [
    "# # vfr , volume flow rate, m3/s\n",
    "vfr = (vel* math.pi * d[\"D\"]**2) / 4\n",
    "vfr"
   ]
  },
  {
   "attachments": {},
   "cell_type": "markdown",
   "metadata": {},
   "source": [
    "## work from the pump "
   ]
  },
  {
   "cell_type": "code",
   "execution_count": 344,
   "metadata": {},
   "outputs": [
    {
     "data": {
      "text/html": [
       "38.91914995694185 dimensionless"
      ],
      "text/latex": [
       "$38.91914995694185\\ dimensionless$"
      ],
      "text/plain": [
       "38.91914995694185 <Unit('dimensionless')>"
      ]
     },
     "execution_count": 344,
     "metadata": {},
     "output_type": "execute_result"
    }
   ],
   "source": [
    "Re = (d[\"rho\"]*vel*d[\"D\"]) / d[\"mu\"]\n",
    "Re"
   ]
  },
  {
   "cell_type": "code",
   "execution_count": 345,
   "metadata": {},
   "outputs": [
    {
     "data": {
      "text/html": [
       "1.6444346824328464 dimensionless"
      ],
      "text/latex": [
       "$1.6444346824328464\\ dimensionless$"
      ],
      "text/plain": [
       "1.6444346824328464 <Unit('dimensionless')>"
      ]
     },
     "execution_count": 345,
     "metadata": {},
     "output_type": "execute_result"
    }
   ],
   "source": [
    "f = 64/ Re\n",
    "f"
   ]
  },
  {
   "cell_type": "code",
   "execution_count": 346,
   "metadata": {},
   "outputs": [
    {
     "data": {
      "text/html": [
       "0.03569375608848447 meter<sup>2</sup>/second<sup>2</sup>"
      ],
      "text/latex": [
       "$0.03569375608848447\\ \\frac{\\mathrm{meter}^{2}}{\\mathrm{second}^{2}}$"
      ],
      "text/plain": [
       "0.03569375608848447 <Unit('meter ** 2 / second ** 2')>"
      ]
     },
     "execution_count": 346,
     "metadata": {},
     "output_type": "execute_result"
    }
   ],
   "source": [
    "vel**2"
   ]
  },
  {
   "cell_type": "code",
   "execution_count": 347,
   "metadata": {},
   "outputs": [
    {
     "data": {
      "text/html": [
       "2.1963577799909286 meter"
      ],
      "text/latex": [
       "$2.1963577799909286\\ \\mathrm{meter}$"
      ],
      "text/plain": [
       "2.1963577799909286 <Unit('meter')>"
      ]
     },
     "execution_count": 347,
     "metadata": {},
     "output_type": "execute_result"
    }
   ],
   "source": [
    "h_l = f * (d[\"L\"] / d[\"D\"]) *  0.5*((vel**2) / d[\"g\"])\n",
    "h_l"
   ]
  },
  {
   "cell_type": "code",
   "execution_count": 348,
   "metadata": {},
   "outputs": [
    {
     "data": {
      "text/html": [
       "32.89670454746054 kilogram meter<sup>2</sup>/second<sup>3</sup>"
      ],
      "text/latex": [
       "$32.89670454746054\\ \\frac{\\mathrm{kilogram} \\cdot \\mathrm{meter}^{2}}{\\mathrm{second}^{3}}$"
      ],
      "text/plain": [
       "32.89670454746054 <Unit('kilogram * meter ** 2 / second ** 3')>"
      ]
     },
     "execution_count": 348,
     "metadata": {},
     "output_type": "execute_result"
    }
   ],
   "source": [
    "# rate of pump work -> kg m2/s^3 (Watts)\n",
    "w_pump = vfr * d[\"rho\"] * d[\"g\"] * h_l\n",
    "w_pump"
   ]
  },
  {
   "attachments": {},
   "cell_type": "markdown",
   "metadata": {},
   "source": [
    "# boundaries\n"
   ]
  },
  {
   "cell_type": "code",
   "execution_count": 349,
   "metadata": {},
   "outputs": [
    {
     "data": {
      "text/html": [
       "46.29629629629629 meter<sup>3</sup>/second"
      ],
      "text/latex": [
       "$46.29629629629629\\ \\frac{\\mathrm{meter}^{3}}{\\mathrm{second}}$"
      ],
      "text/plain": [
       "46.29629629629629 <Unit('meter ** 3 / second')>"
      ]
     },
     "execution_count": 349,
     "metadata": {},
     "output_type": "execute_result"
    }
   ],
   "source": [
    "# 4 million m^3 / day => s <= minimum flow rate ?\n",
    "city_fr = (4e6 * m**3 / u.day).to(\"m**3 / s\")\n",
    "city_fr\n",
    "# 40 km of movement \n",
    "# 2.5 kw - 13.5 kW pumps "
   ]
  },
  {
   "cell_type": "code",
   "execution_count": 350,
   "metadata": {},
   "outputs": [
    {
     "data": {
      "text/plain": [
       "46"
      ]
     },
     "execution_count": 350,
     "metadata": {},
     "output_type": "execute_result"
    }
   ],
   "source": [
    "46"
   ]
  }
 ],
 "metadata": {
  "kernelspec": {
   "display_name": "classenv",
   "language": "python",
   "name": "python3"
  },
  "language_info": {
   "codemirror_mode": {
    "name": "ipython",
    "version": 3
   },
   "file_extension": ".py",
   "mimetype": "text/x-python",
   "name": "python",
   "nbconvert_exporter": "python",
   "pygments_lexer": "ipython3",
   "version": "3.9.15"
  },
  "orig_nbformat": 4,
  "vscode": {
   "interpreter": {
    "hash": "b5427df08fa9462ce49012024a0cee8fab38196eae0b5512946c62eeb41cd97e"
   }
  }
 },
 "nbformat": 4,
 "nbformat_minor": 2
}
