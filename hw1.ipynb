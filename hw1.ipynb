{
 "cells": [
  {
   "cell_type": "code",
   "execution_count": 141,
   "metadata": {},
   "outputs": [],
   "source": [
    "import numpy as np\n",
    "import math\n",
    "\n",
    "import plotly.express as px\n",
    "import plotly.graph_objects as go\n",
    "from plotly.subplots import make_subplots\n",
    "\n",
    "from pint import UnitRegistry"
   ]
  },
  {
   "attachments": {},
   "cell_type": "markdown",
   "metadata": {},
   "source": [
    "## constants\n",
    "\n",
    "- source: fluid properties https://www.climate-policy-watcher.org/wastewater-sludge/physical-and-biological-properties.html"
   ]
  },
  {
   "cell_type": "code",
   "execution_count": 176,
   "metadata": {},
   "outputs": [],
   "source": [
    "u = UnitRegistry()\n",
    "kg = u.kilogram\n",
    "m = u.meter \n",
    "s = u.second\n"
   ]
  },
  {
   "cell_type": "code",
   "execution_count": 236,
   "metadata": {},
   "outputs": [],
   "source": [
    "def constants(rho, mu,  D, h, beta, override=False, perc_grade=0.015, alpha=2, g=9.8):\n",
    "\n",
    "    # -----> to calculate pipe length, L \n",
    "\n",
    "    # max grade, slope s\n",
    "    perc_grade = 0.015 \n",
    "\n",
    "    # pipe horz distance travelled, x \n",
    "    x = h / perc_grade\n",
    "\n",
    "    # angle required, theta \n",
    "    # TODO check if this is h/x or x/h \n",
    "    theta = np.rad2deg(np.arctan(x/h))\n",
    "\n",
    "    # pipe length, L\n",
    "    L = x / np.sin(theta) # m\n",
    "    \n",
    "    c = {\n",
    "        # --- fluid ---------------> \n",
    "        # density of primary sludge\n",
    "        \"rho\": rho * kg / (m**3),\n",
    "        # dynamic viscosity\n",
    "        \"mu \": mu * kg / (m*s),\n",
    "        # ---- infra ------------->\n",
    "        # pipe diameter \n",
    "        \"D\": D * m,  \n",
    "        # lift height, h \n",
    "        \"h\": h * m,\n",
    "        # tank height, beta \n",
    "        \"beta\": beta * m,\n",
    "        # total height dif\n",
    "        \"H\": h + beta,\n",
    "        # total horz distance \n",
    "        \"x \": x,\n",
    "        # angle \n",
    "        \"theta\": theta,\n",
    "        # pipe length \n",
    "        \"L\": L,\n",
    "        # ---- physics ----------->\n",
    "        \"g\": g * m / (s**2),\n",
    "        \"alpha\": alpha\n",
    "        \n",
    "    }\n",
    "\n",
    "    if override:\n",
    "        # use values from the Cengel example 8.1\n",
    "        c[\"rho\"] = 998 * kg / (m**3)\n",
    "        c[\"mu\"] = 0.00102 * kg / (m*s)\n",
    "        c[\"D\"] = 0.06 * m  \n",
    "        c[\"L\"] = 65 * m \n",
    "        c[\"H\"] = 2.20 * m \n",
    "\n",
    "    return c\n",
    "\n"
   ]
  },
  {
   "cell_type": "code",
   "execution_count": 191,
   "metadata": {},
   "outputs": [
    {
     "data": {
      "text/plain": [
       "{'rho': 998.0 <Unit('kilogram / meter ** 3')>,\n",
       " 'mu ': 0.00102 <Unit('kilogram / meter / second')>}"
      ]
     },
     "execution_count": 191,
     "metadata": {},
     "output_type": "execute_result"
    }
   ],
   "source": [
    "# fluid properties\n",
    "\n",
    "# density of primary sludge => 1.0 -> 1.03 g/cm3 =>=> 1000 kg/m3 -> 1030 kg/m3\n",
    "rho = 998 * kg / (m**3)\n",
    "\n",
    "# dynamic viscosity => 0.5 and 2 Pa*s  ~ kg/(m*s)\n",
    "mu = 0.00102 * kg / (m*s)\n",
    "\n",
    "fluid_prop = {\n",
    "    \"rho\": rho,\n",
    "    \"mu \": mu,\n",
    "}\n",
    "fluid_prop"
   ]
  },
  {
   "cell_type": "code",
   "execution_count": 193,
   "metadata": {},
   "outputs": [
    {
     "name": "stdout",
     "output_type": "stream",
     "text": [
      "{'lift height, h': <Quantity(1.2, 'meter')>, 'horz distance, x ': <Quantity(80.0, 'meter')>, 'theta': <Quantity(89.1406278, 'degree')>, 'pipe length': <Quantity(65, 'meter')>, 'total height dif': <Quantity(2.2, 'meter')>}\n"
     ]
    }
   ],
   "source": [
    "# infrastructure properties \n",
    "\n",
    "# pipe diameter, D \n",
    "D = 0.06 * m  \n",
    "\n",
    "# lift height, h \n",
    "h = 1.20 * m \n",
    "\n",
    "# tank height, beta \n",
    "beta =  1 * m \n",
    "\n",
    "H = h + beta\n",
    "H = 2.20 * m \n",
    "\n",
    "# -----> to calculate pipe length \n",
    "\n",
    "# max grade, slope s\n",
    "perc_grade = 0.015 \n",
    "\n",
    "# pipe horz distance travelled, x \n",
    "x = h / perc_grade\n",
    "\n",
    "# angle required, theta # TODO check if this is h/x or x/h \n",
    "theta = np.rad2deg(np.arctan(x/h))\n",
    "\n",
    "# pipe length, L\n",
    "L = x / np.sin(theta) # m\n",
    "\n",
    "\n",
    "L = 65 * m # m, from book example \n",
    "\n",
    "infra_prop = {\n",
    "    \"lift height, h\": h,\n",
    "    \"horz distance, x \": x,\n",
    "    \"theta\": theta,\n",
    "    \"pipe length\": L,\n",
    "    \"total height dif\": H\n",
    "}\n",
    "\n",
    "\n",
    "\n",
    "print(infra_prop)\n"
   ]
  },
  {
   "cell_type": "code",
   "execution_count": 194,
   "metadata": {},
   "outputs": [
    {
     "data": {
      "text/html": [
       "0.0663 kilogram/second"
      ],
      "text/latex": [
       "$0.0663\\ \\frac{\\mathrm{kilogram}}{\\mathrm{second}}$"
      ],
      "text/plain": [
       "0.0663 <Unit('kilogram / second')>"
      ]
     },
     "execution_count": 194,
     "metadata": {},
     "output_type": "execute_result"
    }
   ],
   "source": [
    "mu * L"
   ]
  },
  {
   "cell_type": "code",
   "execution_count": 181,
   "metadata": {},
   "outputs": [],
   "source": [
    "# other physics properties?\n",
    "\n",
    "# alpha, constant for fully developed flow at the outlet of a hose \n",
    "alpha = 2\n",
    "\n",
    "# gravitational acceleration \n",
    "g = 9.8 * m / (s**2)"
   ]
  },
  {
   "cell_type": "code",
   "execution_count": 205,
   "metadata": {},
   "outputs": [
    {
     "name": "stdout",
     "output_type": "stream",
     "text": [
      "{'a': 1, 'b': <Quantity(0.590514362, 'meter / second')>, 'c': <Quantity(-21.56, 'meter ** 2 / second ** 2')>}\n"
     ]
    }
   ],
   "source": [
    "a = 1\n",
    "b = (64 * mu * L ) / (rho * D**2 * alpha )\n",
    "c =  -(2 * g * H) / (alpha)\n",
    "\n",
    "coeff = {\n",
    "    \"a\": a,\n",
    "    \"b\": b,\n",
    "    \"c\": c\n",
    "}\n",
    "\n",
    "print(coeff)"
   ]
  },
  {
   "attachments": {},
   "cell_type": "markdown",
   "metadata": {},
   "source": [
    "## plot"
   ]
  },
  {
   "cell_type": "code",
   "execution_count": 208,
   "metadata": {},
   "outputs": [
    {
     "data": {
      "text/html": [
       "72.53485637942552 meter<sup>2</sup>/second<sup>2</sup>"
      ],
      "text/latex": [
       "$72.53485637942552\\ \\frac{\\mathrm{meter}^{2}}{\\mathrm{second}^{2}}$"
      ],
      "text/plain": [
       "72.53485637942552 <Unit('meter ** 2 / second ** 2')>"
      ]
     },
     "execution_count": 208,
     "metadata": {},
     "output_type": "execute_result"
    }
   ],
   "source": [
    "x =  np.linspace(-10, 10, 100)  * m / s\n",
    "\n",
    "y = (a * x**2) + (b * x) + c\n",
    "\n",
    "y[0]\n"
   ]
  },
  {
   "cell_type": "code",
   "execution_count": 209,
   "metadata": {},
   "outputs": [
    {
     "data": {
      "application/vnd.plotly.v1+json": {
       "config": {
        "plotlyServerURL": "https://plotly.com"
       },
       "data": [
        {
         "mode": "lines+markers",
         "type": "scatter",
         "x": [
          -10,
          -9.797979797979798,
          -9.595959595959595,
          -9.393939393939394,
          -9.191919191919192,
          -8.98989898989899,
          -8.787878787878787,
          -8.585858585858587,
          -8.383838383838384,
          -8.181818181818182,
          -7.979797979797979,
          -7.777777777777778,
          -7.575757575757576,
          -7.373737373737374,
          -7.171717171717171,
          -6.96969696969697,
          -6.767676767676768,
          -6.565656565656566,
          -6.363636363636363,
          -6.161616161616162,
          -5.959595959595959,
          -5.757575757575758,
          -5.555555555555555,
          -5.353535353535354,
          -5.151515151515151,
          -4.94949494949495,
          -4.747474747474747,
          -4.545454545454546,
          -4.343434343434343,
          -4.141414141414142,
          -3.9393939393939394,
          -3.737373737373738,
          -3.5353535353535355,
          -3.333333333333333,
          -3.1313131313131315,
          -2.929292929292929,
          -2.7272727272727275,
          -2.525252525252525,
          -2.3232323232323235,
          -2.121212121212121,
          -1.9191919191919187,
          -1.717171717171718,
          -1.5151515151515156,
          -1.3131313131313131,
          -1.1111111111111107,
          -0.9090909090909101,
          -0.7070707070707076,
          -0.5050505050505052,
          -0.30303030303030276,
          -0.10101010101010033,
          0.10101010101010033,
          0.30303030303030276,
          0.5050505050505052,
          0.7070707070707076,
          0.9090909090909083,
          1.1111111111111107,
          1.3131313131313131,
          1.5151515151515156,
          1.7171717171717162,
          1.9191919191919187,
          2.121212121212121,
          2.3232323232323235,
          2.525252525252524,
          2.7272727272727266,
          2.929292929292929,
          3.1313131313131315,
          3.333333333333334,
          3.5353535353535346,
          3.737373737373737,
          3.9393939393939394,
          4.141414141414142,
          4.3434343434343425,
          4.545454545454545,
          4.747474747474747,
          4.94949494949495,
          5.1515151515151505,
          5.353535353535353,
          5.555555555555555,
          5.757575757575758,
          5.9595959595959584,
          6.161616161616163,
          6.363636363636363,
          6.565656565656564,
          6.767676767676768,
          6.969696969696969,
          7.171717171717173,
          7.373737373737374,
          7.575757575757574,
          7.777777777777779,
          7.979797979797979,
          8.18181818181818,
          8.383838383838384,
          8.585858585858585,
          8.787878787878789,
          8.98989898989899,
          9.19191919191919,
          9.393939393939394,
          9.595959595959595,
          9.7979797979798,
          10
         ],
         "y": [
          72.53485637942552,
          68.65456033176443,
          64.85588860815191,
          61.138841208587976,
          57.503418133072586,
          53.94961938160577,
          50.477444954187504,
          47.086894850817856,
          43.77796907149673,
          40.55066761622419,
          37.404990485000184,
          34.340937677824776,
          31.358509194697938,
          28.457705035619647,
          25.638525200589925,
          22.900969689608786,
          20.24503850267621,
          17.670731639792187,
          15.178049100956734,
          12.76699088616985,
          10.437556995431525,
          8.189747428741786,
          6.023562186100591,
          3.9390012675079795,
          1.9360646729639228,
          0.014752402468442227,
          -1.82493554397848,
          -3.5829991663768297,
          -5.259438464726621,
          -6.854253439027836,
          -8.367444089280491,
          -9.799010415484576,
          -11.148952417640098,
          -12.417270095747053,
          -13.603963449805438,
          -14.70903247981526,
          -15.732477185776514,
          -16.6742975676892,
          -17.53449362555332,
          -18.313065359368878,
          -19.01001276913587,
          -19.625335854854285,
          -20.159034616524142,
          -20.611109054145434,
          -20.981559167718157,
          -21.27038495724231,
          -21.4775864227179,
          -21.60316356414492,
          -21.64711638152338,
          -21.60944487485327,
          -21.490149044134593,
          -21.28922888936735,
          -21.00668441055154,
          -20.642515607687166,
          -20.196722480774223,
          -19.669305029812715,
          -19.06026325480264,
          -18.369597155743996,
          -17.597306732636792,
          -16.74339198548102,
          -15.807852914276673,
          -14.790689519023765,
          -13.691901799722297,
          -12.511489756372255,
          -11.249453388973645,
          -9.905792697526469,
          -8.480507682030726,
          -6.973598342486429,
          -5.385064678893553,
          -3.7149066912521107,
          -1.9631243795621032,
          -0.12971774382354084,
          1.7853132159635976,
          3.7819684997993086,
          5.860248107683585,
          8.02015203961641,
          10.26168029559782,
          12.584832875627797,
          14.989609779706342,
          17.47601100783342,
          20.044036560009125,
          22.693686436233342,
          25.42496063650613,
          28.237859160827526,
          31.132382009197443,
          34.10852918161598,
          37.166300678083026,
          40.30569649859864,
          43.52671664316287,
          46.829361111775626,
          50.21362990443694,
          53.67952302114688,
          57.22704046190532,
          60.856182226712406,
          64.56694831556797,
          68.35933872847211,
          72.23335346542488,
          76.18899252642616,
          80.22625591147607,
          84.34514362057448
         ]
        }
       ],
       "layout": {
        "template": {
         "data": {
          "bar": [
           {
            "error_x": {
             "color": "#2a3f5f"
            },
            "error_y": {
             "color": "#2a3f5f"
            },
            "marker": {
             "line": {
              "color": "#E5ECF6",
              "width": 0.5
             },
             "pattern": {
              "fillmode": "overlay",
              "size": 10,
              "solidity": 0.2
             }
            },
            "type": "bar"
           }
          ],
          "barpolar": [
           {
            "marker": {
             "line": {
              "color": "#E5ECF6",
              "width": 0.5
             },
             "pattern": {
              "fillmode": "overlay",
              "size": 10,
              "solidity": 0.2
             }
            },
            "type": "barpolar"
           }
          ],
          "carpet": [
           {
            "aaxis": {
             "endlinecolor": "#2a3f5f",
             "gridcolor": "white",
             "linecolor": "white",
             "minorgridcolor": "white",
             "startlinecolor": "#2a3f5f"
            },
            "baxis": {
             "endlinecolor": "#2a3f5f",
             "gridcolor": "white",
             "linecolor": "white",
             "minorgridcolor": "white",
             "startlinecolor": "#2a3f5f"
            },
            "type": "carpet"
           }
          ],
          "choropleth": [
           {
            "colorbar": {
             "outlinewidth": 0,
             "ticks": ""
            },
            "type": "choropleth"
           }
          ],
          "contour": [
           {
            "colorbar": {
             "outlinewidth": 0,
             "ticks": ""
            },
            "colorscale": [
             [
              0,
              "#0d0887"
             ],
             [
              0.1111111111111111,
              "#46039f"
             ],
             [
              0.2222222222222222,
              "#7201a8"
             ],
             [
              0.3333333333333333,
              "#9c179e"
             ],
             [
              0.4444444444444444,
              "#bd3786"
             ],
             [
              0.5555555555555556,
              "#d8576b"
             ],
             [
              0.6666666666666666,
              "#ed7953"
             ],
             [
              0.7777777777777778,
              "#fb9f3a"
             ],
             [
              0.8888888888888888,
              "#fdca26"
             ],
             [
              1,
              "#f0f921"
             ]
            ],
            "type": "contour"
           }
          ],
          "contourcarpet": [
           {
            "colorbar": {
             "outlinewidth": 0,
             "ticks": ""
            },
            "type": "contourcarpet"
           }
          ],
          "heatmap": [
           {
            "colorbar": {
             "outlinewidth": 0,
             "ticks": ""
            },
            "colorscale": [
             [
              0,
              "#0d0887"
             ],
             [
              0.1111111111111111,
              "#46039f"
             ],
             [
              0.2222222222222222,
              "#7201a8"
             ],
             [
              0.3333333333333333,
              "#9c179e"
             ],
             [
              0.4444444444444444,
              "#bd3786"
             ],
             [
              0.5555555555555556,
              "#d8576b"
             ],
             [
              0.6666666666666666,
              "#ed7953"
             ],
             [
              0.7777777777777778,
              "#fb9f3a"
             ],
             [
              0.8888888888888888,
              "#fdca26"
             ],
             [
              1,
              "#f0f921"
             ]
            ],
            "type": "heatmap"
           }
          ],
          "heatmapgl": [
           {
            "colorbar": {
             "outlinewidth": 0,
             "ticks": ""
            },
            "colorscale": [
             [
              0,
              "#0d0887"
             ],
             [
              0.1111111111111111,
              "#46039f"
             ],
             [
              0.2222222222222222,
              "#7201a8"
             ],
             [
              0.3333333333333333,
              "#9c179e"
             ],
             [
              0.4444444444444444,
              "#bd3786"
             ],
             [
              0.5555555555555556,
              "#d8576b"
             ],
             [
              0.6666666666666666,
              "#ed7953"
             ],
             [
              0.7777777777777778,
              "#fb9f3a"
             ],
             [
              0.8888888888888888,
              "#fdca26"
             ],
             [
              1,
              "#f0f921"
             ]
            ],
            "type": "heatmapgl"
           }
          ],
          "histogram": [
           {
            "marker": {
             "pattern": {
              "fillmode": "overlay",
              "size": 10,
              "solidity": 0.2
             }
            },
            "type": "histogram"
           }
          ],
          "histogram2d": [
           {
            "colorbar": {
             "outlinewidth": 0,
             "ticks": ""
            },
            "colorscale": [
             [
              0,
              "#0d0887"
             ],
             [
              0.1111111111111111,
              "#46039f"
             ],
             [
              0.2222222222222222,
              "#7201a8"
             ],
             [
              0.3333333333333333,
              "#9c179e"
             ],
             [
              0.4444444444444444,
              "#bd3786"
             ],
             [
              0.5555555555555556,
              "#d8576b"
             ],
             [
              0.6666666666666666,
              "#ed7953"
             ],
             [
              0.7777777777777778,
              "#fb9f3a"
             ],
             [
              0.8888888888888888,
              "#fdca26"
             ],
             [
              1,
              "#f0f921"
             ]
            ],
            "type": "histogram2d"
           }
          ],
          "histogram2dcontour": [
           {
            "colorbar": {
             "outlinewidth": 0,
             "ticks": ""
            },
            "colorscale": [
             [
              0,
              "#0d0887"
             ],
             [
              0.1111111111111111,
              "#46039f"
             ],
             [
              0.2222222222222222,
              "#7201a8"
             ],
             [
              0.3333333333333333,
              "#9c179e"
             ],
             [
              0.4444444444444444,
              "#bd3786"
             ],
             [
              0.5555555555555556,
              "#d8576b"
             ],
             [
              0.6666666666666666,
              "#ed7953"
             ],
             [
              0.7777777777777778,
              "#fb9f3a"
             ],
             [
              0.8888888888888888,
              "#fdca26"
             ],
             [
              1,
              "#f0f921"
             ]
            ],
            "type": "histogram2dcontour"
           }
          ],
          "mesh3d": [
           {
            "colorbar": {
             "outlinewidth": 0,
             "ticks": ""
            },
            "type": "mesh3d"
           }
          ],
          "parcoords": [
           {
            "line": {
             "colorbar": {
              "outlinewidth": 0,
              "ticks": ""
             }
            },
            "type": "parcoords"
           }
          ],
          "pie": [
           {
            "automargin": true,
            "type": "pie"
           }
          ],
          "scatter": [
           {
            "fillpattern": {
             "fillmode": "overlay",
             "size": 10,
             "solidity": 0.2
            },
            "type": "scatter"
           }
          ],
          "scatter3d": [
           {
            "line": {
             "colorbar": {
              "outlinewidth": 0,
              "ticks": ""
             }
            },
            "marker": {
             "colorbar": {
              "outlinewidth": 0,
              "ticks": ""
             }
            },
            "type": "scatter3d"
           }
          ],
          "scattercarpet": [
           {
            "marker": {
             "colorbar": {
              "outlinewidth": 0,
              "ticks": ""
             }
            },
            "type": "scattercarpet"
           }
          ],
          "scattergeo": [
           {
            "marker": {
             "colorbar": {
              "outlinewidth": 0,
              "ticks": ""
             }
            },
            "type": "scattergeo"
           }
          ],
          "scattergl": [
           {
            "marker": {
             "colorbar": {
              "outlinewidth": 0,
              "ticks": ""
             }
            },
            "type": "scattergl"
           }
          ],
          "scattermapbox": [
           {
            "marker": {
             "colorbar": {
              "outlinewidth": 0,
              "ticks": ""
             }
            },
            "type": "scattermapbox"
           }
          ],
          "scatterpolar": [
           {
            "marker": {
             "colorbar": {
              "outlinewidth": 0,
              "ticks": ""
             }
            },
            "type": "scatterpolar"
           }
          ],
          "scatterpolargl": [
           {
            "marker": {
             "colorbar": {
              "outlinewidth": 0,
              "ticks": ""
             }
            },
            "type": "scatterpolargl"
           }
          ],
          "scatterternary": [
           {
            "marker": {
             "colorbar": {
              "outlinewidth": 0,
              "ticks": ""
             }
            },
            "type": "scatterternary"
           }
          ],
          "surface": [
           {
            "colorbar": {
             "outlinewidth": 0,
             "ticks": ""
            },
            "colorscale": [
             [
              0,
              "#0d0887"
             ],
             [
              0.1111111111111111,
              "#46039f"
             ],
             [
              0.2222222222222222,
              "#7201a8"
             ],
             [
              0.3333333333333333,
              "#9c179e"
             ],
             [
              0.4444444444444444,
              "#bd3786"
             ],
             [
              0.5555555555555556,
              "#d8576b"
             ],
             [
              0.6666666666666666,
              "#ed7953"
             ],
             [
              0.7777777777777778,
              "#fb9f3a"
             ],
             [
              0.8888888888888888,
              "#fdca26"
             ],
             [
              1,
              "#f0f921"
             ]
            ],
            "type": "surface"
           }
          ],
          "table": [
           {
            "cells": {
             "fill": {
              "color": "#EBF0F8"
             },
             "line": {
              "color": "white"
             }
            },
            "header": {
             "fill": {
              "color": "#C8D4E3"
             },
             "line": {
              "color": "white"
             }
            },
            "type": "table"
           }
          ]
         },
         "layout": {
          "annotationdefaults": {
           "arrowcolor": "#2a3f5f",
           "arrowhead": 0,
           "arrowwidth": 1
          },
          "autotypenumbers": "strict",
          "coloraxis": {
           "colorbar": {
            "outlinewidth": 0,
            "ticks": ""
           }
          },
          "colorscale": {
           "diverging": [
            [
             0,
             "#8e0152"
            ],
            [
             0.1,
             "#c51b7d"
            ],
            [
             0.2,
             "#de77ae"
            ],
            [
             0.3,
             "#f1b6da"
            ],
            [
             0.4,
             "#fde0ef"
            ],
            [
             0.5,
             "#f7f7f7"
            ],
            [
             0.6,
             "#e6f5d0"
            ],
            [
             0.7,
             "#b8e186"
            ],
            [
             0.8,
             "#7fbc41"
            ],
            [
             0.9,
             "#4d9221"
            ],
            [
             1,
             "#276419"
            ]
           ],
           "sequential": [
            [
             0,
             "#0d0887"
            ],
            [
             0.1111111111111111,
             "#46039f"
            ],
            [
             0.2222222222222222,
             "#7201a8"
            ],
            [
             0.3333333333333333,
             "#9c179e"
            ],
            [
             0.4444444444444444,
             "#bd3786"
            ],
            [
             0.5555555555555556,
             "#d8576b"
            ],
            [
             0.6666666666666666,
             "#ed7953"
            ],
            [
             0.7777777777777778,
             "#fb9f3a"
            ],
            [
             0.8888888888888888,
             "#fdca26"
            ],
            [
             1,
             "#f0f921"
            ]
           ],
           "sequentialminus": [
            [
             0,
             "#0d0887"
            ],
            [
             0.1111111111111111,
             "#46039f"
            ],
            [
             0.2222222222222222,
             "#7201a8"
            ],
            [
             0.3333333333333333,
             "#9c179e"
            ],
            [
             0.4444444444444444,
             "#bd3786"
            ],
            [
             0.5555555555555556,
             "#d8576b"
            ],
            [
             0.6666666666666666,
             "#ed7953"
            ],
            [
             0.7777777777777778,
             "#fb9f3a"
            ],
            [
             0.8888888888888888,
             "#fdca26"
            ],
            [
             1,
             "#f0f921"
            ]
           ]
          },
          "colorway": [
           "#636efa",
           "#EF553B",
           "#00cc96",
           "#ab63fa",
           "#FFA15A",
           "#19d3f3",
           "#FF6692",
           "#B6E880",
           "#FF97FF",
           "#FECB52"
          ],
          "font": {
           "color": "#2a3f5f"
          },
          "geo": {
           "bgcolor": "white",
           "lakecolor": "white",
           "landcolor": "#E5ECF6",
           "showlakes": true,
           "showland": true,
           "subunitcolor": "white"
          },
          "hoverlabel": {
           "align": "left"
          },
          "hovermode": "closest",
          "mapbox": {
           "style": "light"
          },
          "paper_bgcolor": "white",
          "plot_bgcolor": "#E5ECF6",
          "polar": {
           "angularaxis": {
            "gridcolor": "white",
            "linecolor": "white",
            "ticks": ""
           },
           "bgcolor": "#E5ECF6",
           "radialaxis": {
            "gridcolor": "white",
            "linecolor": "white",
            "ticks": ""
           }
          },
          "scene": {
           "xaxis": {
            "backgroundcolor": "#E5ECF6",
            "gridcolor": "white",
            "gridwidth": 2,
            "linecolor": "white",
            "showbackground": true,
            "ticks": "",
            "zerolinecolor": "white"
           },
           "yaxis": {
            "backgroundcolor": "#E5ECF6",
            "gridcolor": "white",
            "gridwidth": 2,
            "linecolor": "white",
            "showbackground": true,
            "ticks": "",
            "zerolinecolor": "white"
           },
           "zaxis": {
            "backgroundcolor": "#E5ECF6",
            "gridcolor": "white",
            "gridwidth": 2,
            "linecolor": "white",
            "showbackground": true,
            "ticks": "",
            "zerolinecolor": "white"
           }
          },
          "shapedefaults": {
           "line": {
            "color": "#2a3f5f"
           }
          },
          "ternary": {
           "aaxis": {
            "gridcolor": "white",
            "linecolor": "white",
            "ticks": ""
           },
           "baxis": {
            "gridcolor": "white",
            "linecolor": "white",
            "ticks": ""
           },
           "bgcolor": "#E5ECF6",
           "caxis": {
            "gridcolor": "white",
            "linecolor": "white",
            "ticks": ""
           }
          },
          "title": {
           "x": 0.05
          },
          "xaxis": {
           "automargin": true,
           "gridcolor": "white",
           "linecolor": "white",
           "ticks": "",
           "title": {
            "standoff": 15
           },
           "zerolinecolor": "white",
           "zerolinewidth": 2
          },
          "yaxis": {
           "automargin": true,
           "gridcolor": "white",
           "linecolor": "white",
           "ticks": "",
           "title": {
            "standoff": 15
           },
           "zerolinecolor": "white",
           "zerolinewidth": 2
          }
         }
        },
        "title": {
         "text": "Examine Quad - Solving for V"
        },
        "xaxis": {
         "title": {
          "text": "x "
         }
        },
        "yaxis": {
         "title": {
          "text": "y"
         }
        }
       }
      }
     },
     "metadata": {},
     "output_type": "display_data"
    }
   ],
   "source": [
    "\n",
    "fig = go.Figure()\n",
    "fig.add_trace(go.Scatter(\n",
    "    x=x.magnitude,\n",
    "    y=y.magnitude, \n",
    "    mode='lines+markers',\n",
    "))\n",
    "\n",
    "fig.update_layout(title='Examine Quad - Solving for V',\n",
    "                   xaxis_title='x ',\n",
    "                   yaxis_title='y')"
   ]
  },
  {
   "cell_type": "code",
   "execution_count": 231,
   "metadata": {},
   "outputs": [],
   "source": [
    "def solve_quad(a, b, c):\n",
    "    # a = a\n",
    "    # b = b.magnitude\n",
    "    # c = c.magnitude\n",
    "    print(a,b,c)\n",
    "    d = b ** 2 - 4 * a * c  # this part is called the discriminant\n",
    "\n",
    "    if d < 0:\n",
    "        print(\"The equation has no real solutions\")\n",
    "    elif d == 0:\n",
    "        x = (-b + np.sqrt(b ** 2 - 4 * a * c)) / (2 * a)\n",
    "        print(f\"The equation has one solution: {x} \")\n",
    "        return x\n",
    "    else:\n",
    "        x1 = (-b + np.sqrt(b ** 2 - 4 * a * c)) / (2 * a)\n",
    "        x2 = (-b - np.sqrt(b ** 2 - 4 * a * c)) / (2 * a)\n",
    "        print(f\"The equation has two solutions: {x1} or {x2}\")\n",
    "        return (x1,x2)\n",
    "    "
   ]
  },
  {
   "cell_type": "code",
   "execution_count": 232,
   "metadata": {},
   "outputs": [
    {
     "name": "stdout",
     "output_type": "stream",
     "text": [
      "1 0.5905143620574482 meter / second -21.560000000000002 meter ** 2 / second ** 2\n",
      "The equation has two solutions: 4.357395482017275 meter / second or -4.947909844074723 meter / second\n"
     ]
    },
    {
     "data": {
      "text/plain": [
       "(4.357395482017275 <Unit('meter / second')>,\n",
       " -4.947909844074723 <Unit('meter / second')>)"
      ]
     },
     "execution_count": 232,
     "metadata": {},
     "output_type": "execute_result"
    }
   ],
   "source": [
    "vel_result = solve_quad(a, b, c)\n",
    "\n",
    "vel_result "
   ]
  },
  {
   "cell_type": "code",
   "execution_count": 233,
   "metadata": {},
   "outputs": [],
   "source": [
    "vel = vel_result[0]"
   ]
  },
  {
   "attachments": {},
   "cell_type": "markdown",
   "metadata": {},
   "source": [
    "## volume flow rate"
   ]
  },
  {
   "cell_type": "code",
   "execution_count": 234,
   "metadata": {},
   "outputs": [
    {
     "data": {
      "text/html": [
       "0.012320245471581745 meter<sup>3</sup>/second"
      ],
      "text/latex": [
       "$0.012320245471581745\\ \\frac{\\mathrm{meter}^{3}}{\\mathrm{second}}$"
      ],
      "text/plain": [
       "0.012320245471581745 <Unit('meter ** 3 / second')>"
      ]
     },
     "execution_count": 234,
     "metadata": {},
     "output_type": "execute_result"
    }
   ],
   "source": [
    "# vfr , volume flow rate, m3/s\n",
    "vfr = (vel* math.pi * D**2) / 4\n",
    "vfr"
   ]
  },
  {
   "attachments": {},
   "cell_type": "markdown",
   "metadata": {},
   "source": [
    "## work from the pump "
   ]
  },
  {
   "cell_type": "code",
   "execution_count": 235,
   "metadata": {},
   "outputs": [
    {
     "data": {
      "text/html": [
       "0.004018263596188509 kilogram meter<sup>7</sup>/second<sup>5</sup>"
      ],
      "text/latex": [
       "$0.004018263596188509\\ \\frac{\\mathrm{kilogram} \\cdot \\mathrm{meter}^{7}}{\\mathrm{second}^{5}}$"
      ],
      "text/plain": [
       "0.004018263596188509 <Unit('kilogram * meter ** 7 / second ** 5')>"
      ]
     },
     "execution_count": 235,
     "metadata": {},
     "output_type": "execute_result"
    }
   ],
   "source": [
    "w_pump = (vfr * 64 * mu * L * vel) / 2 * D**2 * g\n",
    "w_pump"
   ]
  }
 ],
 "metadata": {
  "kernelspec": {
   "display_name": "classenv",
   "language": "python",
   "name": "python3"
  },
  "language_info": {
   "codemirror_mode": {
    "name": "ipython",
    "version": 3
   },
   "file_extension": ".py",
   "mimetype": "text/x-python",
   "name": "python",
   "nbconvert_exporter": "python",
   "pygments_lexer": "ipython3",
   "version": "3.9.15"
  },
  "orig_nbformat": 4,
  "vscode": {
   "interpreter": {
    "hash": "b5427df08fa9462ce49012024a0cee8fab38196eae0b5512946c62eeb41cd97e"
   }
  }
 },
 "nbformat": 4,
 "nbformat_minor": 2
}
