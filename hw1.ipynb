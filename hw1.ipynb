{
 "cells": [
  {
   "cell_type": "code",
   "execution_count": 141,
   "metadata": {},
   "outputs": [],
   "source": [
    "import numpy as np\n",
    "import math\n",
    "\n",
    "import plotly.express as px\n",
    "import plotly.graph_objects as go\n",
    "from plotly.subplots import make_subplots\n",
    "\n",
    "from pint import UnitRegistry"
   ]
  },
  {
   "attachments": {},
   "cell_type": "markdown",
   "metadata": {},
   "source": [
    "## constants\n",
    "\n",
    "- source: fluid properties https://www.climate-policy-watcher.org/wastewater-sludge/physical-and-biological-properties.html"
   ]
  },
  {
   "cell_type": "code",
   "execution_count": 176,
   "metadata": {},
   "outputs": [],
   "source": [
    "u = UnitRegistry()\n",
    "kg = u.kilogram\n",
    "m = u.meter \n",
    "s = u.second\n"
   ]
  },
  {
   "cell_type": "code",
   "execution_count": 267,
   "metadata": {},
   "outputs": [],
   "source": [
    "def constants(rho, mu,  D, h, beta, override=False, perc_grade=0.015, alpha=2, g=9.8):\n",
    "\n",
    "    # -----> to calculate pipe length, L\n",
    "    \n",
    "    h =  h * m\n",
    "    beta = beta * m \n",
    "    H = h + beta \n",
    "\n",
    "    # max grade, slope s\n",
    "    perc_grade = 0.015 \n",
    "\n",
    "    # pipe horz distance travelled, x \n",
    "    x = h / perc_grade\n",
    "\n",
    "    # angle required, theta \n",
    "    # TODO check if this is h/x or x/h \n",
    "    theta = np.rad2deg(np.arctan(x/h))\n",
    "\n",
    "    # pipe length, L\n",
    "    L = x / np.sin(theta) # m\n",
    "    \n",
    "    c = {\n",
    "        # --- fluid ---------------> \n",
    "        # density of primary sludge\n",
    "        \"rho\": rho * kg / (m**3),\n",
    "        # dynamic viscosity\n",
    "        \"mu\": mu * kg / (m*s),\n",
    "        # ---- infra ------------->\n",
    "        # pipe diameter \n",
    "        \"D\": D * m,  \n",
    "        # lift height, h \n",
    "        \"h\": h,\n",
    "        # tank height, beta \n",
    "        \"beta\": beta,\n",
    "        # total height dif\n",
    "        \"H\": H,\n",
    "        # total horz distance \n",
    "        \"x \": x,\n",
    "        # angle \n",
    "        \"theta\": theta,\n",
    "        # pipe length \n",
    "        \"L\": L,\n",
    "        # ---- physics ----------->\n",
    "        \"g\": g * m / (s**2),\n",
    "        \"alpha\": alpha\n",
    "        \n",
    "    }\n",
    "\n",
    "    if override:\n",
    "        # use values from the Cengel example 8.1\n",
    "        c[\"rho\"] = 998 * kg / (m**3)\n",
    "        c[\"mu\"] = 0.00102 * kg / (m*s)\n",
    "        c[\"D\"] = 0.06 * m  \n",
    "        c[\"L\"] = 65 * m \n",
    "        c[\"H\"] = 2.20 * m \n",
    "\n",
    "    return c\n",
    "\n"
   ]
  },
  {
   "cell_type": "code",
   "execution_count": 245,
   "metadata": {},
   "outputs": [
    {
     "data": {
      "text/plain": [
       "{'rho': 998.0 <Unit('kilogram / meter ** 3')>,\n",
       " 'mu': 0.00102 <Unit('kilogram / meter / second')>,\n",
       " 'D': 0.06 <Unit('meter')>,\n",
       " 'h': 1 <Unit('meter')>,\n",
       " 'beta': 1 <Unit('meter')>,\n",
       " 'H': 2.2 <Unit('meter')>,\n",
       " 'x ': 66.66666666666667,\n",
       " 'theta': 89.14062775635531,\n",
       " 'L': 65 <Unit('meter')>,\n",
       " 'g': 9.8 <Unit('meter / second ** 2')>,\n",
       " 'alpha': 2}"
      ]
     },
     "execution_count": 245,
     "metadata": {},
     "output_type": "execute_result"
    }
   ],
   "source": [
    "# example constants \n",
    "ex_c = constants(1, 1,  1, 1, 1, override=True)\n",
    "ex_c"
   ]
  },
  {
   "cell_type": "code",
   "execution_count": 268,
   "metadata": {},
   "outputs": [
    {
     "data": {
      "text/plain": [
       "{'rho': 1000.0 <Unit('kilogram / meter ** 3')>,\n",
       " 'mu': 0.5 <Unit('kilogram / meter / second')>,\n",
       " 'D': 0.1 <Unit('meter')>,\n",
       " 'h': 1.1 <Unit('meter')>,\n",
       " 'beta': 1.1 <Unit('meter')>,\n",
       " 'H': 2.2 <Unit('meter')>,\n",
       " 'x ': 73.33333333333334 <Unit('meter')>,\n",
       " 'theta': 89.14062775635531 <Unit('degree')>,\n",
       " 'L': 73.34158286932303 <Unit('meter')>,\n",
       " 'g': 9.8 <Unit('meter / second ** 2')>,\n",
       " 'alpha': 2}"
      ]
     },
     "execution_count": 268,
     "metadata": {},
     "output_type": "execute_result"
    }
   ],
   "source": [
    "# real constants \n",
    "# density of primary sludge => 1.0 -> 1.03 g/cm3 =>=> 1000 kg/m3 -> 1030 kg/m3\n",
    "# dynamic viscosity => 0.5 and 2 Pa*s  ~ kg/(m*s)\n",
    "rc = constants(1000, 0.5, 0.1, 1.1, 1.1 )\n",
    "rc"
   ]
  },
  {
   "attachments": {},
   "cell_type": "markdown",
   "metadata": {},
   "source": [
    "# calculations"
   ]
  },
  {
   "cell_type": "code",
   "execution_count": 270,
   "metadata": {},
   "outputs": [],
   "source": [
    "# set constants \n",
    "d = rc"
   ]
  },
  {
   "cell_type": "code",
   "execution_count": 271,
   "metadata": {},
   "outputs": [
    {
     "name": "stdout",
     "output_type": "stream",
     "text": [
      "{'a': 1, 'b': <Quantity(117.346533, 'meter / second')>, 'c': <Quantity(-21.56, 'meter ** 2 / second ** 2')>}\n"
     ]
    }
   ],
   "source": [
    "a = 1\n",
    "b = (64 * d[\"mu\"] * d[\"L\"] ) / (d[\"rho\"] * d[\"D\"]**2 * d[\"alpha\"] )\n",
    "c =  -(2 * d[\"g\"] * d[\"H\"]) / (d[\"alpha\"])\n",
    "\n",
    "coeff = {\n",
    "    \"a\": a,\n",
    "    \"b\": b,\n",
    "    \"c\": c\n",
    "}\n",
    "\n",
    "print(coeff)"
   ]
  },
  {
   "attachments": {},
   "cell_type": "markdown",
   "metadata": {},
   "source": [
    "## plot"
   ]
  },
  {
   "cell_type": "code",
   "execution_count": 276,
   "metadata": {},
   "outputs": [
    {
     "data": {
      "text/html": [
       "-1756.213259091683 meter<sup>2</sup>/second<sup>2</sup>"
      ],
      "text/latex": [
       "$-1756.213259091683\\ \\frac{\\mathrm{meter}^{2}}{\\mathrm{second}^{2}}$"
      ],
      "text/plain": [
       "-1756.213259091683 <Unit('meter ** 2 / second ** 2')>"
      ]
     },
     "execution_count": 276,
     "metadata": {},
     "output_type": "execute_result"
    }
   ],
   "source": [
    "x =  np.linspace(-100, 100, 100)  * m / s\n",
    "\n",
    "y = (a * x**2) + (b * x) + c\n",
    "\n",
    "y[0]\n"
   ]
  },
  {
   "cell_type": "code",
   "execution_count": 277,
   "metadata": {},
   "outputs": [
    {
     "data": {
      "application/vnd.plotly.v1+json": {
       "config": {
        "plotlyServerURL": "https://plotly.com"
       },
       "data": [
        {
         "mode": "lines+markers",
         "type": "scatter",
         "x": [
          -100,
          -97.97979797979798,
          -95.95959595959596,
          -93.93939393939394,
          -91.91919191919192,
          -89.8989898989899,
          -87.87878787878788,
          -85.85858585858585,
          -83.83838383838383,
          -81.81818181818181,
          -79.79797979797979,
          -77.77777777777777,
          -75.75757575757575,
          -73.73737373737373,
          -71.71717171717171,
          -69.69696969696969,
          -67.67676767676767,
          -65.65656565656565,
          -63.63636363636363,
          -61.61616161616161,
          -59.59595959595959,
          -57.57575757575757,
          -55.55555555555555,
          -53.53535353535353,
          -51.515151515151516,
          -49.494949494949495,
          -47.474747474747474,
          -45.45454545454545,
          -43.43434343434343,
          -41.41414141414141,
          -39.39393939393939,
          -37.37373737373737,
          -35.35353535353535,
          -33.33333333333333,
          -31.313131313131308,
          -29.292929292929287,
          -27.272727272727266,
          -25.252525252525245,
          -23.232323232323225,
          -21.212121212121204,
          -19.191919191919183,
          -17.171717171717162,
          -15.151515151515142,
          -13.13131313131312,
          -11.1111111111111,
          -9.09090909090908,
          -7.0707070707070585,
          -5.050505050505038,
          -3.030303030303031,
          -1.0101010101010104,
          1.0101010101010104,
          3.030303030303031,
          5.050505050505052,
          7.070707070707073,
          9.090909090909093,
          11.111111111111114,
          13.131313131313135,
          15.151515151515156,
          17.171717171717177,
          19.191919191919197,
          21.212121212121218,
          23.23232323232324,
          25.25252525252526,
          27.27272727272728,
          29.2929292929293,
          31.313131313131322,
          33.33333333333334,
          35.353535353535364,
          37.373737373737384,
          39.393939393939405,
          41.414141414141426,
          43.43434343434345,
          45.45454545454547,
          47.47474747474749,
          49.49494949494951,
          51.51515151515153,
          53.53535353535355,
          55.55555555555557,
          57.57575757575759,
          59.59595959595961,
          61.616161616161634,
          63.636363636363654,
          65.65656565656568,
          67.6767676767677,
          69.69696969696972,
          71.71717171717174,
          73.73737373737376,
          75.75757575757578,
          77.7777777777778,
          79.79797979797982,
          81.81818181818184,
          83.83838383838386,
          85.85858585858588,
          87.8787878787879,
          89.89898989898992,
          91.91919191919195,
          93.93939393939394,
          95.95959595959596,
          97.97979797979798,
          100
         ],
         "y": [
          -1756.213259091683,
          -1919.1087447257873,
          -2073.8417979550345,
          -2220.4124187794228,
          -2358.8206071989575,
          -2489.0663632136334,
          -2611.149686823454,
          -2725.0705780284184,
          -2830.829036828524,
          -2928.425063223774,
          -3017.858657214169,
          -3099.129818799704,
          -3172.2385479803847,
          -3237.1848447562093,
          -3293.968709127175,
          -3342.590141093286,
          -3383.0491406545393,
          -3415.3457078109363,
          -3439.4798425624763,
          -3455.4515449091605,
          -3463.260814850987,
          -3462.907652387957,
          -3454.392057520071,
          -3437.7140302473285,
          -3412.8735705697286,
          -3379.8706784872725,
          -3338.7053539999592,
          -3289.3775971077903,
          -3231.887407810764,
          -3166.2347861088806,
          -3092.419732002141,
          -3010.4422454905457,
          -2920.3023265740926,
          -2821.9999752527833,
          -2715.535191526617,
          -2600.9079753955943,
          -2478.1183268597147,
          -2347.166245918979,
          -2208.051732573386,
          -2060.774786822937,
          -1905.3354086676306,
          -1741.7335981074682,
          -1569.9693551424489,
          -1390.042679772573,
          -1201.9535719978403,
          -1005.702031818251,
          -801.2880592338051,
          -588.7116542445026,
          -367.972816850345,
          -139.07154705132916,
          97.9921551525433,
          343.21828976127244,
          596.6068567748582,
          858.1578561933006,
          1127.8712880165997,
          1405.7471522447554,
          1691.7854488777677,
          1985.986177915637,
          2288.3493393583626,
          2598.8749332059447,
          2917.562959458384,
          3244.4134181156796,
          3579.4263091778316,
          3922.6016326448407,
          4273.939388516706,
          4633.439576793428,
          5001.1021974750065,
          5376.927250561443,
          5760.914736052735,
          6153.0646539488835,
          6553.377004249889,
          6961.851786955752,
          7378.48900206647,
          7803.288649582045,
          8236.250729502479,
          8677.375241827767,
          9126.662186557913,
          9584.111563692915,
          10049.723373232773,
          10523.497615177488,
          11005.43428952706,
          11495.53339628149,
          11993.794935440774,
          12500.218907004917,
          13014.805310973914,
          13537.55414734777,
          14068.465416126483,
          14607.539117310052,
          15154.775250898476,
          15710.173816891756,
          16273.734815289898,
          16845.45824609289,
          17425.344109300742,
          18013.39240491345,
          18609.603132931017,
          19213.97629335344,
          19826.51188618071,
          20447.209911412843,
          21076.070369049834,
          21713.093259091682
         ]
        }
       ],
       "layout": {
        "template": {
         "data": {
          "bar": [
           {
            "error_x": {
             "color": "#2a3f5f"
            },
            "error_y": {
             "color": "#2a3f5f"
            },
            "marker": {
             "line": {
              "color": "#E5ECF6",
              "width": 0.5
             },
             "pattern": {
              "fillmode": "overlay",
              "size": 10,
              "solidity": 0.2
             }
            },
            "type": "bar"
           }
          ],
          "barpolar": [
           {
            "marker": {
             "line": {
              "color": "#E5ECF6",
              "width": 0.5
             },
             "pattern": {
              "fillmode": "overlay",
              "size": 10,
              "solidity": 0.2
             }
            },
            "type": "barpolar"
           }
          ],
          "carpet": [
           {
            "aaxis": {
             "endlinecolor": "#2a3f5f",
             "gridcolor": "white",
             "linecolor": "white",
             "minorgridcolor": "white",
             "startlinecolor": "#2a3f5f"
            },
            "baxis": {
             "endlinecolor": "#2a3f5f",
             "gridcolor": "white",
             "linecolor": "white",
             "minorgridcolor": "white",
             "startlinecolor": "#2a3f5f"
            },
            "type": "carpet"
           }
          ],
          "choropleth": [
           {
            "colorbar": {
             "outlinewidth": 0,
             "ticks": ""
            },
            "type": "choropleth"
           }
          ],
          "contour": [
           {
            "colorbar": {
             "outlinewidth": 0,
             "ticks": ""
            },
            "colorscale": [
             [
              0,
              "#0d0887"
             ],
             [
              0.1111111111111111,
              "#46039f"
             ],
             [
              0.2222222222222222,
              "#7201a8"
             ],
             [
              0.3333333333333333,
              "#9c179e"
             ],
             [
              0.4444444444444444,
              "#bd3786"
             ],
             [
              0.5555555555555556,
              "#d8576b"
             ],
             [
              0.6666666666666666,
              "#ed7953"
             ],
             [
              0.7777777777777778,
              "#fb9f3a"
             ],
             [
              0.8888888888888888,
              "#fdca26"
             ],
             [
              1,
              "#f0f921"
             ]
            ],
            "type": "contour"
           }
          ],
          "contourcarpet": [
           {
            "colorbar": {
             "outlinewidth": 0,
             "ticks": ""
            },
            "type": "contourcarpet"
           }
          ],
          "heatmap": [
           {
            "colorbar": {
             "outlinewidth": 0,
             "ticks": ""
            },
            "colorscale": [
             [
              0,
              "#0d0887"
             ],
             [
              0.1111111111111111,
              "#46039f"
             ],
             [
              0.2222222222222222,
              "#7201a8"
             ],
             [
              0.3333333333333333,
              "#9c179e"
             ],
             [
              0.4444444444444444,
              "#bd3786"
             ],
             [
              0.5555555555555556,
              "#d8576b"
             ],
             [
              0.6666666666666666,
              "#ed7953"
             ],
             [
              0.7777777777777778,
              "#fb9f3a"
             ],
             [
              0.8888888888888888,
              "#fdca26"
             ],
             [
              1,
              "#f0f921"
             ]
            ],
            "type": "heatmap"
           }
          ],
          "heatmapgl": [
           {
            "colorbar": {
             "outlinewidth": 0,
             "ticks": ""
            },
            "colorscale": [
             [
              0,
              "#0d0887"
             ],
             [
              0.1111111111111111,
              "#46039f"
             ],
             [
              0.2222222222222222,
              "#7201a8"
             ],
             [
              0.3333333333333333,
              "#9c179e"
             ],
             [
              0.4444444444444444,
              "#bd3786"
             ],
             [
              0.5555555555555556,
              "#d8576b"
             ],
             [
              0.6666666666666666,
              "#ed7953"
             ],
             [
              0.7777777777777778,
              "#fb9f3a"
             ],
             [
              0.8888888888888888,
              "#fdca26"
             ],
             [
              1,
              "#f0f921"
             ]
            ],
            "type": "heatmapgl"
           }
          ],
          "histogram": [
           {
            "marker": {
             "pattern": {
              "fillmode": "overlay",
              "size": 10,
              "solidity": 0.2
             }
            },
            "type": "histogram"
           }
          ],
          "histogram2d": [
           {
            "colorbar": {
             "outlinewidth": 0,
             "ticks": ""
            },
            "colorscale": [
             [
              0,
              "#0d0887"
             ],
             [
              0.1111111111111111,
              "#46039f"
             ],
             [
              0.2222222222222222,
              "#7201a8"
             ],
             [
              0.3333333333333333,
              "#9c179e"
             ],
             [
              0.4444444444444444,
              "#bd3786"
             ],
             [
              0.5555555555555556,
              "#d8576b"
             ],
             [
              0.6666666666666666,
              "#ed7953"
             ],
             [
              0.7777777777777778,
              "#fb9f3a"
             ],
             [
              0.8888888888888888,
              "#fdca26"
             ],
             [
              1,
              "#f0f921"
             ]
            ],
            "type": "histogram2d"
           }
          ],
          "histogram2dcontour": [
           {
            "colorbar": {
             "outlinewidth": 0,
             "ticks": ""
            },
            "colorscale": [
             [
              0,
              "#0d0887"
             ],
             [
              0.1111111111111111,
              "#46039f"
             ],
             [
              0.2222222222222222,
              "#7201a8"
             ],
             [
              0.3333333333333333,
              "#9c179e"
             ],
             [
              0.4444444444444444,
              "#bd3786"
             ],
             [
              0.5555555555555556,
              "#d8576b"
             ],
             [
              0.6666666666666666,
              "#ed7953"
             ],
             [
              0.7777777777777778,
              "#fb9f3a"
             ],
             [
              0.8888888888888888,
              "#fdca26"
             ],
             [
              1,
              "#f0f921"
             ]
            ],
            "type": "histogram2dcontour"
           }
          ],
          "mesh3d": [
           {
            "colorbar": {
             "outlinewidth": 0,
             "ticks": ""
            },
            "type": "mesh3d"
           }
          ],
          "parcoords": [
           {
            "line": {
             "colorbar": {
              "outlinewidth": 0,
              "ticks": ""
             }
            },
            "type": "parcoords"
           }
          ],
          "pie": [
           {
            "automargin": true,
            "type": "pie"
           }
          ],
          "scatter": [
           {
            "fillpattern": {
             "fillmode": "overlay",
             "size": 10,
             "solidity": 0.2
            },
            "type": "scatter"
           }
          ],
          "scatter3d": [
           {
            "line": {
             "colorbar": {
              "outlinewidth": 0,
              "ticks": ""
             }
            },
            "marker": {
             "colorbar": {
              "outlinewidth": 0,
              "ticks": ""
             }
            },
            "type": "scatter3d"
           }
          ],
          "scattercarpet": [
           {
            "marker": {
             "colorbar": {
              "outlinewidth": 0,
              "ticks": ""
             }
            },
            "type": "scattercarpet"
           }
          ],
          "scattergeo": [
           {
            "marker": {
             "colorbar": {
              "outlinewidth": 0,
              "ticks": ""
             }
            },
            "type": "scattergeo"
           }
          ],
          "scattergl": [
           {
            "marker": {
             "colorbar": {
              "outlinewidth": 0,
              "ticks": ""
             }
            },
            "type": "scattergl"
           }
          ],
          "scattermapbox": [
           {
            "marker": {
             "colorbar": {
              "outlinewidth": 0,
              "ticks": ""
             }
            },
            "type": "scattermapbox"
           }
          ],
          "scatterpolar": [
           {
            "marker": {
             "colorbar": {
              "outlinewidth": 0,
              "ticks": ""
             }
            },
            "type": "scatterpolar"
           }
          ],
          "scatterpolargl": [
           {
            "marker": {
             "colorbar": {
              "outlinewidth": 0,
              "ticks": ""
             }
            },
            "type": "scatterpolargl"
           }
          ],
          "scatterternary": [
           {
            "marker": {
             "colorbar": {
              "outlinewidth": 0,
              "ticks": ""
             }
            },
            "type": "scatterternary"
           }
          ],
          "surface": [
           {
            "colorbar": {
             "outlinewidth": 0,
             "ticks": ""
            },
            "colorscale": [
             [
              0,
              "#0d0887"
             ],
             [
              0.1111111111111111,
              "#46039f"
             ],
             [
              0.2222222222222222,
              "#7201a8"
             ],
             [
              0.3333333333333333,
              "#9c179e"
             ],
             [
              0.4444444444444444,
              "#bd3786"
             ],
             [
              0.5555555555555556,
              "#d8576b"
             ],
             [
              0.6666666666666666,
              "#ed7953"
             ],
             [
              0.7777777777777778,
              "#fb9f3a"
             ],
             [
              0.8888888888888888,
              "#fdca26"
             ],
             [
              1,
              "#f0f921"
             ]
            ],
            "type": "surface"
           }
          ],
          "table": [
           {
            "cells": {
             "fill": {
              "color": "#EBF0F8"
             },
             "line": {
              "color": "white"
             }
            },
            "header": {
             "fill": {
              "color": "#C8D4E3"
             },
             "line": {
              "color": "white"
             }
            },
            "type": "table"
           }
          ]
         },
         "layout": {
          "annotationdefaults": {
           "arrowcolor": "#2a3f5f",
           "arrowhead": 0,
           "arrowwidth": 1
          },
          "autotypenumbers": "strict",
          "coloraxis": {
           "colorbar": {
            "outlinewidth": 0,
            "ticks": ""
           }
          },
          "colorscale": {
           "diverging": [
            [
             0,
             "#8e0152"
            ],
            [
             0.1,
             "#c51b7d"
            ],
            [
             0.2,
             "#de77ae"
            ],
            [
             0.3,
             "#f1b6da"
            ],
            [
             0.4,
             "#fde0ef"
            ],
            [
             0.5,
             "#f7f7f7"
            ],
            [
             0.6,
             "#e6f5d0"
            ],
            [
             0.7,
             "#b8e186"
            ],
            [
             0.8,
             "#7fbc41"
            ],
            [
             0.9,
             "#4d9221"
            ],
            [
             1,
             "#276419"
            ]
           ],
           "sequential": [
            [
             0,
             "#0d0887"
            ],
            [
             0.1111111111111111,
             "#46039f"
            ],
            [
             0.2222222222222222,
             "#7201a8"
            ],
            [
             0.3333333333333333,
             "#9c179e"
            ],
            [
             0.4444444444444444,
             "#bd3786"
            ],
            [
             0.5555555555555556,
             "#d8576b"
            ],
            [
             0.6666666666666666,
             "#ed7953"
            ],
            [
             0.7777777777777778,
             "#fb9f3a"
            ],
            [
             0.8888888888888888,
             "#fdca26"
            ],
            [
             1,
             "#f0f921"
            ]
           ],
           "sequentialminus": [
            [
             0,
             "#0d0887"
            ],
            [
             0.1111111111111111,
             "#46039f"
            ],
            [
             0.2222222222222222,
             "#7201a8"
            ],
            [
             0.3333333333333333,
             "#9c179e"
            ],
            [
             0.4444444444444444,
             "#bd3786"
            ],
            [
             0.5555555555555556,
             "#d8576b"
            ],
            [
             0.6666666666666666,
             "#ed7953"
            ],
            [
             0.7777777777777778,
             "#fb9f3a"
            ],
            [
             0.8888888888888888,
             "#fdca26"
            ],
            [
             1,
             "#f0f921"
            ]
           ]
          },
          "colorway": [
           "#636efa",
           "#EF553B",
           "#00cc96",
           "#ab63fa",
           "#FFA15A",
           "#19d3f3",
           "#FF6692",
           "#B6E880",
           "#FF97FF",
           "#FECB52"
          ],
          "font": {
           "color": "#2a3f5f"
          },
          "geo": {
           "bgcolor": "white",
           "lakecolor": "white",
           "landcolor": "#E5ECF6",
           "showlakes": true,
           "showland": true,
           "subunitcolor": "white"
          },
          "hoverlabel": {
           "align": "left"
          },
          "hovermode": "closest",
          "mapbox": {
           "style": "light"
          },
          "paper_bgcolor": "white",
          "plot_bgcolor": "#E5ECF6",
          "polar": {
           "angularaxis": {
            "gridcolor": "white",
            "linecolor": "white",
            "ticks": ""
           },
           "bgcolor": "#E5ECF6",
           "radialaxis": {
            "gridcolor": "white",
            "linecolor": "white",
            "ticks": ""
           }
          },
          "scene": {
           "xaxis": {
            "backgroundcolor": "#E5ECF6",
            "gridcolor": "white",
            "gridwidth": 2,
            "linecolor": "white",
            "showbackground": true,
            "ticks": "",
            "zerolinecolor": "white"
           },
           "yaxis": {
            "backgroundcolor": "#E5ECF6",
            "gridcolor": "white",
            "gridwidth": 2,
            "linecolor": "white",
            "showbackground": true,
            "ticks": "",
            "zerolinecolor": "white"
           },
           "zaxis": {
            "backgroundcolor": "#E5ECF6",
            "gridcolor": "white",
            "gridwidth": 2,
            "linecolor": "white",
            "showbackground": true,
            "ticks": "",
            "zerolinecolor": "white"
           }
          },
          "shapedefaults": {
           "line": {
            "color": "#2a3f5f"
           }
          },
          "ternary": {
           "aaxis": {
            "gridcolor": "white",
            "linecolor": "white",
            "ticks": ""
           },
           "baxis": {
            "gridcolor": "white",
            "linecolor": "white",
            "ticks": ""
           },
           "bgcolor": "#E5ECF6",
           "caxis": {
            "gridcolor": "white",
            "linecolor": "white",
            "ticks": ""
           }
          },
          "title": {
           "x": 0.05
          },
          "xaxis": {
           "automargin": true,
           "gridcolor": "white",
           "linecolor": "white",
           "ticks": "",
           "title": {
            "standoff": 15
           },
           "zerolinecolor": "white",
           "zerolinewidth": 2
          },
          "yaxis": {
           "automargin": true,
           "gridcolor": "white",
           "linecolor": "white",
           "ticks": "",
           "title": {
            "standoff": 15
           },
           "zerolinecolor": "white",
           "zerolinewidth": 2
          }
         }
        },
        "title": {
         "text": "Examine Quad - Solving for V"
        },
        "xaxis": {
         "title": {
          "text": "x "
         }
        },
        "yaxis": {
         "title": {
          "text": "y"
         }
        }
       }
      }
     },
     "metadata": {},
     "output_type": "display_data"
    }
   ],
   "source": [
    "\n",
    "fig = go.Figure()\n",
    "fig.add_trace(go.Scatter(\n",
    "    x=x.magnitude,\n",
    "    y=y.magnitude, \n",
    "    mode='lines+markers',\n",
    "))\n",
    "\n",
    "fig.update_layout(title='Examine Quad - Solving for V',\n",
    "                   xaxis_title='x ',\n",
    "                   yaxis_title='y')"
   ]
  },
  {
   "cell_type": "code",
   "execution_count": 278,
   "metadata": {},
   "outputs": [],
   "source": [
    "def solve_quad(a, b, c):\n",
    "    # a = a\n",
    "    # b = b.magnitude\n",
    "    # c = c.magnitude\n",
    "    print(a,b,c)\n",
    "    d = b ** 2 - 4 * a * c  # this part is called the discriminant\n",
    "\n",
    "    if d < 0:\n",
    "        print(\"The equation has no real solutions\")\n",
    "    elif d == 0:\n",
    "        x = (-b + np.sqrt(b ** 2 - 4 * a * c)) / (2 * a)\n",
    "        print(f\"The equation has one solution: {x} \")\n",
    "        return x\n",
    "    else:\n",
    "        x1 = (-b + np.sqrt(b ** 2 - 4 * a * c)) / (2 * a)\n",
    "        x2 = (-b - np.sqrt(b ** 2 - 4 * a * c)) / (2 * a)\n",
    "        print(f\"The equation has two solutions: {x1} or {x2}\")\n",
    "        return (x1,x2)\n",
    "    "
   ]
  },
  {
   "cell_type": "code",
   "execution_count": 279,
   "metadata": {},
   "outputs": [
    {
     "name": "stdout",
     "output_type": "stream",
     "text": [
      "1 117.34653259091684 meter / second -21.560000000000002 meter ** 2 / second ** 2\n",
      "The equation has two solutions: 0.18344256409111637 meter / second or -117.52997515500795 meter / second\n"
     ]
    },
    {
     "data": {
      "text/plain": [
       "(0.18344256409111637 <Unit('meter / second')>,\n",
       " -117.52997515500795 <Unit('meter / second')>)"
      ]
     },
     "execution_count": 279,
     "metadata": {},
     "output_type": "execute_result"
    }
   ],
   "source": [
    "vel_result = solve_quad(a, b, c)\n",
    "\n",
    "vel_result "
   ]
  },
  {
   "cell_type": "code",
   "execution_count": 295,
   "metadata": {},
   "outputs": [
    {
     "data": {
      "text/html": [
       "0.18344256409111637 meter/second"
      ],
      "text/latex": [
       "$0.18344256409111637\\ \\frac{\\mathrm{meter}}{\\mathrm{second}}$"
      ],
      "text/plain": [
       "0.18344256409111637 <Unit('meter / second')>"
      ]
     },
     "execution_count": 295,
     "metadata": {},
     "output_type": "execute_result"
    }
   ],
   "source": [
    "vel = vel_result[0]\n",
    "vel"
   ]
  },
  {
   "attachments": {},
   "cell_type": "markdown",
   "metadata": {},
   "source": [
    "## volume flow rate"
   ]
  },
  {
   "cell_type": "code",
   "execution_count": 283,
   "metadata": {},
   "outputs": [
    {
     "data": {
      "text/html": [
       "0.0014407545292608151 meter<sup>3</sup>/second"
      ],
      "text/latex": [
       "$0.0014407545292608151\\ \\frac{\\mathrm{meter}^{3}}{\\mathrm{second}}$"
      ],
      "text/plain": [
       "0.0014407545292608151 <Unit('meter ** 3 / second')>"
      ]
     },
     "execution_count": 283,
     "metadata": {},
     "output_type": "execute_result"
    }
   ],
   "source": [
    "# # vfr , volume flow rate, m3/s\n",
    "vfr = (vel* math.pi * d[\"D\"]**2) / 4\n",
    "vfr"
   ]
  },
  {
   "attachments": {},
   "cell_type": "markdown",
   "metadata": {},
   "source": [
    "## work from the pump "
   ]
  },
  {
   "cell_type": "code",
   "execution_count": 284,
   "metadata": {},
   "outputs": [
    {
     "data": {
      "text/html": [
       "36.68851281822327 dimensionless"
      ],
      "text/latex": [
       "$36.68851281822327\\ dimensionless$"
      ],
      "text/plain": [
       "36.68851281822327 <Unit('dimensionless')>"
      ]
     },
     "execution_count": 284,
     "metadata": {},
     "output_type": "execute_result"
    }
   ],
   "source": [
    "Re = (d[\"rho\"]*vel*d[\"D\"]) / d[\"mu\"]\n",
    "Re"
   ]
  },
  {
   "cell_type": "code",
   "execution_count": 286,
   "metadata": {},
   "outputs": [
    {
     "data": {
      "text/html": [
       "1.7444152156587565 dimensionless"
      ],
      "text/latex": [
       "$1.7444152156587565\\ dimensionless$"
      ],
      "text/plain": [
       "1.7444152156587565 <Unit('dimensionless')>"
      ]
     },
     "execution_count": 286,
     "metadata": {},
     "output_type": "execute_result"
    }
   ],
   "source": [
    "f = 64/ Re\n",
    "f"
   ]
  },
  {
   "cell_type": "code",
   "execution_count": 296,
   "metadata": {},
   "outputs": [
    {
     "data": {
      "text/html": [
       "0.033651174320323336 meter<sup>2</sup>/second<sup>2</sup>"
      ],
      "text/latex": [
       "$0.033651174320323336\\ \\frac{\\mathrm{meter}^{2}}{\\mathrm{second}^{2}}$"
      ],
      "text/plain": [
       "0.033651174320323336 <Unit('meter ** 2 / second ** 2')>"
      ]
     },
     "execution_count": 296,
     "metadata": {},
     "output_type": "execute_result"
    }
   ],
   "source": [
    "vel**2"
   ]
  },
  {
   "cell_type": "code",
   "execution_count": 304,
   "metadata": {},
   "outputs": [
    {
     "data": {
      "text/html": [
       "2.196566206701994 meter"
      ],
      "text/latex": [
       "$2.196566206701994\\ \\mathrm{meter}$"
      ],
      "text/plain": [
       "2.196566206701994 <Unit('meter')>"
      ]
     },
     "execution_count": 304,
     "metadata": {},
     "output_type": "execute_result"
    }
   ],
   "source": [
    "h_l = f * (d[\"L\"] / d[\"D\"]) *  0.5*((vel**2) / d[\"g\"])\n",
    "h_l"
   ]
  },
  {
   "cell_type": "code",
   "execution_count": 305,
   "metadata": {},
   "outputs": [
    {
     "data": {
      "text/html": [
       "31.01418456904603 kilogram meter<sup>2</sup>/second<sup>3</sup>"
      ],
      "text/latex": [
       "$31.01418456904603\\ \\frac{\\mathrm{kilogram} \\cdot \\mathrm{meter}^{2}}{\\mathrm{second}^{3}}$"
      ],
      "text/plain": [
       "31.01418456904603 <Unit('kilogram * meter ** 2 / second ** 3')>"
      ]
     },
     "execution_count": 305,
     "metadata": {},
     "output_type": "execute_result"
    }
   ],
   "source": [
    "# rate of pump work -> kg m2/s^3 (Watts)\n",
    "w_pump = vfr * d[\"rho\"] * d[\"g\"] * h_l\n",
    "w_pump"
   ]
  }
 ],
 "metadata": {
  "kernelspec": {
   "display_name": "classenv",
   "language": "python",
   "name": "python3"
  },
  "language_info": {
   "codemirror_mode": {
    "name": "ipython",
    "version": 3
   },
   "file_extension": ".py",
   "mimetype": "text/x-python",
   "name": "python",
   "nbconvert_exporter": "python",
   "pygments_lexer": "ipython3",
   "version": "3.9.15"
  },
  "orig_nbformat": 4,
  "vscode": {
   "interpreter": {
    "hash": "b5427df08fa9462ce49012024a0cee8fab38196eae0b5512946c62eeb41cd97e"
   }
  }
 },
 "nbformat": 4,
 "nbformat_minor": 2
}
